{
 "cells": [
  {
   "cell_type": "markdown",
   "metadata": {},
   "source": [
    "                             Machine Learning Course\n",
    "\n",
    "Michela Dell'Alma"
   ]
  },
  {
   "cell_type": "markdown",
   "metadata": {},
   "source": [
    "                          Protein Expression in Mice with Down Syndrome          "
   ]
  },
  {
   "cell_type": "code",
   "execution_count": 12,
   "metadata": {},
   "outputs": [],
   "source": [
    "from IPython.core.interactiveshell import InteractiveShell\n",
    "InteractiveShell.ast_node_interactivity = \"all\"\n",
    "\n",
    "import matplotlib.pyplot as plt\n",
    "import seaborn as sns\n",
    "import pandas as pd\n",
    "import numpy as np\n",
    "import sklearn\n",
    "import scipy\n",
    "import matplotlib.cm as cm\n",
    "import matplotlib.colors as mcolors\n",
    "\n",
    "import random\n",
    "np.random.seed(0)\n",
    "np.random.seed(0)"
   ]
  },
  {
   "cell_type": "markdown",
   "metadata": {},
   "source": [
    "# 1. Preliminary analysis\n",
    "\n",
    "### Exploratory data analysis (EDA)"
   ]
  },
  {
   "cell_type": "markdown",
   "metadata": {},
   "source": [
    "Preliminary analysis only on the training data. \n",
    "\n",
    "Conversion of the table in pandas dataframe."
   ]
  },
  {
   "cell_type": "code",
   "execution_count": 13,
   "metadata": {},
   "outputs": [
    {
     "data": {
      "text/html": [
       "<div>\n",
       "<style scoped>\n",
       "    .dataframe tbody tr th:only-of-type {\n",
       "        vertical-align: middle;\n",
       "    }\n",
       "\n",
       "    .dataframe tbody tr th {\n",
       "        vertical-align: top;\n",
       "    }\n",
       "\n",
       "    .dataframe thead th {\n",
       "        text-align: right;\n",
       "    }\n",
       "</style>\n",
       "<table border=\"1\" class=\"dataframe\">\n",
       "  <thead>\n",
       "    <tr style=\"text-align: right;\">\n",
       "      <th></th>\n",
       "      <th>DYRK1A_N</th>\n",
       "      <th>ITSN1_N</th>\n",
       "      <th>BDNF_N</th>\n",
       "      <th>NR1_N</th>\n",
       "      <th>NR2A_N</th>\n",
       "      <th>pAKT_N</th>\n",
       "      <th>pBRAF_N</th>\n",
       "      <th>pCAMKII_N</th>\n",
       "      <th>pCREB_N</th>\n",
       "      <th>pELK_N</th>\n",
       "      <th>...</th>\n",
       "      <th>SHH_N</th>\n",
       "      <th>BAD_N</th>\n",
       "      <th>pS6_N</th>\n",
       "      <th>pCFOS_N</th>\n",
       "      <th>SYP_N</th>\n",
       "      <th>H3AcK18_N</th>\n",
       "      <th>EGR1_N</th>\n",
       "      <th>H3MeK4_N</th>\n",
       "      <th>CaNA_N</th>\n",
       "      <th>class</th>\n",
       "    </tr>\n",
       "  </thead>\n",
       "  <tbody>\n",
       "    <tr>\n",
       "      <th>0</th>\n",
       "      <td>0.650511</td>\n",
       "      <td>1.158653</td>\n",
       "      <td>0.580172</td>\n",
       "      <td>2.230388</td>\n",
       "      <td>3.179675</td>\n",
       "      <td>0.533686</td>\n",
       "      <td>0.440101</td>\n",
       "      <td>5.033898</td>\n",
       "      <td>0.200985</td>\n",
       "      <td>1.589221</td>\n",
       "      <td>...</td>\n",
       "      <td>0.047287</td>\n",
       "      <td>0.337121</td>\n",
       "      <td>0.203356</td>\n",
       "      <td>0.191360</td>\n",
       "      <td>0.590874</td>\n",
       "      <td>0.112145</td>\n",
       "      <td>0.110109</td>\n",
       "      <td>0.160637</td>\n",
       "      <td>1.329248</td>\n",
       "      <td>t-CS-m</td>\n",
       "    </tr>\n",
       "    <tr>\n",
       "      <th>1</th>\n",
       "      <td>0.365907</td>\n",
       "      <td>0.651296</td>\n",
       "      <td>0.810468</td>\n",
       "      <td>2.597217</td>\n",
       "      <td>4.131603</td>\n",
       "      <td>0.537554</td>\n",
       "      <td>0.249235</td>\n",
       "      <td>6.099538</td>\n",
       "      <td>0.226362</td>\n",
       "      <td>1.700578</td>\n",
       "      <td>...</td>\n",
       "      <td>0.521112</td>\n",
       "      <td>0.419544</td>\n",
       "      <td>0.231619</td>\n",
       "      <td>0.393897</td>\n",
       "      <td>0.252572</td>\n",
       "      <td>0.352687</td>\n",
       "      <td>0.085545</td>\n",
       "      <td>0.328537</td>\n",
       "      <td>1.008023</td>\n",
       "      <td>t-SC-s</td>\n",
       "    </tr>\n",
       "    <tr>\n",
       "      <th>2</th>\n",
       "      <td>0.260145</td>\n",
       "      <td>0.397996</td>\n",
       "      <td>0.229522</td>\n",
       "      <td>2.643311</td>\n",
       "      <td>4.303648</td>\n",
       "      <td>0.268394</td>\n",
       "      <td>0.050916</td>\n",
       "      <td>3.130455</td>\n",
       "      <td>0.273792</td>\n",
       "      <td>2.534531</td>\n",
       "      <td>...</td>\n",
       "      <td>0.047407</td>\n",
       "      <td>0.053130</td>\n",
       "      <td>0.096325</td>\n",
       "      <td>0.257402</td>\n",
       "      <td>0.246015</td>\n",
       "      <td>0.203979</td>\n",
       "      <td>0.039188</td>\n",
       "      <td>0.008315</td>\n",
       "      <td>1.193634</td>\n",
       "      <td>c-SC-s</td>\n",
       "    </tr>\n",
       "    <tr>\n",
       "      <th>3</th>\n",
       "      <td>0.239489</td>\n",
       "      <td>0.271240</td>\n",
       "      <td>0.766816</td>\n",
       "      <td>1.872419</td>\n",
       "      <td>2.424971</td>\n",
       "      <td>0.322269</td>\n",
       "      <td>0.386791</td>\n",
       "      <td>2.351832</td>\n",
       "      <td>0.034265</td>\n",
       "      <td>0.472725</td>\n",
       "      <td>...</td>\n",
       "      <td>0.273651</td>\n",
       "      <td>0.162382</td>\n",
       "      <td>0.234056</td>\n",
       "      <td>0.180657</td>\n",
       "      <td>0.351388</td>\n",
       "      <td>0.103896</td>\n",
       "      <td>0.302341</td>\n",
       "      <td>0.166020</td>\n",
       "      <td>0.689970</td>\n",
       "      <td>c-CS-m</td>\n",
       "    </tr>\n",
       "    <tr>\n",
       "      <th>4</th>\n",
       "      <td>0.617112</td>\n",
       "      <td>0.751737</td>\n",
       "      <td>0.050685</td>\n",
       "      <td>2.356175</td>\n",
       "      <td>3.494138</td>\n",
       "      <td>0.506875</td>\n",
       "      <td>0.310644</td>\n",
       "      <td>3.855825</td>\n",
       "      <td>0.309879</td>\n",
       "      <td>1.033428</td>\n",
       "      <td>...</td>\n",
       "      <td>0.172488</td>\n",
       "      <td>0.014086</td>\n",
       "      <td>0.191145</td>\n",
       "      <td>0.149622</td>\n",
       "      <td>0.310434</td>\n",
       "      <td>0.151685</td>\n",
       "      <td>0.180055</td>\n",
       "      <td>0.383039</td>\n",
       "      <td>1.737274</td>\n",
       "      <td>t-CS-s</td>\n",
       "    </tr>\n",
       "  </tbody>\n",
       "</table>\n",
       "<p>5 rows × 77 columns</p>\n",
       "</div>"
      ],
      "text/plain": [
       "   DYRK1A_N   ITSN1_N    BDNF_N     NR1_N    NR2A_N    pAKT_N   pBRAF_N  \\\n",
       "0  0.650511  1.158653  0.580172  2.230388  3.179675  0.533686  0.440101   \n",
       "1  0.365907  0.651296  0.810468  2.597217  4.131603  0.537554  0.249235   \n",
       "2  0.260145  0.397996  0.229522  2.643311  4.303648  0.268394  0.050916   \n",
       "3  0.239489  0.271240  0.766816  1.872419  2.424971  0.322269  0.386791   \n",
       "4  0.617112  0.751737  0.050685  2.356175  3.494138  0.506875  0.310644   \n",
       "\n",
       "   pCAMKII_N   pCREB_N    pELK_N  ...     SHH_N     BAD_N     pS6_N   pCFOS_N  \\\n",
       "0   5.033898  0.200985  1.589221  ...  0.047287  0.337121  0.203356  0.191360   \n",
       "1   6.099538  0.226362  1.700578  ...  0.521112  0.419544  0.231619  0.393897   \n",
       "2   3.130455  0.273792  2.534531  ...  0.047407  0.053130  0.096325  0.257402   \n",
       "3   2.351832  0.034265  0.472725  ...  0.273651  0.162382  0.234056  0.180657   \n",
       "4   3.855825  0.309879  1.033428  ...  0.172488  0.014086  0.191145  0.149622   \n",
       "\n",
       "      SYP_N  H3AcK18_N    EGR1_N  H3MeK4_N    CaNA_N   class  \n",
       "0  0.590874   0.112145  0.110109  0.160637  1.329248  t-CS-m  \n",
       "1  0.252572   0.352687  0.085545  0.328537  1.008023  t-SC-s  \n",
       "2  0.246015   0.203979  0.039188  0.008315  1.193634  c-SC-s  \n",
       "3  0.351388   0.103896  0.302341  0.166020  0.689970  c-CS-m  \n",
       "4  0.310434   0.151685  0.180055  0.383039  1.737274  t-CS-s  \n",
       "\n",
       "[5 rows x 77 columns]"
      ]
     },
     "execution_count": 13,
     "metadata": {},
     "output_type": "execute_result"
    },
    {
     "data": {
      "text/plain": [
       "(367, 77)"
      ]
     },
     "execution_count": 13,
     "metadata": {},
     "output_type": "execute_result"
    }
   ],
   "source": [
    "expr_data = pd.read_csv(\"train.csv\")\n",
    "expr_data.head()\n",
    "expr_data.shape"
   ]
  },
  {
   "cell_type": "code",
   "execution_count": 3,
   "metadata": {},
   "outputs": [
    {
     "name": "stdout",
     "output_type": "stream",
     "text": [
      "DYRK1A_N\n",
      "ITSN1_N\n",
      "BDNF_N\n",
      "NR1_N\n",
      "NR2A_N\n",
      "pAKT_N\n",
      "pBRAF_N\n",
      "pCAMKII_N\n",
      "pCREB_N\n",
      "pELK_N\n",
      "pERK_N\n",
      "pJNK_N\n",
      "PKCA_N\n",
      "pMEK_N\n",
      "pNR1_N\n",
      "pNR2A_N\n",
      "pNR2B_N\n",
      "pPKCAB_N\n",
      "pRSK_N\n",
      "AKT_N\n",
      "BRAF_N\n",
      "CAMKII_N\n",
      "CREB_N\n",
      "ELK_N\n",
      "ERK_N\n",
      "GSK3B_N\n",
      "JNK_N\n",
      "MEK_N\n",
      "TRKA_N\n",
      "RSK_N\n",
      "APP_N\n",
      "Bcatenin_N\n",
      "SOD1_N\n",
      "MTOR_N\n",
      "P38_N\n",
      "pMTOR_N\n",
      "DSCR1_N\n",
      "AMPKA_N\n",
      "NR2B_N\n",
      "pNUMB_N\n",
      "RAPTOR_N\n",
      "TIAM1_N\n",
      "pP70S6_N\n",
      "NUMB_N\n",
      "P70S6_N\n",
      "pGSK3B_N\n",
      "pPKCG_N\n",
      "CDK5_N\n",
      "S6_N\n",
      "ADARB1_N\n",
      "AcetylH3K9_N\n",
      "RRP1_N\n",
      "BAX_N\n",
      "ARC_N\n",
      "ERBB4_N\n",
      "nNOS_N\n",
      "Tau_N\n",
      "GFAP_N\n",
      "GluR3_N\n",
      "GluR4_N\n",
      "IL1B_N\n",
      "P3525_N\n",
      "pCASP9_N\n",
      "PSD95_N\n",
      "SNCA_N\n",
      "Ubiquitin_N\n",
      "pGSK3B_Tyr216_N\n",
      "SHH_N\n",
      "BAD_N\n",
      "pS6_N\n",
      "pCFOS_N\n",
      "SYP_N\n",
      "H3AcK18_N\n",
      "EGR1_N\n",
      "H3MeK4_N\n",
      "CaNA_N\n",
      "class\n"
     ]
    }
   ],
   "source": [
    "for col in expr_data.columns: \n",
    "    print(col) "
   ]
  },
  {
   "cell_type": "code",
   "execution_count": 4,
   "metadata": {},
   "outputs": [
    {
     "data": {
      "text/plain": [
       "array(['t-CS-m', 't-SC-s', 'c-SC-s', 'c-CS-m', 't-CS-s', 't-SC-m',\n",
       "       'c-CS-s', 'c-SC-m'], dtype=object)"
      ]
     },
     "execution_count": 4,
     "metadata": {},
     "output_type": "execute_result"
    }
   ],
   "source": [
    "expr_data['class'].unique()"
   ]
  },
  {
   "cell_type": "markdown",
   "metadata": {},
   "source": [
    "There are **76 parameters**/proteins (in the training dataset), and **8** different **classes**"
   ]
  },
  {
   "cell_type": "markdown",
   "metadata": {},
   "source": [
    "Given the continous variables, preliminary assessment about the **population distribution** of the variables using the data of the observed samples. "
   ]
  },
  {
   "cell_type": "code",
   "execution_count": 7,
   "metadata": {},
   "outputs": [
    {
     "data": {
      "text/html": [
       "<div>\n",
       "<style scoped>\n",
       "    .dataframe tbody tr th:only-of-type {\n",
       "        vertical-align: middle;\n",
       "    }\n",
       "\n",
       "    .dataframe tbody tr th {\n",
       "        vertical-align: top;\n",
       "    }\n",
       "\n",
       "    .dataframe thead th {\n",
       "        text-align: right;\n",
       "    }\n",
       "</style>\n",
       "<table border=\"1\" class=\"dataframe\">\n",
       "  <thead>\n",
       "    <tr style=\"text-align: right;\">\n",
       "      <th></th>\n",
       "      <th>DYRK1A_N</th>\n",
       "      <th>ITSN1_N</th>\n",
       "      <th>BDNF_N</th>\n",
       "      <th>NR1_N</th>\n",
       "      <th>NR2A_N</th>\n",
       "      <th>pAKT_N</th>\n",
       "      <th>pBRAF_N</th>\n",
       "      <th>pCAMKII_N</th>\n",
       "      <th>pCREB_N</th>\n",
       "      <th>pELK_N</th>\n",
       "      <th>...</th>\n",
       "      <th>pGSK3B_Tyr216_N</th>\n",
       "      <th>SHH_N</th>\n",
       "      <th>BAD_N</th>\n",
       "      <th>pS6_N</th>\n",
       "      <th>pCFOS_N</th>\n",
       "      <th>SYP_N</th>\n",
       "      <th>H3AcK18_N</th>\n",
       "      <th>EGR1_N</th>\n",
       "      <th>H3MeK4_N</th>\n",
       "      <th>CaNA_N</th>\n",
       "    </tr>\n",
       "  </thead>\n",
       "  <tbody>\n",
       "    <tr>\n",
       "      <th>count</th>\n",
       "      <td>367.000000</td>\n",
       "      <td>367.000000</td>\n",
       "      <td>367.000000</td>\n",
       "      <td>367.000000</td>\n",
       "      <td>367.000000</td>\n",
       "      <td>367.000000</td>\n",
       "      <td>367.000000</td>\n",
       "      <td>367.000000</td>\n",
       "      <td>367.000000</td>\n",
       "      <td>367.000000</td>\n",
       "      <td>...</td>\n",
       "      <td>367.000000</td>\n",
       "      <td>367.000000</td>\n",
       "      <td>367.000000</td>\n",
       "      <td>367.000000</td>\n",
       "      <td>367.000000</td>\n",
       "      <td>367.000000</td>\n",
       "      <td>367.000000</td>\n",
       "      <td>367.000000</td>\n",
       "      <td>367.000000</td>\n",
       "      <td>367.000000</td>\n",
       "    </tr>\n",
       "    <tr>\n",
       "      <th>mean</th>\n",
       "      <td>0.424625</td>\n",
       "      <td>0.643605</td>\n",
       "      <td>0.311180</td>\n",
       "      <td>2.324768</td>\n",
       "      <td>3.788704</td>\n",
       "      <td>0.256276</td>\n",
       "      <td>0.224600</td>\n",
       "      <td>3.555490</td>\n",
       "      <td>0.243811</td>\n",
       "      <td>1.361222</td>\n",
       "      <td>...</td>\n",
       "      <td>0.870282</td>\n",
       "      <td>0.241272</td>\n",
       "      <td>0.211454</td>\n",
       "      <td>0.191250</td>\n",
       "      <td>0.198571</td>\n",
       "      <td>0.450839</td>\n",
       "      <td>0.199175</td>\n",
       "      <td>0.212576</td>\n",
       "      <td>0.229978</td>\n",
       "      <td>1.392812</td>\n",
       "    </tr>\n",
       "    <tr>\n",
       "      <th>std</th>\n",
       "      <td>0.165598</td>\n",
       "      <td>0.251751</td>\n",
       "      <td>0.191381</td>\n",
       "      <td>0.412055</td>\n",
       "      <td>0.929206</td>\n",
       "      <td>0.172512</td>\n",
       "      <td>0.150476</td>\n",
       "      <td>1.388081</td>\n",
       "      <td>0.167339</td>\n",
       "      <td>0.369549</td>\n",
       "      <td>...</td>\n",
       "      <td>0.226685</td>\n",
       "      <td>0.157856</td>\n",
       "      <td>0.153802</td>\n",
       "      <td>0.133527</td>\n",
       "      <td>0.141261</td>\n",
       "      <td>0.191931</td>\n",
       "      <td>0.156829</td>\n",
       "      <td>0.147442</td>\n",
       "      <td>0.163359</td>\n",
       "      <td>0.356708</td>\n",
       "    </tr>\n",
       "    <tr>\n",
       "      <th>min</th>\n",
       "      <td>0.145327</td>\n",
       "      <td>0.032259</td>\n",
       "      <td>0.001439</td>\n",
       "      <td>1.143688</td>\n",
       "      <td>1.747448</td>\n",
       "      <td>0.000572</td>\n",
       "      <td>0.000455</td>\n",
       "      <td>0.857449</td>\n",
       "      <td>0.001038</td>\n",
       "      <td>0.287026</td>\n",
       "      <td>...</td>\n",
       "      <td>0.221665</td>\n",
       "      <td>0.000968</td>\n",
       "      <td>0.001024</td>\n",
       "      <td>0.000122</td>\n",
       "      <td>0.000244</td>\n",
       "      <td>0.003932</td>\n",
       "      <td>0.000436</td>\n",
       "      <td>0.000104</td>\n",
       "      <td>0.000615</td>\n",
       "      <td>0.544998</td>\n",
       "    </tr>\n",
       "    <tr>\n",
       "      <th>25%</th>\n",
       "      <td>0.296623</td>\n",
       "      <td>0.462402</td>\n",
       "      <td>0.151569</td>\n",
       "      <td>2.055808</td>\n",
       "      <td>3.108681</td>\n",
       "      <td>0.120131</td>\n",
       "      <td>0.090671</td>\n",
       "      <td>2.391252</td>\n",
       "      <td>0.115012</td>\n",
       "      <td>1.096785</td>\n",
       "      <td>...</td>\n",
       "      <td>0.725639</td>\n",
       "      <td>0.122783</td>\n",
       "      <td>0.091101</td>\n",
       "      <td>0.079493</td>\n",
       "      <td>0.081964</td>\n",
       "      <td>0.312539</td>\n",
       "      <td>0.070970</td>\n",
       "      <td>0.103308</td>\n",
       "      <td>0.106642</td>\n",
       "      <td>1.130921</td>\n",
       "    </tr>\n",
       "    <tr>\n",
       "      <th>50%</th>\n",
       "      <td>0.380145</td>\n",
       "      <td>0.634401</td>\n",
       "      <td>0.292885</td>\n",
       "      <td>2.311875</td>\n",
       "      <td>3.750456</td>\n",
       "      <td>0.232278</td>\n",
       "      <td>0.216556</td>\n",
       "      <td>3.312988</td>\n",
       "      <td>0.219943</td>\n",
       "      <td>1.316959</td>\n",
       "      <td>...</td>\n",
       "      <td>0.868826</td>\n",
       "      <td>0.218357</td>\n",
       "      <td>0.178011</td>\n",
       "      <td>0.169801</td>\n",
       "      <td>0.180120</td>\n",
       "      <td>0.456710</td>\n",
       "      <td>0.164363</td>\n",
       "      <td>0.184093</td>\n",
       "      <td>0.197006</td>\n",
       "      <td>1.383210</td>\n",
       "    </tr>\n",
       "    <tr>\n",
       "      <th>75%</th>\n",
       "      <td>0.505240</td>\n",
       "      <td>0.816380</td>\n",
       "      <td>0.443048</td>\n",
       "      <td>2.576403</td>\n",
       "      <td>4.310340</td>\n",
       "      <td>0.351412</td>\n",
       "      <td>0.324535</td>\n",
       "      <td>4.571592</td>\n",
       "      <td>0.344517</td>\n",
       "      <td>1.580478</td>\n",
       "      <td>...</td>\n",
       "      <td>1.017593</td>\n",
       "      <td>0.338267</td>\n",
       "      <td>0.317530</td>\n",
       "      <td>0.286457</td>\n",
       "      <td>0.281337</td>\n",
       "      <td>0.583650</td>\n",
       "      <td>0.288723</td>\n",
       "      <td>0.291664</td>\n",
       "      <td>0.334832</td>\n",
       "      <td>1.680786</td>\n",
       "    </tr>\n",
       "    <tr>\n",
       "      <th>max</th>\n",
       "      <td>0.992220</td>\n",
       "      <td>1.369690</td>\n",
       "      <td>0.859073</td>\n",
       "      <td>3.917915</td>\n",
       "      <td>8.526835</td>\n",
       "      <td>0.858684</td>\n",
       "      <td>0.767396</td>\n",
       "      <td>7.049225</td>\n",
       "      <td>0.814884</td>\n",
       "      <td>2.698669</td>\n",
       "      <td>...</td>\n",
       "      <td>1.449276</td>\n",
       "      <td>0.752059</td>\n",
       "      <td>0.904601</td>\n",
       "      <td>0.683065</td>\n",
       "      <td>0.805513</td>\n",
       "      <td>1.180934</td>\n",
       "      <td>0.761225</td>\n",
       "      <td>0.813475</td>\n",
       "      <td>0.851257</td>\n",
       "      <td>2.432510</td>\n",
       "    </tr>\n",
       "  </tbody>\n",
       "</table>\n",
       "<p>8 rows × 76 columns</p>\n",
       "</div>"
      ],
      "text/plain": [
       "         DYRK1A_N     ITSN1_N      BDNF_N       NR1_N      NR2A_N      pAKT_N  \\\n",
       "count  367.000000  367.000000  367.000000  367.000000  367.000000  367.000000   \n",
       "mean     0.424625    0.643605    0.311180    2.324768    3.788704    0.256276   \n",
       "std      0.165598    0.251751    0.191381    0.412055    0.929206    0.172512   \n",
       "min      0.145327    0.032259    0.001439    1.143688    1.747448    0.000572   \n",
       "25%      0.296623    0.462402    0.151569    2.055808    3.108681    0.120131   \n",
       "50%      0.380145    0.634401    0.292885    2.311875    3.750456    0.232278   \n",
       "75%      0.505240    0.816380    0.443048    2.576403    4.310340    0.351412   \n",
       "max      0.992220    1.369690    0.859073    3.917915    8.526835    0.858684   \n",
       "\n",
       "          pBRAF_N   pCAMKII_N     pCREB_N      pELK_N  ...  pGSK3B_Tyr216_N  \\\n",
       "count  367.000000  367.000000  367.000000  367.000000  ...       367.000000   \n",
       "mean     0.224600    3.555490    0.243811    1.361222  ...         0.870282   \n",
       "std      0.150476    1.388081    0.167339    0.369549  ...         0.226685   \n",
       "min      0.000455    0.857449    0.001038    0.287026  ...         0.221665   \n",
       "25%      0.090671    2.391252    0.115012    1.096785  ...         0.725639   \n",
       "50%      0.216556    3.312988    0.219943    1.316959  ...         0.868826   \n",
       "75%      0.324535    4.571592    0.344517    1.580478  ...         1.017593   \n",
       "max      0.767396    7.049225    0.814884    2.698669  ...         1.449276   \n",
       "\n",
       "            SHH_N       BAD_N       pS6_N     pCFOS_N       SYP_N   H3AcK18_N  \\\n",
       "count  367.000000  367.000000  367.000000  367.000000  367.000000  367.000000   \n",
       "mean     0.241272    0.211454    0.191250    0.198571    0.450839    0.199175   \n",
       "std      0.157856    0.153802    0.133527    0.141261    0.191931    0.156829   \n",
       "min      0.000968    0.001024    0.000122    0.000244    0.003932    0.000436   \n",
       "25%      0.122783    0.091101    0.079493    0.081964    0.312539    0.070970   \n",
       "50%      0.218357    0.178011    0.169801    0.180120    0.456710    0.164363   \n",
       "75%      0.338267    0.317530    0.286457    0.281337    0.583650    0.288723   \n",
       "max      0.752059    0.904601    0.683065    0.805513    1.180934    0.761225   \n",
       "\n",
       "           EGR1_N    H3MeK4_N      CaNA_N  \n",
       "count  367.000000  367.000000  367.000000  \n",
       "mean     0.212576    0.229978    1.392812  \n",
       "std      0.147442    0.163359    0.356708  \n",
       "min      0.000104    0.000615    0.544998  \n",
       "25%      0.103308    0.106642    1.130921  \n",
       "50%      0.184093    0.197006    1.383210  \n",
       "75%      0.291664    0.334832    1.680786  \n",
       "max      0.813475    0.851257    2.432510  \n",
       "\n",
       "[8 rows x 76 columns]"
      ]
     },
     "execution_count": 7,
     "metadata": {},
     "output_type": "execute_result"
    },
    {
     "name": "stdout",
     "output_type": "stream",
     "text": [
      "<class 'pandas.core.frame.DataFrame'>\n",
      "RangeIndex: 367 entries, 0 to 366\n",
      "Data columns (total 77 columns):\n",
      " #   Column           Non-Null Count  Dtype  \n",
      "---  ------           --------------  -----  \n",
      " 0   DYRK1A_N         367 non-null    float64\n",
      " 1   ITSN1_N          367 non-null    float64\n",
      " 2   BDNF_N           367 non-null    float64\n",
      " 3   NR1_N            367 non-null    float64\n",
      " 4   NR2A_N           367 non-null    float64\n",
      " 5   pAKT_N           367 non-null    float64\n",
      " 6   pBRAF_N          367 non-null    float64\n",
      " 7   pCAMKII_N        367 non-null    float64\n",
      " 8   pCREB_N          367 non-null    float64\n",
      " 9   pELK_N           367 non-null    float64\n",
      " 10  pERK_N           367 non-null    float64\n",
      " 11  pJNK_N           367 non-null    float64\n",
      " 12  PKCA_N           367 non-null    float64\n",
      " 13  pMEK_N           367 non-null    float64\n",
      " 14  pNR1_N           367 non-null    float64\n",
      " 15  pNR2A_N          367 non-null    float64\n",
      " 16  pNR2B_N          367 non-null    float64\n",
      " 17  pPKCAB_N         367 non-null    float64\n",
      " 18  pRSK_N           367 non-null    float64\n",
      " 19  AKT_N            367 non-null    float64\n",
      " 20  BRAF_N           367 non-null    float64\n",
      " 21  CAMKII_N         367 non-null    float64\n",
      " 22  CREB_N           367 non-null    float64\n",
      " 23  ELK_N            367 non-null    float64\n",
      " 24  ERK_N            367 non-null    float64\n",
      " 25  GSK3B_N          367 non-null    float64\n",
      " 26  JNK_N            367 non-null    float64\n",
      " 27  MEK_N            367 non-null    float64\n",
      " 28  TRKA_N           367 non-null    float64\n",
      " 29  RSK_N            367 non-null    float64\n",
      " 30  APP_N            367 non-null    float64\n",
      " 31  Bcatenin_N       367 non-null    float64\n",
      " 32  SOD1_N           367 non-null    float64\n",
      " 33  MTOR_N           367 non-null    float64\n",
      " 34  P38_N            367 non-null    float64\n",
      " 35  pMTOR_N          367 non-null    float64\n",
      " 36  DSCR1_N          367 non-null    float64\n",
      " 37  AMPKA_N          367 non-null    float64\n",
      " 38  NR2B_N           367 non-null    float64\n",
      " 39  pNUMB_N          367 non-null    float64\n",
      " 40  RAPTOR_N         367 non-null    float64\n",
      " 41  TIAM1_N          367 non-null    float64\n",
      " 42  pP70S6_N         367 non-null    float64\n",
      " 43  NUMB_N           367 non-null    float64\n",
      " 44  P70S6_N          367 non-null    float64\n",
      " 45  pGSK3B_N         367 non-null    float64\n",
      " 46  pPKCG_N          367 non-null    float64\n",
      " 47  CDK5_N           367 non-null    float64\n",
      " 48  S6_N             367 non-null    float64\n",
      " 49  ADARB1_N         367 non-null    float64\n",
      " 50  AcetylH3K9_N     367 non-null    float64\n",
      " 51  RRP1_N           367 non-null    float64\n",
      " 52  BAX_N            367 non-null    float64\n",
      " 53  ARC_N            367 non-null    float64\n",
      " 54  ERBB4_N          367 non-null    float64\n",
      " 55  nNOS_N           367 non-null    float64\n",
      " 56  Tau_N            367 non-null    float64\n",
      " 57  GFAP_N           367 non-null    float64\n",
      " 58  GluR3_N          367 non-null    float64\n",
      " 59  GluR4_N          367 non-null    float64\n",
      " 60  IL1B_N           367 non-null    float64\n",
      " 61  P3525_N          367 non-null    float64\n",
      " 62  pCASP9_N         367 non-null    float64\n",
      " 63  PSD95_N          367 non-null    float64\n",
      " 64  SNCA_N           367 non-null    float64\n",
      " 65  Ubiquitin_N      367 non-null    float64\n",
      " 66  pGSK3B_Tyr216_N  367 non-null    float64\n",
      " 67  SHH_N            367 non-null    float64\n",
      " 68  BAD_N            367 non-null    float64\n",
      " 69  pS6_N            367 non-null    float64\n",
      " 70  pCFOS_N          367 non-null    float64\n",
      " 71  SYP_N            367 non-null    float64\n",
      " 72  H3AcK18_N        367 non-null    float64\n",
      " 73  EGR1_N           367 non-null    float64\n",
      " 74  H3MeK4_N         367 non-null    float64\n",
      " 75  CaNA_N           367 non-null    float64\n",
      " 76  class            367 non-null    object \n",
      "dtypes: float64(76), object(1)\n",
      "memory usage: 220.9+ KB\n"
     ]
    }
   ],
   "source": [
    "expr_data.describe()\n",
    "expr_data.info()"
   ]
  },
  {
   "cell_type": "markdown",
   "metadata": {},
   "source": [
    "**Boxplots** of the population distribution to inspect visually the protein expression distribution\n",
    "\n",
    "The code has been reported only for the first boxplot, the other have been designed in the same manner. \n",
    "\n",
    "We have attached a summary figure."
   ]
  },
  {
   "cell_type": "code",
   "execution_count": null,
   "metadata": {},
   "outputs": [],
   "source": [
    "expr_data_quant = expr_data.columns.drop(['class'])\n",
    "expr_data_quant = expr_data[expr_data_quant]\n",
    "first_block = ['DYRK1A_N', 'ITSN1_N', 'BDNF_N', 'NR1_N', 'NR2A_N', 'pAKT_N']\n",
    "second_block = ['pBRAF_N', 'pCAMKII_N','pCREB_N','pELK_N','pERK_N','EGR1_N']\n",
    "third_block = ['pJNK_N', 'PKCA_N', 'pMEK_N', 'pNR1_N', 'pNR2A_N', 'pNR2B_N']\n",
    "fourth_block = ['pPKCAB_N', 'pRSK_N', 'AKT_N','BRAF_N', 'CAMKII_N','H3AcK18_N']\n",
    "fifth_block = ['CREB_N','ELK_N','ERK_N', 'GSK3B_N','JNK_N','MEK_N', 'TRKA_N']\n",
    "sixth_block = ['RSK_N','APP_N','Bcatenin_N', 'SOD1_N','MTOR_N','SYP_N','CaNA_N']\n",
    "seventh_block = ['P38_N','pMTOR_N','DSCR1_N','AMPKA_N','NR2B_N','pNUMB_N']\n",
    "eigth_block = ['RAPTOR_N','TIAM1_N','pP70S6_N','NUMB_N','P70S6_N','pCFOS_N']\n",
    "ninth_block = ['pGSK3B_N','pPKCG_N','CDK5_N','S6_N','ADARB1_N','AcetylH3K9_N']\n",
    "tenth_block = ['RRP1_N','BAX_N','ARC_N','ERBB4_N','nNOS_N','Tau_N','H3MeK4_N']\n",
    "eleventh_block = ['GFAP_N','GluR3_N','GluR4_N','IL1B_N','P3525_N','pCASP9_N']\n",
    "twelvth_block = ['SNCA_N','Ubiquitin_N','pGSK3B_Tyr216_N']\n",
    "thirth_block = ['SHH_N','BAD_N','pS6_N']\n",
    "expr_data_quant_1 = expr_data_quant[first_block]\n",
    "expr_data_quant_2 = expr_data_quant[second_block]\n",
    "expr_data_quant_3 = expr_data_quant[third_block]\n",
    "expr_data_quant_4 = expr_data_quant[fourth_block]\n",
    "expr_data_quant_5 = expr_data_quant[fifth_block]\n",
    "expr_data_quant_6 = expr_data_quant[sixth_block]\n",
    "expr_data_quant_7= expr_data_quant[seventh_block]\n",
    "expr_data_quant_8 = expr_data_quant[eigth_block]\n",
    "expr_data_quant_9 = expr_data_quant[ninth_block]\n",
    "expr_data_quant_10 = expr_data_quant[tenth_block]\n",
    "expr_data_quant_11 = expr_data_quant[eleventh_block]\n",
    "expr_data_quant_12 = expr_data_quant[twelvth_block]\n",
    "expr_data_quant_13 = expr_data_quant[thirth_block]\n",
    "#vals, names = [],[]\n",
    "#for i, col in enumerate(expr_data_quant_1.columns):\n",
    "#    vals.append(expr_data_quant_1[col].values)\n",
    "#    names.append(col)\n",
    "\n",
    "#plt.boxplot(vals, labels=names, patch_artist=True)\n",
    "#plt.ylim(0,8)\n",
    "#plt.show()"
   ]
  },
  {
   "attachments": {
    "Summa%20boxplot.png": {
     "image/png": "[encoded data removed]"
    }
   },
   "cell_type": "markdown",
   "metadata": {},
   "source": [
    "![Summa%20boxplot.png](attachment:Summa%20boxplot.png)"
   ]
  },
  {
   "cell_type": "markdown",
   "metadata": {},
   "source": [
    "#### Missing data?"
   ]
  },
  {
   "cell_type": "code",
   "execution_count": null,
   "metadata": {},
   "outputs": [],
   "source": [
    "np.any(expr_data.isna(), axis=1).sum()"
   ]
  },
  {
   "cell_type": "markdown",
   "metadata": {},
   "source": [
    "No missing data, important to check because the algorithms that we will use require all the fields to have an actual value"
   ]
  },
  {
   "cell_type": "markdown",
   "metadata": {},
   "source": [
    "#### Extreme values?\n",
    "\n",
    "Detect unusual values for protein expression in each class"
   ]
  },
  {
   "cell_type": "code",
   "execution_count": null,
   "metadata": {},
   "outputs": [],
   "source": [
    "t_SC_s = expr_data[expr_data['class']=='t-SC-s']\n",
    "t_CS_s = expr_data[expr_data['class']=='t-CS-s']\n",
    "t_CS_m = expr_data[expr_data['class']=='t-CS-m']\n",
    "c_CS_s = expr_data[expr_data['class']=='c-CS-s']\n",
    "c_SC_s = expr_data[expr_data['class']=='c-SC-s']\n",
    "t_SC_m = expr_data[expr_data['class']=='t-SC-m']\n",
    "c_CS_m = expr_data[expr_data['class']=='c-CS-m']\n",
    "c_SC_m = expr_data[expr_data['class']=='c-SC-m']"
   ]
  },
  {
   "cell_type": "code",
   "execution_count": null,
   "metadata": {},
   "outputs": [],
   "source": [
    "Q1 = t_SC_s.quantile(0.25)\n",
    "Q3 = t_SC_s.quantile(0.75)\n",
    "IQR = Q3 - Q1\n",
    "t_SC_s_noout = t_SC_s[~((t_SC_s < (Q1 - 1.5 * IQR)) |(t_SC_s > (Q3 + 1.5 * IQR))).any(axis=1)]\n",
    "t_SC_s_noout.shape\n",
    "t_SC_s.shape"
   ]
  },
  {
   "cell_type": "code",
   "execution_count": null,
   "metadata": {},
   "outputs": [],
   "source": [
    "Q1 = t_CS_s.quantile(0.25)\n",
    "Q3 = t_CS_s.quantile(0.75)\n",
    "IQR = Q3 - Q1\n",
    "t_CS_s_noout = t_CS_s[~((t_CS_s < (Q1 - 1.5 * IQR)) |(t_CS_s > (Q3 + 1.5 * IQR))).any(axis=1)]\n",
    "t_CS_s_noout.shape\n",
    "t_CS_s.shape"
   ]
  },
  {
   "cell_type": "code",
   "execution_count": null,
   "metadata": {},
   "outputs": [],
   "source": [
    "Q1 = t_CS_m.quantile(0.25)\n",
    "Q3 = t_CS_m.quantile(0.75)\n",
    "IQR = Q3 - Q1\n",
    "t_CS_m_noout = t_CS_m[~((t_CS_m < (Q1 - 1.5 * IQR)) |(t_CS_m > (Q3 + 1.5 * IQR))).any(axis=1)]\n",
    "t_CS_m_noout.shape\n",
    "t_CS_m.shape"
   ]
  },
  {
   "cell_type": "code",
   "execution_count": null,
   "metadata": {},
   "outputs": [],
   "source": [
    "Q1 = c_CS_s.quantile(0.25)\n",
    "Q3 = c_CS_s.quantile(0.75)\n",
    "IQR = Q3 - Q1\n",
    "c_CS_s_noout = c_CS_s[~((c_CS_s < (Q1 - 1.5 * IQR)) |(c_CS_s > (Q3 + 1.5 * IQR))).any(axis=1)]\n",
    "c_CS_s_noout.shape\n",
    "c_CS_s.shape"
   ]
  },
  {
   "cell_type": "code",
   "execution_count": null,
   "metadata": {},
   "outputs": [],
   "source": [
    "Q1 = c_SC_s.quantile(0.25)\n",
    "Q3 = c_SC_s.quantile(0.75)\n",
    "IQR = Q3 - Q1\n",
    "c_SC_s_noout = c_SC_s[~((c_CS_s < (Q1 - 1.5 * IQR)) |(c_SC_s > (Q3 + 1.5 * IQR))).any(axis=1)]\n",
    "c_SC_s_noout.shape\n",
    "c_SC_s.shape"
   ]
  },
  {
   "cell_type": "code",
   "execution_count": null,
   "metadata": {},
   "outputs": [],
   "source": [
    "Q1 = t_SC_m.quantile(0.25)\n",
    "Q3 = t_SC_m.quantile(0.75)\n",
    "IQR = Q3 - Q1\n",
    "t_SC_m_noout = t_SC_m[~((t_SC_m < (Q1 - 1.5 * IQR)) |(t_SC_m > (Q3 + 1.5 * IQR))).any(axis=1)]\n",
    "t_SC_m_noout.shape\n",
    "t_SC_m.shape"
   ]
  },
  {
   "cell_type": "code",
   "execution_count": null,
   "metadata": {},
   "outputs": [],
   "source": [
    "Q1 = c_CS_m.quantile(0.25)\n",
    "Q3 = c_CS_m.quantile(0.75)\n",
    "IQR = Q3 - Q1\n",
    "c_CS_m_noout = c_CS_m[~((c_CS_m < (Q1 - 1.5 * IQR)) |(c_CS_m > (Q3 + 1.5 * IQR))).any(axis=1)]\n",
    "c_CS_m_noout.shape\n",
    "c_CS_m.shape"
   ]
  },
  {
   "cell_type": "code",
   "execution_count": null,
   "metadata": {},
   "outputs": [],
   "source": [
    "Q1 = c_SC_m.quantile(0.25)\n",
    "Q3 = c_SC_m.quantile(0.75)\n",
    "IQR = Q3 - Q1\n",
    "c_SC_m_noout = c_SC_m[~((c_SC_m < (Q1 - 1.5 * IQR)) |(c_SC_m > (Q3 + 1.5 * IQR))).any(axis=1)]\n",
    "c_SC_m_noout.shape\n",
    "c_SC_m.shape"
   ]
  },
  {
   "cell_type": "code",
   "execution_count": null,
   "metadata": {},
   "outputs": [],
   "source": [
    "import warnings\n",
    "warnings.filterwarnings('ignore')\n",
    "\n",
    "t_SC_s_noout['class']='t-SC-s'\n",
    "t_CS_s_noout['class']='t-CS-s'\n",
    "t_SC_m_noout['class']='t-SC-m'\n",
    "t_CS_m_noout['class']='t-CS-m'\n",
    "c_CS_s_noout['class']='c-CS-s'\n",
    "c_SC_s_noout['class']='c-SC-s'\n",
    "c_CS_m_noout['class']='c-CS-m'\n",
    "c_SC_m_noout['class']='c-SC-m'\n",
    "frames = [t_SC_s_noout, t_CS_s_noout,c_CS_s_noout]\n",
    "frames1 = [c_SC_s_noout, t_SC_m_noout,c_CS_m_noout]\n",
    "frames2 = [c_SC_m_noout,t_CS_m_noout]\n",
    "new_data = pd.concat([t_SC_s_noout,t_CS_s_noout,c_CS_s_noout])\n",
    "new_data = pd.concat([c_SC_s_noout, t_SC_m_noout,c_CS_m_noout])\n",
    "new_data = pd.concat([c_SC_m_noout,t_CS_m_noout])\n",
    "new_data.shape"
   ]
  },
  {
   "cell_type": "markdown",
   "metadata": {},
   "source": [
    "If the protein expression extreme values for each class are deleted, the dataset would become an high dimensional setting.\n",
    "\n",
    "Doing clustering (k-means and hierarchical, either sensible to outliers) on this new dataset (without outliers), the performance of the clusters does not improve, meaning that they do not affect so much our analysis.\n",
    "\n",
    "So we have not delete extreme values."
   ]
  },
  {
   "cell_type": "markdown",
   "metadata": {},
   "source": [
    "##### “Outliers are not necessarily a bad thing. These are just observations that are not following the same pattern as the other ones. But it can be the case that an outlier is very interesting. For example, if in a biological experiment, a rat is not dead whereas all others are, then it would be very interesting to understand why. This could lead to new scientific discoveries.  So, it is important to detect outliers.”\n",
    "- Pierre Lafaye de Micheaux, Author and Statistician"
   ]
  },
  {
   "cell_type": "markdown",
   "metadata": {},
   "source": [
    "#### Plot for protein expression distribution in each class\n",
    "We see from the boxplot the **distribution** of the **quantitative variables** in **each class**"
   ]
  },
  {
   "cell_type": "code",
   "execution_count": null,
   "metadata": {},
   "outputs": [],
   "source": [
    "t_SC_s = t_SC_s.drop(['class'], axis=1)\n",
    "t_CS_s = t_CS_s.drop(['class'], axis=1)\n",
    "t_CS_m = t_CS_m.drop(['class'], axis=1)\n",
    "c_CS_s = c_CS_s.drop(['class'], axis=1)\n",
    "c_SC_s = c_SC_s.drop(['class'], axis=1)\n",
    "t_SC_m = t_SC_m.drop(['class'], axis=1)\n",
    "c_CS_m = c_CS_m.drop(['class'], axis=1)\n",
    "c_SC_m = c_SC_m.drop(['class'], axis=1)"
   ]
  },
  {
   "cell_type": "code",
   "execution_count": null,
   "metadata": {},
   "outputs": [],
   "source": [
    "expr_data_t_CS_s = (expr_data[expr_data['class']=='t-CS-s'])\n",
    "columns = expr_data_t_CS_s.columns.drop(['class'])\n",
    "x_data = range(0, expr_data_t_CS_s.shape[0])\n",
    "fig, ax = plt.subplots()\n",
    "for column in columns:\n",
    "\n",
    "    ax.plot(x_data, expr_data_t_CS_s[column], label=column)\n",
    "\n",
    "ax.set_title('Expression t-CS-s')\n",
    "\n",
    "ax.legend()\n",
    "\n",
    "expr_data_t_CS_m  = expr_data[expr_data['class']=='t-CS-m']\n",
    "columns = expr_data_t_CS_m.columns.drop(['class'])\n",
    "x_data = range(0, expr_data_t_CS_m.shape[0])\n",
    "fig, ax = plt.subplots()\n",
    "for column in columns:\n",
    "\n",
    "    ax.plot(x_data, expr_data_t_CS_m[column], label=column)\n",
    "\n",
    "ax.set_title('Expression t-CS-m')\n",
    "\n",
    "ax.legend()\n",
    "\n",
    "expr_data_c_CS_s = (expr_data[expr_data['class']=='c-CS-s'])\n",
    "columns = expr_data_c_CS_s.columns.drop(['class'])\n",
    "x_data = range(0, expr_data_c_CS_s.shape[0])\n",
    "fig, ax = plt.subplots()\n",
    "for column in columns:\n",
    "    ax.plot(x_data, expr_data_c_CS_s[column], label=column)\n",
    "\n",
    "ax.set_title('Expression c-CS-s')\n",
    "\n",
    "ax.legend()\n",
    "\n",
    "expr_data_c_SC_s = (expr_data[expr_data['class']=='c-SC-s'])\n",
    "columns = expr_data_c_SC_s.columns.drop(['class'])\n",
    "x_data = range(0, expr_data_c_SC_s.shape[0])\n",
    "fig, ax = plt.subplots()\n",
    "for column in columns:\n",
    "\n",
    "    ax.plot(x_data, expr_data_c_SC_s[column], label=column)\n",
    "\n",
    "ax.set_title('Expression c-SC-s')\n",
    "\n",
    "ax.legend()\n",
    "\n",
    "expr_data_t_SC_m = (expr_data[expr_data['class']=='t-SC-m'])\n",
    "columns = expr_data_t_SC_m.columns.drop(['class'])\n",
    "x_data = range(0, expr_data_t_SC_m.shape[0])\n",
    "fig, ax = plt.subplots()\n",
    "for column in columns:\n",
    "\n",
    "    ax.plot(x_data, expr_data_t_SC_m[column], label=column)\n",
    "\n",
    "ax.set_title('Expression t-SC-m')\n",
    "\n",
    "ax.legend()\n",
    "\n",
    "expr_data_c_CS_m = (expr_data[expr_data['class']=='c-CS-m'])\n",
    "columns = expr_data_c_CS_m.columns.drop(['class'])\n",
    "x_data = range(0, expr_data_c_CS_m.shape[0])\n",
    "fig, ax = plt.subplots()\n",
    "for column in columns:\n",
    "\n",
    "    ax.plot(x_data, expr_data_c_CS_m[column], label=column)\n",
    "\n",
    "ax.set_title('Expression c-CS-m')\n",
    "\n",
    "ax.legend()\n",
    "\n",
    "expr_data_c_SC_m = (expr_data[expr_data['class']=='c-SC-m'])\n",
    "columns = expr_data_c_SC_m.columns.drop(['class'])\n",
    "x_data = range(0, expr_data_c_SC_m.shape[0])\n",
    "fig, ax = plt.subplots()\n",
    "for column in columns:\n",
    "\n",
    "    ax.plot(x_data, expr_data_c_SC_m[column], label=column)\n",
    "\n",
    "ax.set_title('Expression c-SC-m')\n",
    "\n",
    "ax.legend()\n",
    "\n"
   ]
  },
  {
   "cell_type": "markdown",
   "metadata": {},
   "source": [
    "#### Relationship class-features\n",
    "See what are the important features for each class, this is done by training a classification model for each class against the other classes (**One vs All**), and doing feature selection.\n",
    "\n",
    "To apply feature selection we have tried to apply **lasso regression**, but it's difficult to interpret the graph due to the high amount of features. \n",
    "**Best subset selection** also could have been an optimal solution to the selection of the features but it's computationally expensive, and the device doesn't manage to conclude it. \n",
    "\n",
    "So finally we have chosen the **forward selection** approach; although it's a greedy approach in which the choice of the optimal solution at each step could lead to a solution that not always is the global optimal solution (approach that does not reconsiders its choice)"
   ]
  },
  {
   "cell_type": "markdown",
   "metadata": {},
   "source": [
    "Definition of the functions that we will use in forward feature selection"
   ]
  },
  {
   "cell_type": "code",
   "execution_count": 8,
   "metadata": {},
   "outputs": [],
   "source": [
    "from sklearn.dummy import DummyRegressor\n",
    "from sklearn.model_selection import cross_val_score\n",
    "from sklearn.metrics import make_scorer\n",
    "\n",
    "def accuracy(y_pred, y_true):\n",
    "    return (y_pred == y_true).sum() / y_pred.shape[0]\n",
    "\n",
    "def get_evaluator(scorer):\n",
    "    def evaluator(model, X, y, trained=False):\n",
    "        if not trained:\n",
    "            model = model.fit(X, y)\n",
    "        score = scorer(model, X, y)\n",
    "        return model, score\n",
    "    return evaluator   \n",
    "\n",
    "def get_cv_evaluator(scorer, cv=3):\n",
    "    def evaluator(model, X, y, trained=False):            \n",
    "        scores = cross_val_score(model, X, y, scoring=scorer, cv=cv)\n",
    "        if not trained:\n",
    "            model = model.fit(X, y)\n",
    "        return model, np.mean(scores)\n",
    "    \n",
    "    return evaluator\n",
    "\n",
    "def get_val_evaluator(scorer, val_size=0.1):\n",
    "    def evaluator(model, X, y, trained=False):\n",
    "        X_train_small, X_val, y_train_small, y_val = train_test_split(X, y, \n",
    "                                                                      test_size=val_size,\n",
    "                                                                      random_state=0)\n",
    "        \n",
    "        if not trained:\n",
    "            model = model.fit(X_train_small, y_train_small)\n",
    "        score = scorer(model, X_val, y_val) \n",
    "        \n",
    "        return model, score\n",
    "    \n",
    "    return evaluator\n",
    "\n",
    "def forward_selection(Xtrain_pd, ytrain, Xtest_pd, ytest,\n",
    "                      candidates_evaluator, candidates_argbest,\n",
    "                      subsets_evaluator, subsets_argbest,       \n",
    "                      test_evaluator=None, test_argbest=None,\n",
    "                      candidates_scorer_name=None,  \n",
    "                      subsets_scorer_name=None,     \n",
    "                      verbose=True, weight_step3=0):   \n",
    "    test_evaluator = subsets_evaluator if not test_evaluator else test_evaluator\n",
    "    test_argbest = subsets_argbest if not test_argbest else test_argbest\n",
    "    num_features = Xtrain_pd.shape[-1]\n",
    "    best_candidate_metric = []\n",
    "    subsets_test = []\n",
    "    subsets_metric = []        \n",
    "    subsets_best_features = [] \n",
    "    plt.figure()\n",
    "    candidate_fig = plt.subplot(111) \n",
    "    num_evaluations = 0        \n",
    "    \n",
    "    selected_features = []\n",
    "    all_features = Xtrain_pd.columns\n",
    "    model = DummyRegressor()\n",
    "    model, score = candidates_evaluator(model, Xtrain_pd[[]], ytrain)\n",
    "    best_candidate_metric.append(score)\n",
    "    subsets_best_features.append([])\n",
    "    _ = candidate_fig.scatter([0], [score], color=\"b\")\n",
    "    _, score = subsets_evaluator(model, Xtrain_pd[[]], ytrain, trained=True)\n",
    "    subsets_metric.append(score)\n",
    "    _, score = test_evaluator(model, Xtrain_pd[[]], ytrain, trained=True)\n",
    "    subsets_test.append(score)\n",
    "    for dim in range(len(all_features)):\n",
    "        candidate_metrics = [] \n",
    "        candidate_models = []  \n",
    "        remaining_features = all_features.difference(selected_features)\n",
    "        \n",
    "        for new_column in remaining_features:\n",
    "            Xtrain_sub = Xtrain_pd[selected_features+[new_column]].to_numpy()\n",
    "            model = LogisticRegression(solver=\"newton-cg\", penalty='none')\n",
    "            model, score = candidates_evaluator(model, Xtrain_sub, ytrain)\n",
    "            candidate_models.append(model)\n",
    "            candidate_metrics.append(score)\n",
    "            num_evaluations += 1\n",
    "            \n",
    "        _ = candidate_fig.scatter([Xtrain_sub.shape[-1]]*len(candidate_metrics), candidate_metrics,\n",
    "                                  color=\"b\")\n",
    "        idx_best_candidate = candidates_argbest(candidate_metrics)\n",
    "        selected_features.append(remaining_features[idx_best_candidate])\n",
    "        best_candidate_metric.append(candidate_metrics[idx_best_candidate])\n",
    "        best_features = selected_features.copy()\n",
    "        subsets_best_features.append(best_features)\n",
    "\n",
    "        best_subset_model = candidate_models[idx_best_candidate]\n",
    "        best_subset_Xtrain = Xtrain_pd[best_features].to_numpy()\n",
    "        best_subset_Xtest = Xtest_pd[best_features].to_numpy()\n",
    "        _, score = test_evaluator(best_subset_model, best_subset_Xtest, ytest, trained=True)\n",
    "        subsets_test.append(score)\n",
    "        _, score = subsets_evaluator(best_subset_model, best_subset_Xtrain, ytrain, trained=True)\n",
    "        subsets_metric.append(score)\n",
    "        num_evaluations += weight_step3 \n",
    "        \n",
    "        if verbose:\n",
    "            print(\"............\")\n",
    "            print(\"Best model (M{}) with {} features: {}\".format(dim+1, dim+1, best_features))\n",
    "            print(\"M{} subset score (3.): {}\".format(dim+1, score))\n",
    "        \n",
    "    best_subset_idx = subsets_argbest(subsets_metric)\n",
    "    best_features = subsets_best_features[best_subset_idx]\n",
    "    \n",
    "    if verbose:\n",
    "        print(\"\\n\\nBest configuration has {} features\".format(best_subset_idx))\n",
    "        print(\"Features: {}\".format(subsets_best_features[best_subset_idx]))\n",
    "        print(\"Total number of trained models:\", num_evaluations)\n",
    "    \n",
    "    best_candidate_score_idx = candidates_argbest(best_candidate_metric)\n",
    "    _ = candidate_fig.plot(range(len(best_candidate_metric)), best_candidate_metric)\n",
    "    _ = candidate_fig.scatter(best_candidate_score_idx, best_candidate_metric[best_candidate_score_idx],\n",
    "                              marker='X', label=\"Best\", color=\"r\")\n",
    "    candidate_fig.set_title(candidates_scorer_name)\n",
    "    candidate_fig.legend()\n",
    "\n",
    "    plt.figure()\n",
    "    subsets_fig = plt.subplot(111)\n",
    "    _ = subsets_fig.plot(range(len(subsets_metric)), subsets_metric, label=\"Selection (3.) scores\")\n",
    "    _ = subsets_fig.scatter(best_subset_idx, subsets_metric[best_subset_idx],\n",
    "                              marker='X', label=\"Best (3.) score\", color=\"r\")\n",
    "    best_test_score_idx = test_argbest(subsets_test)\n",
    "    _ = subsets_fig.plot(range(len(subsets_test)), subsets_test, label=\"Test scores\")\n",
    "    _ = subsets_fig.scatter(best_test_score_idx, subsets_test[best_test_score_idx],\n",
    "                              marker='X', label=\"Best test score\", color=\"y\")\n",
    "    subsets_fig.set_title(subsets_scorer_name)\n",
    "    subsets_fig.legend()"
   ]
  },
  {
   "cell_type": "markdown",
   "metadata": {},
   "source": [
    "#### ONE VS ALL Logistic regression"
   ]
  },
  {
   "cell_type": "markdown",
   "metadata": {},
   "source": [
    "#### t-CS-m class"
   ]
  },
  {
   "cell_type": "code",
   "execution_count": 11,
   "metadata": {},
   "outputs": [
    {
     "data": {
      "text/plain": [
       "0      1\n",
       "1      0\n",
       "2      0\n",
       "3      0\n",
       "4      0\n",
       "      ..\n",
       "362    0\n",
       "363    0\n",
       "364    1\n",
       "365    0\n",
       "366    0\n",
       "Name: class, Length: 367, dtype: int64"
      ]
     },
     "execution_count": 11,
     "metadata": {},
     "output_type": "execute_result"
    }
   ],
   "source": [
    "expr_data = pd.read_csv(\"train.csv\")\n",
    "expr_data['class'] = expr_data['class'].replace({'t-CS-m':1 ,'t-CS-s' : 0 , 'c-CS-s' : 0, 'c-SC-s' : 0, 'c-CS-m' : 0, 'c-SC-m':0, 't-SC-s' : 0, 't-SC-m' : 0})\n",
    "from sklearn.model_selection import train_test_split\n",
    "split_seed = 42\n",
    "split_test_size = 0.2\n",
    "X_full_feat = ['DYRK1A_N', 'ITSN1_N', 'BDNF_N', 'NR1_N', 'NR2A_N', 'pAKT_N', 'pBRAF_N',\n",
    "       'pCAMKII_N', 'pCREB_N', 'pELK_N', 'pERK_N', 'pJNK_N', 'PKCA_N',\n",
    "       'pMEK_N', 'pNR1_N', 'pNR2A_N', 'pNR2B_N', 'pPKCAB_N', 'pRSK_N', 'AKT_N',\n",
    "       'BRAF_N', 'CAMKII_N', 'CREB_N', 'ELK_N', 'ERK_N', 'GSK3B_N', 'JNK_N',\n",
    "       'MEK_N', 'TRKA_N', 'RSK_N', 'APP_N', 'Bcatenin_N', 'MTOR_N',\n",
    "       'P38_N', 'pMTOR_N', 'DSCR1_N', 'AMPKA_N', 'NR2B_N', 'pNUMB_N',\n",
    "       'RAPTOR_N', 'TIAM1_N', 'pP70S6_N', 'NUMB_N', 'P70S6_N', 'pGSK3B_N',\n",
    "       'pPKCG_N', 'CDK5_N', 'S6_N', 'ADARB1_N', 'AcetylH3K9_N', 'RRP1_N',\n",
    "       'BAX_N', 'ARC_N', 'ERBB4_N', 'nNOS_N', 'Tau_N', 'GFAP_N', 'GluR3_N',\n",
    "       'GluR4_N', 'IL1B_N', 'P3525_N', 'pCASP9_N', 'PSD95_N', 'SNCA_N',\n",
    "       'Ubiquitin_N', 'pGSK3B_Tyr216_N', 'SHH_N', 'BAD_N', 'pS6_N', 'pCFOS_N',\n",
    "       'SYP_N', 'H3AcK18_N', 'EGR1_N', 'H3MeK4_N', 'CaNA_N']\n",
    "X_full=expr_data[X_full_feat]\n",
    "y=expr_data['c\n",
    "X_full_train, X_full_test, y_train, y_test = train_test_split(X_full, y,\n",
    "                                                    test_size=split_test_size, \n",
    "                                                    random_state=split_seed)\n",
    "y"
   ]
  },
  {
   "cell_type": "code",
   "execution_count": null,
   "metadata": {},
   "outputs": [],
   "source": [
    "from sklearn.linear_model import LogisticRegression \n",
    "model = LogisticRegression(solver=\"newton-cg\", penalty='none') \n",
    "model.fit(X_full_train, y_train)                               \n",
    "y_predict = model.predict(X_full_train)"
   ]
  },
  {
   "cell_type": "code",
   "execution_count": null,
   "metadata": {},
   "outputs": [],
   "source": [
    "cv = 10\n",
    "forward_selection(X_full_train, y_train, X_full_test, y_test,\n",
    "                  get_evaluator(make_scorer(accuracy)), np.argmax, \n",
    "                  get_cv_evaluator(make_scorer(accuracy), cv), np.argmax, \n",
    "                  get_evaluator(make_scorer(accuracy)), np.argmax, \n",
    "                  candidates_scorer_name=\"Accuracy\",\n",
    "                  subsets_scorer_name=\"Accuracy (CV)\",\n",
    "                  verbose=True, weight_step3=cv)"
   ]
  },
  {
   "cell_type": "markdown",
   "metadata": {},
   "source": [
    "#### t-CS-s class"
   ]
  },
  {
   "cell_type": "code",
   "execution_count": null,
   "metadata": {},
   "outputs": [],
   "source": [
    "expr_data = pd.read_csv(\"train.csv\")\n",
    "expr_data['class'] = expr_data['class'].replace({'t-CS-m': 0 ,'t-CS-s' : 1 , 'c-CS-s' : 0, 'c-SC-s' : 0, 'c-CS-m' : 0, 'c-SC-m':0, 't-SC-s' : 0, 't-SC-m' : 0})\n",
    "from sklearn.model_selection import train_test_split\n",
    "split_seed = 42\n",
    "split_test_size = 0.2\n",
    "X_full_feat = ['DYRK1A_N', 'ITSN1_N', 'BDNF_N', 'NR1_N', 'NR2A_N', 'pAKT_N', 'pBRAF_N',\n",
    "       'pCAMKII_N', 'pCREB_N', 'pELK_N', 'pERK_N', 'pJNK_N', 'PKCA_N',\n",
    "       'pMEK_N', 'pNR1_N', 'pNR2A_N', 'pNR2B_N', 'pPKCAB_N', 'pRSK_N', 'AKT_N',\n",
    "       'BRAF_N', 'CAMKII_N', 'CREB_N', 'ELK_N', 'ERK_N', 'GSK3B_N', 'JNK_N',\n",
    "       'MEK_N', 'TRKA_N', 'RSK_N', 'APP_N', 'Bcatenin_N', 'MTOR_N',\n",
    "       'P38_N', 'pMTOR_N', 'DSCR1_N', 'AMPKA_N', 'NR2B_N', 'pNUMB_N',\n",
    "       'RAPTOR_N', 'TIAM1_N', 'pP70S6_N', 'NUMB_N', 'P70S6_N', 'pGSK3B_N',\n",
    "       'pPKCG_N', 'CDK5_N', 'S6_N', 'ADARB1_N', 'AcetylH3K9_N', 'RRP1_N',\n",
    "       'BAX_N', 'ARC_N', 'ERBB4_N', 'nNOS_N', 'Tau_N', 'GFAP_N', 'GluR3_N',\n",
    "       'GluR4_N', 'IL1B_N', 'P3525_N', 'pCASP9_N', 'PSD95_N', 'SNCA_N',\n",
    "       'Ubiquitin_N', 'pGSK3B_Tyr216_N', 'SHH_N', 'BAD_N', 'pS6_N', 'pCFOS_N',\n",
    "       'SYP_N', 'H3AcK18_N', 'EGR1_N', 'H3MeK4_N', 'CaNA_N']\n",
    "X_full=expr_data[X_full_feat]\n",
    "y=expr_data['class']\n",
    "X_full_train, X_full_test, y_train, y_test = train_test_split(X_full, y,\n",
    "                                                    test_size=split_test_size, \n",
    "                                                    random_state=split_seed)"
   ]
  },
  {
   "cell_type": "code",
   "execution_count": null,
   "metadata": {},
   "outputs": [],
   "source": [
    "forward_selection(X_full_train, y_train, X_full_test, y_test,\n",
    "                  get_evaluator(make_scorer(accuracy)), np.argmax, \n",
    "                  get_cv_evaluator(make_scorer(accuracy), cv), np.argmax, \n",
    "                  get_evaluator(make_scorer(accuracy)), np.argmax, \n",
    "                  candidates_scorer_name=\"Accuracy\",\n",
    "                  subsets_scorer_name=\"Accuracy (CV)\",\n",
    "                  verbose=True, weight_step3=cv)"
   ]
  },
  {
   "cell_type": "markdown",
   "metadata": {},
   "source": [
    "#### c-CS-s class"
   ]
  },
  {
   "cell_type": "code",
   "execution_count": null,
   "metadata": {},
   "outputs": [],
   "source": [
    "expr_data = pd.read_csv(\"train.csv\")\n",
    "expr_data['class'] = expr_data['class'].replace({'t-CS-m': 0 ,'t-CS-s' : 0 , 'c-CS-s' : 1, 'c-SC-s' : 0, 'c-CS-m' : 0, 'c-SC-m':0, 't-SC-s' : 0, 't-SC-m' : 0})\n",
    "from sklearn.model_selection import train_test_split\n",
    "split_seed = 42\n",
    "split_test_size = 0.2\n",
    "X_full_feat = ['DYRK1A_N', 'ITSN1_N', 'BDNF_N', 'NR1_N', 'NR2A_N', 'pAKT_N', 'pBRAF_N',\n",
    "       'pCAMKII_N', 'pCREB_N', 'pELK_N', 'pERK_N', 'pJNK_N', 'PKCA_N',\n",
    "       'pMEK_N', 'pNR1_N', 'pNR2A_N', 'pNR2B_N', 'pPKCAB_N', 'pRSK_N', 'AKT_N',\n",
    "       'BRAF_N', 'CAMKII_N', 'CREB_N', 'ELK_N', 'ERK_N', 'GSK3B_N', 'JNK_N',\n",
    "       'MEK_N', 'TRKA_N', 'RSK_N', 'APP_N', 'Bcatenin_N', 'MTOR_N',\n",
    "       'P38_N', 'pMTOR_N', 'DSCR1_N', 'AMPKA_N', 'NR2B_N', 'pNUMB_N',\n",
    "       'RAPTOR_N', 'TIAM1_N', 'pP70S6_N', 'NUMB_N', 'P70S6_N', 'pGSK3B_N',\n",
    "       'pPKCG_N', 'CDK5_N', 'S6_N', 'ADARB1_N', 'AcetylH3K9_N', 'RRP1_N',\n",
    "       'BAX_N', 'ARC_N', 'ERBB4_N', 'nNOS_N', 'Tau_N', 'GFAP_N', 'GluR3_N',\n",
    "       'GluR4_N', 'IL1B_N', 'P3525_N', 'pCASP9_N', 'PSD95_N', 'SNCA_N',\n",
    "       'Ubiquitin_N', 'pGSK3B_Tyr216_N', 'SHH_N', 'BAD_N', 'pS6_N', 'pCFOS_N',\n",
    "       'SYP_N', 'H3AcK18_N', 'EGR1_N', 'H3MeK4_N', 'CaNA_N']\n",
    "X_full=expr_data[X_full_feat]\n",
    "y=expr_data['class']\n",
    "X_full_train, X_full_test, y_train, y_test = train_test_split(X_full, y,\n",
    "                                                    test_size=split_test_size, \n",
    "                                                    random_state=split_seed)"
   ]
  },
  {
   "cell_type": "code",
   "execution_count": null,
   "metadata": {},
   "outputs": [],
   "source": [
    "forward_selection(X_full_train, y_train, X_full_test, y_test,\n",
    "                  get_evaluator(make_scorer(accuracy)), np.argmax, \n",
    "                  get_cv_evaluator(make_scorer(accuracy), cv), np.argmax, \n",
    "                  get_evaluator(make_scorer(accuracy)), np.argmax, \n",
    "                  candidates_scorer_name=\"Accuracy\",\n",
    "                  subsets_scorer_name=\"Accuracy (CV)\",\n",
    "                  verbose=True, weight_step3=cv)"
   ]
  },
  {
   "cell_type": "markdown",
   "metadata": {},
   "source": [
    "#### c-SC-s class"
   ]
  },
  {
   "cell_type": "code",
   "execution_count": null,
   "metadata": {},
   "outputs": [],
   "source": [
    "expr_data = pd.read_csv(\"train.csv\")\n",
    "expr_data['class'] = expr_data['class'].replace({'t-CS-m': 0 ,'t-CS-s' : 0 , 'c-CS-s' : 0, 'c-SC-s' : 1, 'c-CS-m' : 0, 'c-SC-m':0, 't-SC-s' : 0, 't-SC-m' : 0})\n",
    "from sklearn.model_selection import train_test_split\n",
    "split_seed = 42\n",
    "split_test_size = 0.2\n",
    "X_full_feat = ['DYRK1A_N', 'ITSN1_N', 'BDNF_N', 'NR1_N', 'NR2A_N', 'pAKT_N', 'pBRAF_N',\n",
    "       'pCAMKII_N', 'pCREB_N', 'pELK_N', 'pERK_N', 'pJNK_N', 'PKCA_N',\n",
    "       'pMEK_N', 'pNR1_N', 'pNR2A_N', 'pNR2B_N', 'pPKCAB_N', 'pRSK_N', 'AKT_N',\n",
    "       'BRAF_N', 'CAMKII_N', 'CREB_N', 'ELK_N', 'ERK_N', 'GSK3B_N', 'JNK_N',\n",
    "       'MEK_N', 'TRKA_N', 'RSK_N', 'APP_N', 'Bcatenin_N', 'MTOR_N',\n",
    "       'P38_N', 'pMTOR_N', 'DSCR1_N', 'AMPKA_N', 'NR2B_N', 'pNUMB_N',\n",
    "       'RAPTOR_N', 'TIAM1_N', 'pP70S6_N', 'NUMB_N', 'P70S6_N', 'pGSK3B_N',\n",
    "       'pPKCG_N', 'CDK5_N', 'S6_N', 'ADARB1_N', 'AcetylH3K9_N', 'RRP1_N',\n",
    "       'BAX_N', 'ARC_N', 'ERBB4_N', 'nNOS_N', 'Tau_N', 'GFAP_N', 'GluR3_N',\n",
    "       'GluR4_N', 'IL1B_N', 'P3525_N', 'pCASP9_N', 'PSD95_N', 'SNCA_N',\n",
    "       'Ubiquitin_N', 'pGSK3B_Tyr216_N', 'SHH_N', 'BAD_N', 'pS6_N', 'pCFOS_N',\n",
    "       'SYP_N', 'H3AcK18_N', 'EGR1_N', 'H3MeK4_N', 'CaNA_N']\n",
    "X_full=expr_data[X_full_feat]\n",
    "y=expr_data['class']\n",
    "X_full_train, X_full_test, y_train, y_test = train_test_split(X_full, y,\n",
    "                                                    test_size=split_test_size, \n",
    "                                                    random_state=split_seed)"
   ]
  },
  {
   "cell_type": "code",
   "execution_count": null,
   "metadata": {},
   "outputs": [],
   "source": [
    "forward_selection(X_full_train, y_train, X_full_test, y_test,\n",
    "                  get_evaluator(make_scorer(accuracy)), np.argmax, \n",
    "                  get_cv_evaluator(make_scorer(accuracy), cv), np.argmax, \n",
    "                  get_evaluator(make_scorer(accuracy)), np.argmax, \n",
    "                  candidates_scorer_name=\"Accuracy\",\n",
    "                  subsets_scorer_name=\"Accuracy (CV)\",\n",
    "                  verbose=True, weight_step3=cv)"
   ]
  },
  {
   "cell_type": "markdown",
   "metadata": {},
   "source": [
    "#### c-CS-m class"
   ]
  },
  {
   "cell_type": "code",
   "execution_count": null,
   "metadata": {},
   "outputs": [],
   "source": [
    "expr_data = pd.read_csv(\"train.csv\")\n",
    "expr_data['class'] = expr_data['class'].replace({'t-CS-m': 0 ,'t-CS-s' : 0 , 'c-CS-s' : 0, 'c-SC-s' : 0, 'c-CS-m' : 1, 'c-SC-m':0, 't-SC-s' : 0, 't-SC-m' : 0})\n",
    "from sklearn.model_selection import train_test_split\n",
    "split_seed = 42\n",
    "split_test_size = 0.2\n",
    "X_full_feat = ['DYRK1A_N', 'ITSN1_N', 'BDNF_N', 'NR1_N', 'NR2A_N', 'pAKT_N', 'pBRAF_N',\n",
    "       'pCAMKII_N', 'pCREB_N', 'pELK_N', 'pERK_N', 'pJNK_N', 'PKCA_N',\n",
    "       'pMEK_N', 'pNR1_N', 'pNR2A_N', 'pNR2B_N', 'pPKCAB_N', 'pRSK_N', 'AKT_N',\n",
    "       'BRAF_N', 'CAMKII_N', 'CREB_N', 'ELK_N', 'ERK_N', 'GSK3B_N', 'JNK_N',\n",
    "       'MEK_N', 'TRKA_N', 'RSK_N', 'APP_N', 'Bcatenin_N', 'MTOR_N',\n",
    "       'P38_N', 'pMTOR_N', 'DSCR1_N', 'AMPKA_N', 'NR2B_N', 'pNUMB_N',\n",
    "       'RAPTOR_N', 'TIAM1_N', 'pP70S6_N', 'NUMB_N', 'P70S6_N', 'pGSK3B_N',\n",
    "       'pPKCG_N', 'CDK5_N', 'S6_N', 'ADARB1_N', 'AcetylH3K9_N', 'RRP1_N',\n",
    "       'BAX_N', 'ARC_N', 'ERBB4_N', 'nNOS_N', 'Tau_N', 'GFAP_N', 'GluR3_N',\n",
    "       'GluR4_N', 'IL1B_N', 'P3525_N', 'pCASP9_N', 'PSD95_N', 'SNCA_N',\n",
    "       'Ubiquitin_N', 'pGSK3B_Tyr216_N', 'SHH_N', 'BAD_N', 'pS6_N', 'pCFOS_N',\n",
    "       'SYP_N', 'H3AcK18_N', 'EGR1_N', 'H3MeK4_N', 'CaNA_N']\n",
    "X_full=expr_data[X_full_feat]\n",
    "y=expr_data['class']\n",
    "X_full_train, X_full_test, y_train, y_test = train_test_split(X_full, y,\n",
    "                                                    test_size=split_test_size, \n",
    "                                                    random_state=split_seed)"
   ]
  },
  {
   "cell_type": "code",
   "execution_count": null,
   "metadata": {},
   "outputs": [],
   "source": [
    "forward_selection(X_full_train, y_train, X_full_test, y_test,\n",
    "                  get_evaluator(make_scorer(accuracy)), np.argmax, \n",
    "                  get_cv_evaluator(make_scorer(accuracy), cv), np.argmax, \n",
    "                  get_evaluator(make_scorer(accuracy)), np.argmax, \n",
    "                  candidates_scorer_name=\"Accuracy\",\n",
    "                  subsets_scorer_name=\"Accuracy (CV)\",\n",
    "                  verbose=True, weight_step3=cv)"
   ]
  },
  {
   "cell_type": "markdown",
   "metadata": {},
   "source": [
    "#### c-SC-m class"
   ]
  },
  {
   "cell_type": "code",
   "execution_count": null,
   "metadata": {},
   "outputs": [],
   "source": [
    "expr_data = pd.read_csv(\"train.csv\")\n",
    "expr_data['class'] = expr_data['class'].replace({'t-CS-m': 0 ,'t-CS-s' : 0 , 'c-CS-s' : 0, 'c-SC-s' : 0, 'c-CS-m' : 0, 'c-SC-m':1, 't-SC-s' : 0, 't-SC-m' : 0})\n",
    "from sklearn.model_selection import train_test_split\n",
    "split_seed = 42\n",
    "split_test_size = 0.2\n",
    "X_full_feat = ['DYRK1A_N', 'ITSN1_N', 'BDNF_N', 'NR1_N', 'NR2A_N', 'pAKT_N', 'pBRAF_N',\n",
    "       'pCAMKII_N', 'pCREB_N', 'pELK_N', 'pERK_N', 'pJNK_N', 'PKCA_N',\n",
    "       'pMEK_N', 'pNR1_N', 'pNR2A_N', 'pNR2B_N', 'pPKCAB_N', 'pRSK_N', 'AKT_N',\n",
    "       'BRAF_N', 'CAMKII_N', 'CREB_N', 'ELK_N', 'ERK_N', 'GSK3B_N', 'JNK_N',\n",
    "       'MEK_N', 'TRKA_N', 'RSK_N', 'APP_N', 'Bcatenin_N', 'MTOR_N',\n",
    "       'P38_N', 'pMTOR_N', 'DSCR1_N', 'AMPKA_N', 'NR2B_N', 'pNUMB_N',\n",
    "       'RAPTOR_N', 'TIAM1_N', 'pP70S6_N', 'NUMB_N', 'P70S6_N', 'pGSK3B_N',\n",
    "       'pPKCG_N', 'CDK5_N', 'S6_N', 'ADARB1_N', 'AcetylH3K9_N', 'RRP1_N',\n",
    "       'BAX_N', 'ARC_N', 'ERBB4_N', 'nNOS_N', 'Tau_N', 'GFAP_N', 'GluR3_N',\n",
    "       'GluR4_N', 'IL1B_N', 'P3525_N', 'pCASP9_N', 'PSD95_N', 'SNCA_N',\n",
    "       'Ubiquitin_N', 'pGSK3B_Tyr216_N', 'SHH_N', 'BAD_N', 'pS6_N', 'pCFOS_N',\n",
    "       'SYP_N', 'H3AcK18_N', 'EGR1_N', 'H3MeK4_N', 'CaNA_N']\n",
    "X_full=expr_data[X_full_feat]\n",
    "y=expr_data['class']\n",
    "X_full_train, X_full_test, y_train, y_test = train_test_split(X_full, y,\n",
    "                                                    test_size=split_test_size, \n",
    "                                                    random_state=split_seed)"
   ]
  },
  {
   "cell_type": "code",
   "execution_count": null,
   "metadata": {},
   "outputs": [],
   "source": [
    "forward_selection(X_full_train, y_train, X_full_test, y_test,\n",
    "                  get_evaluator(make_scorer(accuracy)), np.argmax, \n",
    "                  get_cv_evaluator(make_scorer(accuracy), cv), np.argmax, \n",
    "                  get_evaluator(make_scorer(accuracy)), np.argmax, \n",
    "                  candidates_scorer_name=\"Accuracy\",\n",
    "                  subsets_scorer_name=\"Accuracy (CV)\",\n",
    "                  verbose=True, weight_step3=cv)"
   ]
  },
  {
   "cell_type": "markdown",
   "metadata": {},
   "source": [
    "#### t-SC-s class"
   ]
  },
  {
   "cell_type": "code",
   "execution_count": null,
   "metadata": {},
   "outputs": [],
   "source": [
    "expr_data = pd.read_csv(\"train.csv\")\n",
    "expr_data['class'] = expr_data['class'].replace({'t-CS-m': 0 ,'t-CS-s' : 0 , 'c-CS-s' : 0, 'c-SC-s' : 0, 'c-CS-m' : 0, 'c-SC-m':0, 't-SC-s' : 1, 't-SC-m' : 0})\n",
    "from sklearn.model_selection import train_test_split\n",
    "split_seed = 42\n",
    "split_test_size = 0.2\n",
    "X_full_feat = ['DYRK1A_N', 'ITSN1_N', 'BDNF_N', 'NR1_N', 'NR2A_N', 'pAKT_N', 'pBRAF_N',\n",
    "       'pCAMKII_N', 'pCREB_N', 'pELK_N', 'pERK_N', 'pJNK_N', 'PKCA_N',\n",
    "       'pMEK_N', 'pNR1_N', 'pNR2A_N', 'pNR2B_N', 'pPKCAB_N', 'pRSK_N', 'AKT_N',\n",
    "       'BRAF_N', 'CAMKII_N', 'CREB_N', 'ELK_N', 'ERK_N', 'GSK3B_N', 'JNK_N',\n",
    "       'MEK_N', 'TRKA_N', 'RSK_N', 'APP_N', 'Bcatenin_N', 'MTOR_N',\n",
    "       'P38_N', 'pMTOR_N', 'DSCR1_N', 'AMPKA_N', 'NR2B_N', 'pNUMB_N',\n",
    "       'RAPTOR_N', 'TIAM1_N', 'pP70S6_N', 'NUMB_N', 'P70S6_N', 'pGSK3B_N',\n",
    "       'pPKCG_N', 'CDK5_N', 'S6_N', 'ADARB1_N', 'AcetylH3K9_N', 'RRP1_N',\n",
    "       'BAX_N', 'ARC_N', 'ERBB4_N', 'nNOS_N', 'Tau_N', 'GFAP_N', 'GluR3_N',\n",
    "       'GluR4_N', 'IL1B_N', 'P3525_N', 'pCASP9_N', 'PSD95_N', 'SNCA_N',\n",
    "       'Ubiquitin_N', 'pGSK3B_Tyr216_N', 'SHH_N', 'BAD_N', 'pS6_N', 'pCFOS_N',\n",
    "       'SYP_N', 'H3AcK18_N', 'EGR1_N', 'H3MeK4_N', 'CaNA_N']\n",
    "X_full=expr_data[X_full_feat]\n",
    "y=expr_data['class']\n",
    "X_full_train, X_full_test, y_train, y_test = train_test_split(X_full, y,\n",
    "                                                    test_size=split_test_size, \n",
    "                                                    random_state=split_seed)"
   ]
  },
  {
   "cell_type": "code",
   "execution_count": null,
   "metadata": {},
   "outputs": [],
   "source": [
    "forward_selection(X_full_train, y_train, X_full_test, y_test,\n",
    "                  get_evaluator(make_scorer(accuracy)), np.argmax, \n",
    "                  get_cv_evaluator(make_scorer(accuracy), cv), np.argmax, \n",
    "                  get_evaluator(make_scorer(accuracy)), np.argmax, \n",
    "                  candidates_scorer_name=\"Accuracy\",\n",
    "                  subsets_scorer_name=\"Accuracy (CV)\",\n",
    "                  verbose=True, weight_step3=cv)"
   ]
  },
  {
   "cell_type": "markdown",
   "metadata": {},
   "source": [
    "#### t-SC-m class"
   ]
  },
  {
   "cell_type": "code",
   "execution_count": null,
   "metadata": {},
   "outputs": [],
   "source": [
    "expr_data = pd.read_csv(\"train.csv\")\n",
    "expr_data['class'] = expr_data['class'].replace({'t-CS-m': 0 ,'t-CS-s' : 0 , 'c-CS-s' : 0, 'c-SC-s' : 0, 'c-CS-m' : 0, 'c-SC-m':0, 't-SC-s' : 0, 't-SC-m' : 1})\n",
    "from sklearn.model_selection import train_test_split\n",
    "split_seed = 42\n",
    "split_test_size = 0.2\n",
    "X_full_feat = ['DYRK1A_N', 'ITSN1_N', 'BDNF_N', 'NR1_N', 'NR2A_N', 'pAKT_N', 'pBRAF_N',\n",
    "       'pCAMKII_N', 'pCREB_N', 'pELK_N', 'pERK_N', 'pJNK_N', 'PKCA_N',\n",
    "       'pMEK_N', 'pNR1_N', 'pNR2A_N', 'pNR2B_N', 'pPKCAB_N', 'pRSK_N', 'AKT_N',\n",
    "       'BRAF_N', 'CAMKII_N', 'CREB_N', 'ELK_N', 'ERK_N', 'GSK3B_N', 'JNK_N',\n",
    "       'MEK_N', 'TRKA_N', 'RSK_N', 'APP_N', 'Bcatenin_N', 'MTOR_N',\n",
    "       'P38_N', 'pMTOR_N', 'DSCR1_N', 'AMPKA_N', 'NR2B_N', 'pNUMB_N',\n",
    "       'RAPTOR_N', 'TIAM1_N', 'pP70S6_N', 'NUMB_N', 'P70S6_N', 'pGSK3B_N',\n",
    "       'pPKCG_N', 'CDK5_N', 'S6_N', 'ADARB1_N', 'AcetylH3K9_N', 'RRP1_N',\n",
    "       'BAX_N', 'ARC_N', 'ERBB4_N', 'nNOS_N', 'Tau_N', 'GFAP_N', 'GluR3_N',\n",
    "       'GluR4_N', 'IL1B_N', 'P3525_N', 'pCASP9_N', 'PSD95_N', 'SNCA_N',\n",
    "       'Ubiquitin_N', 'pGSK3B_Tyr216_N', 'SHH_N', 'BAD_N', 'pS6_N', 'pCFOS_N',\n",
    "       'SYP_N', 'H3AcK18_N', 'EGR1_N', 'H3MeK4_N', 'CaNA_N']\n",
    "X_full=expr_data[X_full_feat]\n",
    "y=expr_data['class']\n",
    "X_full_train, X_full_test, y_train, y_test = train_test_split(X_full, y,\n",
    "                                                    test_size=split_test_size, \n",
    "                                                    random_state=split_seed)"
   ]
  },
  {
   "cell_type": "code",
   "execution_count": null,
   "metadata": {},
   "outputs": [],
   "source": [
    "forward_selection(X_full_train, y_train, X_full_test, y_test,\n",
    "                  get_evaluator(make_scorer(accuracy)), np.argmax, \n",
    "                  get_cv_evaluator(make_scorer(accuracy), cv), np.argmax, \n",
    "                  get_evaluator(make_scorer(accuracy)), np.argmax, \n",
    "                  candidates_scorer_name=\"Accuracy\",\n",
    "                  subsets_scorer_name=\"Accuracy (CV)\",\n",
    "                  verbose=True, weight_step3=cv)"
   ]
  },
  {
   "cell_type": "markdown",
   "metadata": {},
   "source": [
    "##### Summary classes and relative number and names of relevant features\n",
    "\n",
    "**c-CS-s** (21) -> 'ERK_N', 'AKT_N', 'ADARB1_N', 'DYRK1A_N', 'SYP_N', 'AMPKA_N', 'APP_N', 'ARC_N', 'AcetylH3K9_N', 'BAX_N', 'BRAF_N', 'BAD_N', 'CDK5_N', 'pCAMKII_N', 'ELK_N', 'CaNA_N', 'GFAP_N', 'CREB_N', 'P38_N', 'Ubiquitin_N', 'BDNF_N'\n",
    "\n",
    "**c-CS-m** (25) -> 'ADARB1_N', 'AKT_N', 'AMPKA_N', 'APP_N', 'ARC_N', 'AcetylH3K9_N', 'BAD_N', 'BAX_N', **'Bcatenin_N', 'NUMB_N'**, 'ELK_N', **'GSK3B_N'**, 'BDNF_N', 'DYRK1A_N', **'ITSN1_N', 'ERBB4_N','GluR4_N', 'H3AcK18_N', 'NR2A_N', 'MTOR_N'**, 'BRAF_N', **'CAMKII_N'**, 'CREB_N', 'CaNA_N', **'DSCR1_N'***\n",
    "\n",
    "**c-SC-s** (11) -> 'AKT_N', 'DYRK1A_N', 'pPKCG_N', 'AcetylH3K9_N', 'CREB_N', 'ADARB1_N', 'ELK_N', 'Tau_N', 'CDK5_N', 'AMPKA_N', 'APP_N'\n",
    "\n",
    "**c-SC-m** (7) -> **'BRAF_N', 'pCAMKII_N', 'NUMB_N', 'BDNF_N', 'pERK_N', 'pPKCAB_N', 'BAX_N'***\n",
    "\n",
    "**t-CS-s** (11) -> 'DSCR1_N', 'ADARB1_N', 'pGSK3B_Tyr216_N', 'ARC_N', 'BRAF_N', 'BDNF_N', 'Bcatenin_N', 'NUMB_N', 'MTOR_N', 'APP_N', 'AMPKA_N'\n",
    "\n",
    "**t-CS-m** (8) -> 'BRAF_N', 'NUMB_N', **'DYRK1A_N', 'pCAMKII_N'**, 'ARC_N', **'SNCA_N', 'CDK5_N', 'BAX_N'**\n",
    "\n",
    "**t-SC-s** (28) -> 'pNR2B_N', 'Tau_N', 'NR2B_N', 'BAX_N', 'APP_N', 'GluR4_N', 'ADARB1_N', 'BAD_N', 'NR1_N', 'BDNF_N', 'EGR1_N', 'ELK_N', 'ARC_N', 'ERBB4_N', 'JNK_N', 'CDK5_N', 'H3AcK18_N', 'ERK_N', 'pCASP9_N', 'nNOS_N', 'GSK3B_N', 'P3525_N', 'pRSK_N', 'AKT_N', 'BRAF_N', 'pPKCG_N', 'CaNA_N', 'MTOR_N'\n",
    "\n",
    "**t-SC-m** (10) -> 'Tau_N', 'pPKCG_N', **'pERK_N'**, 'AKT_N', **'AMPKA_N'**, 'APP_N', 'ADARB1_N', **'pCAMKII_N'**, 'BRAF_N', 'ARC_N'"
   ]
  },
  {
   "cell_type": "markdown",
   "metadata": {},
   "source": [
    "Immediately by visual inspection of the results we see that the number of protein expressed is less in case in which there is the memantine treatment, except for the C-CS-s mice, in which the situation is inverted.\n",
    "\n",
    "In bold there are the proteins present only in the treatment with memantine respect to saline injection.\n",
    "\n",
    "From this scheme it's possible also to see proteins frequently coexpressed in a given class, we will check if there is a correlation between these proteins. \n",
    "- pCAMKII_N - BRAF_N\n",
    "- pCAMKII_N - ARC_N\n",
    "- AKT_N - ADARB1_N\n",
    "- ELK_N - AKT_N\n",
    "- AKT_N - CaNa_N\n",
    "- BAX_N - BDNF_N\n",
    "\n",
    "We will check the correlation also for the proteins' couples that in the boxplots of the distribution have similar expression values (v)\n",
    "- 1 <= v <= 4 :   ERK_N - Bcatenin_N - pPKCG_N\n",
    "- 0 < v <= 3 :   ELK_N - pNR2B_N - pPKCAB_N - pCASP9_N\n",
    "- 0 < v <= 2 :   GSK3B_N - ADARB1_N - Ubiquitin_N\n",
    "- 0 < v <= 1.5 :  TRKA_N- pRSK_N - AKT_N - ELK_N - SOD1_N - pERK_N - pMTOR_N - SYP_N - pGSK3B_N - pGSK3B_Tyr216_N"
   ]
  },
  {
   "cell_type": "markdown",
   "metadata": {},
   "source": [
    "### Feature to feature relationships, collinearity?\n",
    "Measurement of any statistical association between variables and commonly refers to the degree to which a pair of variables are  related. Now we look in general to the correlation between features without divided them in classes.\n",
    "\n",
    "Use of **Spearman's rank correlation coefficient** that does not make any assumption on the normality of the data or linear convariance (like Pearson correlation coefficient) and is robust to outliers.\n",
    "\n",
    "N.B. Of all the possible correlations reported previously, we have reported only those thas have been resulted statistically significant, we have reported as an example the method that we have followed and after an image with all the scatterplots"
   ]
  },
  {
   "cell_type": "code",
   "execution_count": null,
   "metadata": {},
   "outputs": [],
   "source": [
    "from numpy import mean\n",
    "from numpy import std\n",
    "from matplotlib import pyplot\n",
    "\n",
    "data1=expr_data['BAX_N']\n",
    "data2=expr_data['BDNF_N']\n",
    "#summarize\n",
    "#print('data1: mean=%.3f stdv=%.3f' % (mean(data1), std(data1)))\n",
    "#print('data2: mean=%.3f stdv=%.3f' % (mean(data2), std(data2)))\n",
    "#pyplot.xlabel('BAX_N')\n",
    "#pyplot.ylabel('BDNF_N')\n",
    "#pyplot.title('BAX_N-BDNF_N')\n",
    "#pyplot.scatter(data1, data2)\n",
    "#pyplot.show()\n",
    "\n",
    "from scipy import stats\n",
    "rho, pval = stats.spearmanr(data1,data2)\n",
    "#rho \n",
    "#pval"
   ]
  },
  {
   "attachments": {
    "Scatterplots_.png": {
     "image/png": "[encoded data removed]"
    }
   },
   "cell_type": "markdown",
   "metadata": {},
   "source": [
    "![Scatterplots_.png](attachment:Scatterplots_.png)"
   ]
  },
  {
   "cell_type": "code",
   "execution_count": null,
   "metadata": {},
   "outputs": [],
   "source": [
    "sns.heatmap(expr_data.corr())"
   ]
  },
  {
   "cell_type": "markdown",
   "metadata": {},
   "source": [
    "#### Unbalanced classes?\n",
    "Important to see if the classes are unbalanced because otherwise we have to change the **treshold** of **classification** to avoid errors of our interest.\n",
    "Important to check unbalanced also because in the next steps we have to split in test and train sets, and is necessary that both are **representative** of the **data**.\n",
    "\n",
    "Look at the proportion of each class in our data."
   ]
  },
  {
   "cell_type": "code",
   "execution_count": null,
   "metadata": {},
   "outputs": [],
   "source": [
    "expr_data = pd.read_csv(\"train.csv\")\n",
    "expr_data['class'].value_counts()"
   ]
  },
  {
   "cell_type": "code",
   "execution_count": null,
   "metadata": {},
   "outputs": [],
   "source": [
    "sns.countplot(x=expr_data['class'], data=expr_data, palette='hls') "
   ]
  },
  {
   "cell_type": "code",
   "execution_count": null,
   "metadata": {},
   "outputs": [],
   "source": [
    "count_t_SC_s = len(expr_data[expr_data['class']=='t-SC-s'])\n",
    "count_t_CS_s = len(expr_data[expr_data['class']=='t-CS-s'])\n",
    "count_t_CS_m = len(expr_data[expr_data['class']=='t-CS-m'])\n",
    "count_c_CS_s = len(expr_data[expr_data['class']=='c-CS-s'])\n",
    "count_c_SC_s = len(expr_data[expr_data['class']=='c-SC-s'])\n",
    "count_t_SC_m = len(expr_data[expr_data['class']=='t-SC-m'])\n",
    "count_c_CS_m = len(expr_data[expr_data['class']=='c-CS-m'])\n",
    "count_c_SC_m = len(expr_data[expr_data['class']=='c-SC-m'])\n",
    "\n",
    "pct_of_t_SC_s = count_t_SC_s/(count_t_SC_s+count_t_CS_s+count_t_CS_m+count_c_CS_s+count_c_SC_s+count_t_SC_m+count_c_CS_m+count_c_SC_m)\n",
    "print(\"percentage of t-SC-s is\", pct_of_t_SC_s*100)\n",
    "pct_of_t_CS_s = count_t_CS_s/(count_t_SC_s+count_t_CS_s+count_t_CS_m+count_c_CS_s+count_c_SC_s+count_t_SC_m+count_c_CS_m+count_c_SC_m)\n",
    "print(\"percentage of t-CS-s is\", pct_of_t_CS_s*100)\n",
    "pct_of_t_CS_m = count_t_CS_m/(count_t_SC_s+count_t_CS_s+count_t_CS_m+count_c_CS_s+count_c_SC_s+count_t_SC_m+count_c_CS_m+count_c_SC_m)\n",
    "print(\"percentage of t-CS-m is\", pct_of_t_CS_m*100)\n",
    "pct_of_c_CS_s = count_c_CS_s/(count_t_SC_s+count_t_CS_s+count_t_CS_m+count_c_CS_s+count_c_SC_s+count_t_SC_m+count_c_CS_m+count_c_SC_m)\n",
    "print(\"percentage of c-CS-s is\", pct_of_c_CS_s*100)\n",
    "pct_of_c_SC_s = count_c_SC_s/(count_t_SC_s+count_t_CS_s+count_t_CS_m+count_c_CS_s+count_c_SC_s+count_t_SC_m+count_c_CS_m+count_c_SC_m)\n",
    "print(\"percentage of c-SC-s is\", pct_of_c_SC_s*100)\n",
    "pct_of_t_SC_m = count_t_SC_m/(count_t_SC_s+count_t_CS_s+count_t_CS_m+count_c_CS_s+count_c_SC_s+count_t_SC_m+count_c_CS_m+count_c_SC_m)\n",
    "print(\"percentage of t-SC-m is\", pct_of_t_SC_m*100)\n",
    "pct_of_c_CS_m = count_c_CS_m/(count_t_SC_s+count_t_CS_s+count_t_CS_m+count_c_CS_s+count_c_SC_s+count_t_SC_m+count_c_CS_m+count_c_SC_m)\n",
    "print(\"percentage of c-CS-m is\", pct_of_c_CS_m*100)\n",
    "pct_of_c_SC_m = count_c_SC_m/(count_t_SC_s+count_t_CS_s+count_t_CS_m+count_c_CS_s+count_c_SC_s+count_t_SC_m+count_c_CS_m+count_c_SC_m)\n",
    "print(\"percentage of c-SC-m is\", pct_of_c_SC_m*100)"
   ]
  },
  {
   "cell_type": "markdown",
   "metadata": {},
   "source": [
    "Classes, overall, are **balanced**"
   ]
  },
  {
   "cell_type": "markdown",
   "metadata": {},
   "source": [
    "#### Protein more expressed in each class\n",
    "Protein expression can be grouped in mainly three groups 0-1 low expressed, 1-3 medium expressed and proteins highly expressed 3-5. In this case we see the protein more expressed for each class."
   ]
  },
  {
   "cell_type": "code",
   "execution_count": null,
   "metadata": {},
   "outputs": [],
   "source": [
    "expr_matrix = expr_data.groupby(expr_data['class']).mean()\n",
    "expr_matrix.idxmax(axis=1)\n",
    "expr_matrix.max(axis=1)"
   ]
  },
  {
   "cell_type": "markdown",
   "metadata": {},
   "source": [
    "We can see a pattern between classes that represents learn context and classes non in learn context, in particular in the first case the protein more expressed seems to be pCAMKII_N instead in the second case NR2A_N"
   ]
  },
  {
   "cell_type": "markdown",
   "metadata": {},
   "source": [
    "**Expression** of **each protein** for **all** the **classes** (y axis - expression, x -axis classes).\n",
    "Analysis of the variance of expression among classes"
   ]
  },
  {
   "cell_type": "markdown",
   "metadata": {},
   "source": [
    "One example on the method that we have used to graph the plots."
   ]
  },
  {
   "cell_type": "code",
   "execution_count": null,
   "metadata": {},
   "outputs": [],
   "source": [
    "expr_matrix = expr_data['DYRK1A_N'].groupby(expr_data['class']).mean()\n",
    "\n",
    "x=expr_matrix.index\n",
    "y=expr_matrix.values\n",
    "  \n",
    "#plt.fill_between( x, y, color=\"skyblue\", alpha=0.2)\n",
    "#plt.plot(x, y, color=\"Slateblue\", alpha=0.6)\n",
    "\n",
    "#plt.xlabel(\"Class\")\n",
    "#plt.ylabel(\"DYRK1A_N\")"
   ]
  },
  {
   "attachments": {
    "Plot%20expr_class.png": {
     "image/png": "[encoded data removed]"
    }
   },
   "cell_type": "markdown",
   "metadata": {},
   "source": [
    "![Plot%20expr_class.png](attachment:Plot%20expr_class.png)"
   ]
  },
  {
   "cell_type": "markdown",
   "metadata": {},
   "source": [
    "Through the plot for each protein we see that there are:\n",
    "- Proteins that have an high variance among the classes (significant for a multiclass model)\n",
    "- Proteins that do not change between classes \n",
    "- Proteins that change in expression only among some classes"
   ]
  },
  {
   "cell_type": "markdown",
   "metadata": {},
   "source": [
    "#### Important proteins for each pair of biological meaningful classes\n",
    "The research article illustrates a table in which there are group comparisons with biological relevance.\n",
    "\n",
    "We have reported the features resulted important for the classification of each this pairwise biological meaningful classes."
   ]
  },
  {
   "cell_type": "code",
   "execution_count": null,
   "metadata": {},
   "outputs": [],
   "source": [
    "expr_data = pd.read_csv(\"train.csv\")\n",
    "t_SC_s = (expr_data[expr_data['class']=='t-SC-s'])\n",
    "t_CS_s = (expr_data[expr_data['class']=='t-CS-s'])\n",
    "t_CS_m = (expr_data[expr_data['class']=='t-CS-m'])\n",
    "c_CS_s = (expr_data[expr_data['class']=='c-CS-s'])\n",
    "c_SC_s = (expr_data[expr_data['class']=='c-SC-s'])\n",
    "t_SC_m = (expr_data[expr_data['class']=='t-SC-m'])\n",
    "c_CS_m = (expr_data[expr_data['class']=='c-CS-m'])\n",
    "c_SC_m = (expr_data[expr_data['class']=='c-SC-m'])\n",
    "\n",
    "frames_treat_DS=[t_CS_m, t_CS_s] \n",
    "treat_DS = pd.concat(frames_treat_DS)\n",
    "frames_learn_contr=[c_CS_s, c_SC_s] \n",
    "learn_cont = pd.concat(frames_learn_contr)\n",
    "frames_DS_contr = [c_CS_s, t_CS_s] \n",
    "DS_contr = pd.concat(frames_DS_contr)"
   ]
  },
  {
   "cell_type": "markdown",
   "metadata": {},
   "source": [
    "Analysis of the important proteins that are activated by **memantine** in **learn context** (classify 't-CS-s'/'t-CS-m')"
   ]
  },
  {
   "cell_type": "code",
   "execution_count": null,
   "metadata": {},
   "outputs": [],
   "source": [
    "treat_DS['class'] = treat_DS['class'].replace({'t-CS-m': 1 ,'t-CS-s' : 0})\n",
    "from sklearn.model_selection import train_test_split\n",
    "split_seed = 42\n",
    "split_test_size = 0.2\n",
    "X_full_feat = ['DYRK1A_N', 'ITSN1_N', 'BDNF_N', 'NR1_N', 'NR2A_N', 'pAKT_N', 'pBRAF_N',\n",
    "       'pCAMKII_N', 'pCREB_N', 'pELK_N', 'pERK_N', 'pJNK_N', 'PKCA_N',\n",
    "       'pMEK_N', 'pNR1_N', 'pNR2A_N', 'pNR2B_N', 'pPKCAB_N', 'pRSK_N', 'AKT_N',\n",
    "       'BRAF_N', 'CAMKII_N', 'CREB_N', 'ELK_N', 'ERK_N', 'GSK3B_N', 'JNK_N',\n",
    "       'MEK_N', 'TRKA_N', 'RSK_N', 'APP_N', 'Bcatenin_N', 'MTOR_N',\n",
    "       'P38_N', 'pMTOR_N', 'DSCR1_N', 'AMPKA_N', 'NR2B_N', 'pNUMB_N',\n",
    "       'RAPTOR_N', 'TIAM1_N', 'pP70S6_N', 'NUMB_N', 'P70S6_N', 'pGSK3B_N',\n",
    "       'pPKCG_N', 'CDK5_N', 'S6_N', 'ADARB1_N', 'AcetylH3K9_N', 'RRP1_N',\n",
    "       'BAX_N', 'ARC_N', 'ERBB4_N', 'nNOS_N', 'Tau_N', 'GFAP_N', 'GluR3_N',\n",
    "       'GluR4_N', 'IL1B_N', 'P3525_N', 'pCASP9_N', 'PSD95_N', 'SNCA_N',\n",
    "       'Ubiquitin_N', 'pGSK3B_Tyr216_N', 'SHH_N', 'BAD_N', 'pS6_N', 'pCFOS_N',\n",
    "       'SYP_N', 'H3AcK18_N', 'EGR1_N', 'H3MeK4_N', 'CaNA_N']\n",
    "X_full=treat_DS[X_full_feat]\n",
    "y=treat_DS['class']\n",
    "X_full_train, X_full_test, y_train, y_test = train_test_split(X_full, y,\n",
    "                                                     test_size=split_test_size,\n",
    "                                                    random_state=split_seed)"
   ]
  },
  {
   "cell_type": "code",
   "execution_count": null,
   "metadata": {},
   "outputs": [],
   "source": [
    "forward_selection(X_full_train, y_train, X_full_test, y_test,\n",
    "                  get_evaluator(make_scorer(accuracy)), np.argmax, \n",
    "                  get_cv_evaluator(make_scorer(accuracy), cv), np.argmax, \n",
    "                  get_evaluator(make_scorer(accuracy)), np.argmax, \n",
    "                  candidates_scorer_name=\"Accuracy\",\n",
    "                  subsets_scorer_name=\"Accuracy (CV)\",\n",
    "                  verbose=True, weight_step3=cv)"
   ]
  },
  {
   "cell_type": "markdown",
   "metadata": {},
   "source": [
    "Analysis of the proteins activated in **learn context** and **not in learn context**, in control (classify 'c-CS-s'/'c-SC-s')"
   ]
  },
  {
   "cell_type": "code",
   "execution_count": null,
   "metadata": {},
   "outputs": [],
   "source": [
    "learn_cont['class'] = learn_cont['class'].replace({'c-CS-s' : 0, 'c-SC-s' : 1})\n",
    "from sklearn.model_selection import train_test_split\n",
    "split_seed = 42\n",
    "split_test_size = 0.2\n",
    "X_full_feat = ['DYRK1A_N', 'ITSN1_N', 'BDNF_N', 'NR1_N', 'NR2A_N', 'pAKT_N', 'pBRAF_N',\n",
    "       'pCAMKII_N', 'pCREB_N', 'pELK_N', 'pERK_N', 'pJNK_N', 'PKCA_N',\n",
    "       'pMEK_N', 'pNR1_N', 'pNR2A_N', 'pNR2B_N', 'pPKCAB_N', 'pRSK_N', 'AKT_N',\n",
    "       'BRAF_N', 'CAMKII_N', 'CREB_N', 'ELK_N', 'ERK_N', 'GSK3B_N', 'JNK_N',\n",
    "       'MEK_N', 'TRKA_N', 'RSK_N', 'APP_N', 'Bcatenin_N', 'MTOR_N',\n",
    "       'P38_N', 'pMTOR_N', 'DSCR1_N', 'AMPKA_N', 'NR2B_N', 'pNUMB_N',\n",
    "       'RAPTOR_N', 'TIAM1_N', 'pP70S6_N', 'NUMB_N', 'P70S6_N', 'pGSK3B_N',\n",
    "       'pPKCG_N', 'CDK5_N', 'S6_N', 'ADARB1_N', 'AcetylH3K9_N', 'RRP1_N',\n",
    "       'BAX_N', 'ARC_N', 'ERBB4_N', 'nNOS_N', 'Tau_N', 'GFAP_N', 'GluR3_N',\n",
    "       'GluR4_N', 'IL1B_N', 'P3525_N', 'pCASP9_N', 'PSD95_N', 'SNCA_N',\n",
    "       'Ubiquitin_N', 'pGSK3B_Tyr216_N', 'SHH_N', 'BAD_N', 'pS6_N', 'pCFOS_N',\n",
    "       'SYP_N', 'H3AcK18_N', 'EGR1_N', 'H3MeK4_N', 'CaNA_N']\n",
    "X_full=learn_cont[X_full_feat]\n",
    "y=learn_cont['class']\n",
    "X_full_train, X_full_test, y_train, y_test = train_test_split(X_full, y,\n",
    "                                                    test_size=split_test_size, \n",
    "                                                    random_state=split_seed)"
   ]
  },
  {
   "cell_type": "code",
   "execution_count": null,
   "metadata": {},
   "outputs": [],
   "source": [
    "cv=10\n",
    "forward_selection(X_full_train, y_train, X_full_test, y_test,\n",
    "                  get_evaluator(make_scorer(accuracy)), np.argmax, \n",
    "                  get_cv_evaluator(make_scorer(accuracy), cv), np.argmax, \n",
    "                  get_evaluator(make_scorer(accuracy)), np.argmax, \n",
    "                  candidates_scorer_name=\"Accuracy\",\n",
    "                  subsets_scorer_name=\"Accuracy (CV)\",\n",
    "                  verbose=True, weight_step3=cv)"
   ]
  },
  {
   "cell_type": "markdown",
   "metadata": {},
   "source": [
    "Analysis of the proteins activated in **control** vs **mice** with **Down Syndrome** in **learn context** (c-CS-s/t-CS-s)"
   ]
  },
  {
   "cell_type": "code",
   "execution_count": null,
   "metadata": {},
   "outputs": [],
   "source": [
    "DS_contr['class'] = DS_contr['class'].replace({'c-CS-s' : 0,'t-CS-s' : 1})\n",
    "from sklearn.model_selection import train_test_split\n",
    "split_seed = 42\n",
    "split_test_size = 0.2\n",
    "X_full_feat = ['DYRK1A_N', 'ITSN1_N', 'BDNF_N', 'NR1_N', 'NR2A_N', 'pAKT_N', 'pBRAF_N',\n",
    "       'pCAMKII_N', 'pCREB_N', 'pELK_N', 'pERK_N', 'pJNK_N', 'PKCA_N',\n",
    "       'pMEK_N', 'pNR1_N', 'pNR2A_N', 'pNR2B_N', 'pPKCAB_N', 'pRSK_N', 'AKT_N',\n",
    "       'BRAF_N', 'CAMKII_N', 'CREB_N', 'ELK_N', 'ERK_N', 'GSK3B_N', 'JNK_N',\n",
    "       'MEK_N', 'TRKA_N', 'RSK_N', 'APP_N', 'Bcatenin_N', 'MTOR_N',\n",
    "       'P38_N', 'pMTOR_N', 'DSCR1_N', 'AMPKA_N', 'NR2B_N', 'pNUMB_N',\n",
    "       'RAPTOR_N', 'TIAM1_N', 'pP70S6_N', 'NUMB_N', 'P70S6_N', 'pGSK3B_N',\n",
    "       'pPKCG_N', 'CDK5_N', 'S6_N', 'ADARB1_N', 'AcetylH3K9_N', 'RRP1_N',\n",
    "       'BAX_N', 'ARC_N', 'ERBB4_N', 'nNOS_N', 'Tau_N', 'GFAP_N', 'GluR3_N',\n",
    "       'GluR4_N', 'IL1B_N', 'P3525_N', 'pCASP9_N', 'PSD95_N', 'SNCA_N',\n",
    "       'Ubiquitin_N', 'pGSK3B_Tyr216_N', 'SHH_N', 'BAD_N', 'pS6_N', 'pCFOS_N',\n",
    "       'SYP_N', 'H3AcK18_N', 'EGR1_N', 'H3MeK4_N', 'CaNA_N']\n",
    "X_full=DS_contr[X_full_feat]\n",
    "y=DS_contr['class']\n",
    "X_full_train, X_full_test, y_train, y_test = train_test_split(X_full, y,\n",
    "                                                    test_size=split_test_size, \n",
    "                                                    random_state=split_seed)"
   ]
  },
  {
   "cell_type": "code",
   "execution_count": null,
   "metadata": {},
   "outputs": [],
   "source": [
    "forward_selection(X_full_train, y_train, X_full_test, y_test,\n",
    "                  get_evaluator(make_scorer(accuracy)), np.argmax, \n",
    "                  get_cv_evaluator(make_scorer(accuracy), cv), np.argmax, \n",
    "                  get_evaluator(make_scorer(accuracy)), np.argmax, \n",
    "                  candidates_scorer_name=\"Accuracy\",\n",
    "                  subsets_scorer_name=\"Accuracy (CV)\",\n",
    "                  verbose=True, weight_step3=cv)"
   ]
  },
  {
   "cell_type": "markdown",
   "metadata": {},
   "source": [
    "Analysis Protein Expression in **Control mice** and **mice** with **Down Syndrome**"
   ]
  },
  {
   "cell_type": "code",
   "execution_count": null,
   "metadata": {},
   "outputs": [],
   "source": [
    "expr_data['class'] = expr_data['class'].replace({'t-CS-m': 1 ,'t-CS-s' : 1 , 'c-CS-s' : 0, 'c-SC-s' : 0, 'c-CS-m' : 0, 'c-SC-m':0, 't-SC-s' : 1, 't-SC-m' : 1})\n",
    "from sklearn.model_selection import train_test_split\n",
    "split_seed = 42\n",
    "split_test_size = 0.2\n",
    "X_full_feat = ['DYRK1A_N', 'ITSN1_N', 'BDNF_N', 'NR1_N', 'NR2A_N', 'pAKT_N', 'pBRAF_N',\n",
    "       'pCAMKII_N', 'pCREB_N', 'pELK_N', 'pERK_N', 'pJNK_N', 'PKCA_N',\n",
    "       'pMEK_N', 'pNR1_N', 'pNR2A_N', 'pNR2B_N', 'pPKCAB_N', 'pRSK_N', 'AKT_N',\n",
    "       'BRAF_N', 'CAMKII_N', 'CREB_N', 'ELK_N', 'ERK_N', 'GSK3B_N', 'JNK_N',\n",
    "       'MEK_N', 'TRKA_N', 'RSK_N', 'APP_N', 'Bcatenin_N', 'MTOR_N',\n",
    "       'P38_N', 'pMTOR_N', 'DSCR1_N', 'AMPKA_N', 'NR2B_N', 'pNUMB_N',\n",
    "       'RAPTOR_N', 'TIAM1_N', 'pP70S6_N', 'NUMB_N', 'P70S6_N', 'pGSK3B_N',\n",
    "       'pPKCG_N', 'CDK5_N', 'S6_N', 'ADARB1_N', 'AcetylH3K9_N', 'RRP1_N',\n",
    "       'BAX_N', 'ARC_N', 'ERBB4_N', 'nNOS_N', 'Tau_N', 'GFAP_N', 'GluR3_N',\n",
    "       'GluR4_N', 'IL1B_N', 'P3525_N', 'pCASP9_N', 'PSD95_N', 'SNCA_N',\n",
    "       'Ubiquitin_N', 'pGSK3B_Tyr216_N', 'SHH_N', 'BAD_N', 'pS6_N', 'pCFOS_N',\n",
    "       'SYP_N', 'H3AcK18_N', 'EGR1_N', 'H3MeK4_N', 'CaNA_N']\n",
    "X_full=expr_data[X_full_feat]\n",
    "y=expr_data['class']\n",
    "X_full_train, X_full_test, y_train, y_test = train_test_split(X_full, y,\n",
    "                                                    test_size=split_test_size, \n",
    "                                                    random_state=split_seed)"
   ]
  },
  {
   "cell_type": "code",
   "execution_count": null,
   "metadata": {},
   "outputs": [],
   "source": [
    "forward_selection(X_full_train, y_train, X_full_test, y_test,\n",
    "                  get_evaluator(make_scorer(accuracy)), np.argmax, \n",
    "                  get_cv_evaluator(make_scorer(accuracy), cv), np.argmax, \n",
    "                  get_evaluator(make_scorer(accuracy)), np.argmax, \n",
    "                  candidates_scorer_name=\"Accuracy\",\n",
    "                  subsets_scorer_name=\"Accuracy (CV)\",\n",
    "                  verbose=True, weight_step3=cv)"
   ]
  },
  {
   "cell_type": "markdown",
   "metadata": {},
   "source": [
    "Important features detected (**number** and **names**):\n",
    "\n",
    "t-CS-s/t-CS-m (13) -> 'BRAF_N', 'PSD95_N', 'AcetylH3K9_N', 'ARC_N', 'BAD_N', 'BDNF_N', 'CAMKII_N', 'DYRK1A_N', 'BAX_N', 'GluR3_N', 'NUMB_N', 'pCAMKII_N', 'ADARB1_N'\n",
    "\n",
    "c-CS-s/c-SC-s (61) -> 'pERK_N', 'AMPKA_N', 'ADARB1_N', 'AKT_N', 'APP_N', 'ARC_N', 'AcetylH3K9_N', 'BAD_N', 'BAX_N', 'BDNF_N', 'BRAF_N', 'Bcatenin_N', 'CAMKII_N', 'CDK5_N', 'CREB_N', 'CaNA_N', 'DSCR1_N', 'DYRK1A_N', 'EGR1_N', 'ELK_N', 'ERBB4_N', 'ERK_N', 'GFAP_N', 'GSK3B_N', 'GluR3_N', 'GluR4_N', 'H3AcK18_N', 'H3MeK4_N', 'IL1B_N', 'ITSN1_N', 'JNK_N', 'MEK_N', 'MTOR_N', 'NR1_N', 'NR2A_N', 'NR2B_N', 'NUMB_N', 'P3525_N', 'P38_N', 'P70S6_N', 'PKCA_N', 'PSD95_N', 'RAPTOR_N', 'RRP1_N', 'RSK_N', 'S6_N', 'SHH_N', 'SNCA_N', 'SYP_N', 'TIAM1_N', 'TRKA_N', 'Tau_N', 'Ubiquitin_N', 'nNOS_N', 'pAKT_N', 'pBRAF_N', 'pCAMKII_N', 'pCASP9_N', 'pCFOS_N', 'pCREB_N', 'pELK_N'\n",
    "\n",
    "c-CS-s/t-CS-s (15) -> ''DYRK1A_N', 'AMPKA_N', 'ADARB1_N', 'AKT_N', 'APP_N', 'ARC_N', 'AcetylH3K9_N', 'BAD_N', 'BAX_N', 'BDNF_N', 'BRAF_N', 'Bcatenin_N', 'CAMKII_N', 'CDK5_N', 'CREB_N'\n",
    "\n",
    "All t-/ All c- (7) -> 'Tau_N', 'DYRK1A_N', 'ELK_N', 'pERK_N', 'AKT_N', 'ERK_N', 'NR1_N'\n",
    "\n",
    "From these analysis we see that to explain the effect of memantine on DS mice, or the difference between control mice and Down Syndrome mice, only a small portion of proteins are needed! "
   ]
  },
  {
   "cell_type": "markdown",
   "metadata": {},
   "source": [
    "### Clustering \n",
    "Exploratory analysis, search for **structures** in the **data** that allow samples from different classes to be easily identified, compare the performance of different clustering algorithms"
   ]
  },
  {
   "cell_type": "markdown",
   "metadata": {},
   "source": [
    "From the cluster analysis we see that it's possible to separate the classes, but the clusters are not well defined"
   ]
  },
  {
   "cell_type": "code",
   "execution_count": null,
   "metadata": {},
   "outputs": [],
   "source": [
    "X_feat = ['DYRK1A_N', 'ITSN1_N', 'BDNF_N', 'NR1_N', 'NR2A_N', 'pAKT_N', 'pBRAF_N',\n",
    "       'pCAMKII_N', 'pCREB_N', 'pELK_N', 'pERK_N', 'pJNK_N', 'PKCA_N',\n",
    "       'pMEK_N', 'pNR1_N', 'pNR2A_N', 'pNR2B_N', 'pPKCAB_N', 'pRSK_N', 'AKT_N',\n",
    "       'BRAF_N', 'CAMKII_N', 'CREB_N', 'ELK_N', 'ERK_N', 'GSK3B_N', 'JNK_N',\n",
    "       'MEK_N', 'TRKA_N', 'RSK_N', 'APP_N', 'Bcatenin_N', 'SOD1_N', 'MTOR_N',\n",
    "       'P38_N', 'pMTOR_N', 'DSCR1_N', 'AMPKA_N', 'NR2B_N', 'pNUMB_N',\n",
    "       'RAPTOR_N', 'TIAM1_N', 'pP70S6_N', 'NUMB_N', 'P70S6_N', 'pGSK3B_N',\n",
    "       'pPKCG_N', 'CDK5_N', 'S6_N', 'ADARB1_N', 'AcetylH3K9_N', 'RRP1_N',\n",
    "       'BAX_N', 'ARC_N', 'ERBB4_N', 'nNOS_N', 'Tau_N', 'GFAP_N', 'GluR3_N',\n",
    "       'GluR4_N', 'IL1B_N', 'P3525_N', 'pCASP9_N', 'PSD95_N', 'SNCA_N',\n",
    "       'Ubiquitin_N', 'pGSK3B_Tyr216_N', 'SHH_N', 'BAD_N', 'pS6_N', 'pCFOS_N',\n",
    "       'SYP_N', 'H3AcK18_N', 'EGR1_N', 'H3MeK4_N', 'CaNA_N']\n",
    "y_class = []\n",
    "len(X_feat)"
   ]
  },
  {
   "cell_type": "code",
   "execution_count": null,
   "metadata": {},
   "outputs": [],
   "source": [
    "expr_data = pd.read_csv(\"train.csv\")\n",
    "expr_data['class'] = expr_data['class'].replace({'t-CS-m':0 ,'t-CS-s' : 1 , 'c-CS-s' : 2, 'c-SC-s' : 3, 'c-CS-m' : 4, 'c-SC-m':5, 't-SC-s' : 6, 't-SC-m' : 7})\n",
    "X = expr_data[X_feat]\n",
    "X.shape\n",
    "X = X.to_numpy()\n",
    "y = expr_data['class']"
   ]
  },
  {
   "cell_type": "markdown",
   "metadata": {},
   "source": [
    "#### PCA"
   ]
  },
  {
   "cell_type": "markdown",
   "metadata": {},
   "source": [
    "We can try to have a first idea on how samples are organized by visualizing how they are distributed in the space. In order to do that (we can only visualize 3 dimensions) we have to reduce the number of features. \n",
    "We can use PCA to convert the original dataset features (76) into 3 new features (NB: not a subset of the most important features, but new ones) and use them as coordinates of a 3D space.\n",
    "PCA is important to remove redundancy."
   ]
  },
  {
   "cell_type": "code",
   "execution_count": null,
   "metadata": {},
   "outputs": [],
   "source": [
    "from sklearn.decomposition import PCA\n",
    "pca = PCA(n_components=3)\n",
    "X = X.reshape(-1, 4*19)\n",
    "X_prj = pca.fit_transform(X)\n",
    "X_prj.shape"
   ]
  },
  {
   "cell_type": "code",
   "execution_count": null,
   "metadata": {},
   "outputs": [],
   "source": [
    "y = np.array(y)\n",
    "y = y.astype(int)\n",
    "X = X.astype(float)"
   ]
  },
  {
   "cell_type": "code",
   "execution_count": null,
   "metadata": {},
   "outputs": [],
   "source": [
    "def plot3d(X, labels):\n",
    "    from mpl_toolkits.mplot3d import Axes3D\n",
    "    \n",
    "    pca = PCA(n_components=3)\n",
    "    X = X.reshape(-1, 4*19)\n",
    "    X = pca.fit_transform(X)\n",
    "    \n",
    "    unique_labels = np.unique(labels)\n",
    "    labels = labels.copy()\n",
    "    labels += np.abs(unique_labels.min())\n",
    "    nlabels = len(unique_labels)\n",
    "    fig = plt.figure(figsize=(15,10))\n",
    "    ax = fig.add_subplot(111, projection='3d')\n",
    "    col = ('tab10' if nlabels <= 10 else \n",
    "          ('tab20' if nlabels <= 20 else\n",
    "           'hsv'))\n",
    "    cmap = plt.cm.get_cmap(col)\n",
    "    smap = cm.ScalarMappable(\n",
    "              norm=mcolors.Normalize(unique_labels.min(), unique_labels.max()+1), \n",
    "              cmap=cmap)\n",
    "    ax.scatter(xs=X_prj[:, 0], ys=X_prj[:, 1], zs=X_prj[:, 2], c=labels, cmap=cmap)\n",
    "    plt.colorbar(mappable=smap, label='digit label', ticks=range(nlabels))\n",
    "    \n",
    "plot3d(X, labels=y)"
   ]
  },
  {
   "cell_type": "markdown",
   "metadata": {},
   "source": [
    "By inspecting the graph we can see that:\n",
    "- Images (in this case points in the 3D space) of the same class seems not to aggregate in closer regions of the space\n",
    "- Different classes/cluster seem not well separated\n",
    "\n",
    "Structures in the data are not very well defined, although seems that it's hard to find clusters in the data, we have evaluated the performance of different clustering algorithm in the data, to see if further informations could be retrieved."
   ]
  },
  {
   "cell_type": "markdown",
   "metadata": {},
   "source": [
    "#### Hierarchical clustering"
   ]
  },
  {
   "cell_type": "code",
   "execution_count": null,
   "metadata": {},
   "outputs": [],
   "source": [
    "from scipy.cluster.hierarchy import dendrogram, linkage\n",
    "Z = linkage(X, metric='euclidean', method='ward')\n",
    "print(\"X.shape\", X.shape)"
   ]
  },
  {
   "cell_type": "code",
   "execution_count": null,
   "metadata": {},
   "outputs": [],
   "source": [
    "from scipy.cluster.hierarchy import dendrogram\n",
    "\n",
    "def plot_dendrogram(Z=None, model=None, X=None, **kwargs):\n",
    "    annotate_above = kwargs.pop('annotate_above', 0)\n",
    "    \n",
    "    if Z is None:\n",
    "        if hasattr(model, 'distances_') and model.distances_ is not None:\n",
    "        \n",
    "            counts = np.zeros(model.children_.shape[0])\n",
    "            n_samples = len(model.labels_)\n",
    "            for i, merge in enumerate(model.children_):\n",
    "                current_count = 0\n",
    "                for child_idx in merge:\n",
    "                    if child_idx < n_samples:\n",
    "                        current_count += 1  \n",
    "                    else:\n",
    "                        current_count += counts[child_idx - n_samples]\n",
    "                counts[i] = current_count\n",
    "\n",
    "            Z = np.column_stack([model.children_, model.distances_,\n",
    "                                              counts]).astype(float)\n",
    "        else:\n",
    "            Z = linkage(X, method=model.linkage, metric=model.affinity)\n",
    "    \n",
    "    if 'n_clusters' in kwargs:\n",
    "        n_clusters = kwargs.pop('n_clusters')\n",
    "        kwargs['color_threshold'] = Z[-n_clusters, 2] + 1e-6\n",
    "    \n",
    "    fig = plt.figure(figsize=(20,10))\n",
    "    ax = fig.add_subplot(111)\n",
    "    ddata = dendrogram(Z, ax=ax, **kwargs) \n",
    "    \n",
    "    for i, d, c in zip(ddata['icoord'], ddata['dcoord'], ddata['color_list']):\n",
    "        x = 0.5 * sum(i[1:3])\n",
    "        y = d[1]\n",
    "        nid = np.where(Z[:,2] == y)[0][0]\n",
    "        if y > annotate_above:\n",
    "            plt.plot(x, y, 'o', c=c)\n",
    "            plt.annotate(str(nid-Z.shape[0]), (x, y), xytext=(0, -5),\n",
    "                         textcoords='offset points',\n",
    "                         va='top', ha='center')\n",
    "    if kwargs['color_threshold']:\n",
    "        plt.axhline(y=kwargs['color_threshold'], c='k')\n",
    "    \n",
    "    return fig, ax"
   ]
  },
  {
   "cell_type": "markdown",
   "metadata": {},
   "source": [
    "Hierarchical clustering: evaluate usage of different **linkage methods**"
   ]
  },
  {
   "cell_type": "code",
   "execution_count": null,
   "metadata": {},
   "outputs": [],
   "source": [
    "methods = ['single', 'average', 'complete', 'centroid', 'ward']\n",
    "\n",
    "for method in methods:\n",
    "    Z = linkage(X, metric='euclidean', method=method)\n",
    "    fig, ax = plot_dendrogram(Z=Z, X=X, truncate_mode='lastp', \n",
    "                              p=100, n_clusters=8)\n",
    "    ax.set_title(method)"
   ]
  },
  {
   "cell_type": "markdown",
   "metadata": {},
   "source": [
    "The linkages that do not perform well are centroid linkage, as we expect, because suffers of inversion. Single linkage is not very good because points are all very close to each other, and reaches only few clusters.\n",
    "\n",
    "**Average** and **complete** are those perform better."
   ]
  },
  {
   "cell_type": "code",
   "execution_count": null,
   "metadata": {},
   "outputs": [],
   "source": [
    "from sklearn.cluster import AgglomerativeClustering\n",
    "distance_threshold=None\n",
    "n_clusters=8\n",
    "\n",
    "model = AgglomerativeClustering(n_clusters=n_clusters, \n",
    "                                distance_threshold=distance_threshold, \n",
    "                                affinity='euclidean', linkage='complete')\n",
    "\n",
    "y_predict = model.fit_predict(X)\n",
    "\n",
    "plot3d(X, labels=y_predict)\n",
    "plot_dendrogram(model=model, X=X_prj, truncate_mode='lastp', p=100, \n",
    "                n_clusters=n_clusters, \n",
    "                color_threshold=distance_threshold)\n",
    "y_predict"
   ]
  },
  {
   "cell_type": "markdown",
   "metadata": {},
   "source": [
    "The clusters found with hierarchical clustering algorithm, seem quiet  well defined from the 3d plot."
   ]
  },
  {
   "cell_type": "markdown",
   "metadata": {},
   "source": [
    "#### Clustering metrics "
   ]
  },
  {
   "cell_type": "code",
   "execution_count": null,
   "metadata": {},
   "outputs": [],
   "source": [
    "def similarity_mat(X, metric):\n",
    "    dist_mat = pairwise_distances(X, metric=metric)\n",
    "    min_dist, max_dist = dist_mat.min(), dist_mat.max()\n",
    "    \n",
    "    sim_mat = 1 - (dist_mat - min_dist) / (max_dist - min_dist)\n",
    "    return sim_mat"
   ]
  },
  {
   "cell_type": "code",
   "execution_count": null,
   "metadata": {},
   "outputs": [],
   "source": [
    "def sorted_sim(sim, y_pred):\n",
    "    idx_sorted = np.argsort(y_pred)\n",
    "    sim = sim[idx_sorted]\n",
    "    sim = sim[:, idx_sorted]\n",
    "    return sim\n",
    "\n",
    "def plot_sorted_sim(sim, y_pred):\n",
    "    sim = sorted_sim(sim, y_pred)\n",
    "    fig, ax = plt.subplots(figsize=(40,30))  \n",
    "    ax = sns.heatmap(sim, ax=ax)\n",
    "    ax.set_yticks([]) \n",
    "    ax.set_xticks([])"
   ]
  },
  {
   "cell_type": "markdown",
   "metadata": {},
   "source": [
    "**Similarity matrix** for Hierarchical clustering"
   ]
  },
  {
   "cell_type": "code",
   "execution_count": null,
   "metadata": {},
   "outputs": [],
   "source": [
    "from sklearn.metrics import pairwise_distances\n",
    "sim = similarity_mat(X, 'euclidean')\n",
    "plot_sorted_sim(sim, y_predict)"
   ]
  },
  {
   "cell_type": "markdown",
   "metadata": {},
   "source": [
    "From the similarity matrix we see that clusters arrange around the main diagonal"
   ]
  },
  {
   "cell_type": "code",
   "execution_count": null,
   "metadata": {},
   "outputs": [],
   "source": [
    "def get_Ncounts(y_predict, y_true, k, j=None):\n",
    "    N = y_true.shape[0]\n",
    "    Nk_mask = y_predict == k\n",
    "    Nk = Nk_mask.sum()\n",
    "    Nj, Nkj = None, None\n",
    "    if j is not None:\n",
    "        Nj_mask = y_true == j\n",
    "        Nj = Nj_mask.sum()\n",
    "        Nkj = np.logical_and(Nj_mask, Nk_mask).sum()\n",
    "    return N, Nk, Nj, Nkj\n",
    "\n",
    "def precision(y_predict, y_true, k, j):\n",
    "    N, Nk, Nj, Nkj = get_Ncounts(y_predict, y_true, k, j)\n",
    "    return Nkj / (Nk + 1e-8)\n",
    "    \n",
    "def recall(y_predict, y_true, k, j):\n",
    "    N, Nk, Nj, Nkj = get_Ncounts(y_predict, y_true, k, j)\n",
    "    return Nkj / (Nj + 1e-8)\n",
    "\n",
    "def F(y_predict, y_true, k, j):\n",
    "    p = precision(y_predict, y_true, k, j)\n",
    "    r = recall(y_predict, y_true, k, j)\n",
    "    return (2*p*r) / (p+r)\n",
    "\n",
    "def purity(y_predict, y_true, k):\n",
    "    cls = np.unique(y_true)\n",
    "    prec = [precision(y_predict, y_true, k, j) for j in cls]\n",
    "    return max(prec)\n",
    "\n",
    "def tot_purity(y_predict, y_true):\n",
    "    N = y_true.shape[0]\n",
    "    nc = len(np.unique(y_true))\n",
    "    p = 0\n",
    "    for k in range(nc):\n",
    "        N, Nk, _, _ = get_Ncounts(y_predict, y_true, k)\n",
    "        pk = purity(y_predict, y_true, k)\n",
    "        p += (Nk / N) * pk\n",
    "    return p"
   ]
  },
  {
   "cell_type": "code",
   "execution_count": null,
   "metadata": {},
   "outputs": [],
   "source": [
    "from sklearn.preprocessing import normalize\n",
    "def incidence_mat(y_pred):\n",
    "    npoints = y_pred.shape[0]\n",
    "    mat = np.zeros([npoints, npoints])\n",
    "    clusters = np.unique(y_pred)\n",
    "    nclusters = clusters.shape[0]\n",
    "    \n",
    "    for i in range(nclusters):\n",
    "        sample_idx = np.where(y_pred == i)\n",
    "        idx = np.meshgrid(sample_idx, sample_idx)\n",
    "        mat[idx[0].reshape(-1), idx[1].reshape(-1)] = 1\n",
    "        \n",
    "    return mat\n",
    "def correlation(X, y_pred, metric):\n",
    "    inc = incidence_mat(y_pred)\n",
    "    sim = similarity_mat(X, metric)\n",
    "    inc = normalize(inc.reshape(1, -1))\n",
    "    sim = normalize(sim.reshape(1, -1))\n",
    "    corr = (inc @ sim.T)\n",
    "    return corr[0,0]   "
   ]
  },
  {
   "cell_type": "code",
   "execution_count": null,
   "metadata": {},
   "outputs": [],
   "source": [
    "cor = correlation(X, y_predict, 'euclidean')\n",
    "print('Hierarchical correlation', cor )\n",
    "y_rand = np.random.randint(0, 10, y.shape[0])\n",
    "rand_cor = correlation(X, y_rand, 'euclidean')\n",
    "print('Random correlation', rand_cor)"
   ]
  },
  {
   "cell_type": "code",
   "execution_count": null,
   "metadata": {},
   "outputs": [],
   "source": [
    "pur = tot_purity(y_predict, y)\n",
    "print('Hierarchical purity', pur)\n",
    "rand_pur=tot_purity(y_rand, y)\n",
    "print('Random purity', rand_pur)"
   ]
  },
  {
   "cell_type": "markdown",
   "metadata": {},
   "source": [
    "We do not record a very high metric, and also this metric is not very dissimilar to a random clustering (to have a difference the purity of a random clustering should be 1/10 the purity found with the algortihm)\n",
    "\n",
    "The incapacity to find clusters could be dued to the presence of proteins that are not important to differentiate the classes (as we see in EDA) so it's important to identify proteins whose  levels are significantly different between classes, and keep only them in the dataset. \n",
    "So probably in some classes there is not enough variance such that the clusters are well separated. "
   ]
  },
  {
   "cell_type": "markdown",
   "metadata": {},
   "source": [
    "#### K-means"
   ]
  },
  {
   "cell_type": "code",
   "execution_count": null,
   "metadata": {},
   "outputs": [],
   "source": [
    "from sklearn.cluster import KMeans\n",
    "model = KMeans(n_clusters=8, init='random', random_state=0)             \n",
    "y_predict = model.fit_predict(X)\n",
    "print(\"Kmeans purity\", tot_purity(y_predict, y))\n",
    "cor = correlation(X, y_predict, 'euclidean')\n",
    "print('Kmeans correlation ', cor)\n",
    "plot3d(X, labels=y_predict)"
   ]
  },
  {
   "cell_type": "markdown",
   "metadata": {},
   "source": [
    "Comparison of the algorithms using the metrics treated during the course"
   ]
  },
  {
   "cell_type": "code",
   "execution_count": null,
   "metadata": {},
   "outputs": [],
   "source": [
    "#K-Means\n",
    "model = KMeans(n_clusters=8, init='random', random_state=0)             \n",
    "print(\"Random Kmeans purity\", tot_purity(model.fit_predict(X), y))\n",
    "\n",
    "# K-Means++\n",
    "model = KMeans(n_clusters=8, init='k-means++', random_state=0)             \n",
    "print(\"Kmeans++ purity\", tot_purity(model.fit_predict(X), y))\n",
    "\n",
    "# Hierarchical\n",
    "hmodel = AgglomerativeClustering(n_clusters=8, \n",
    "                                distance_threshold=distance_threshold, \n",
    "                                affinity='euclidean', linkage='complete')\n",
    "y_predict = hmodel.fit_predict(X)\n",
    "centroids = np.stack([X[y_predict == k].mean(0) for k in range(8)])\n",
    "model = KMeans(n_clusters=8, init=centroids, n_init=1, random_state=0)             \n",
    "print(\"Hierarchical+Kmeans purity\", tot_purity(model.fit_predict(X), y))"
   ]
  },
  {
   "cell_type": "markdown",
   "metadata": {},
   "source": [
    "#### DBSCAN algorithm"
   ]
  },
  {
   "cell_type": "code",
   "execution_count": null,
   "metadata": {},
   "outputs": [],
   "source": [
    "from sklearn.cluster import DBSCAN\n",
    "from sklearn.preprocessing import StandardScaler\n",
    "def make_scorer(metric):\n",
    "    def scorer(estimator, X, y):\n",
    "        y_pred = estimator.fit_predict(X)\n",
    "        return metric(y_pred, y)\n",
    "    return scorer\n",
    "\n",
    "#Search for the best number of Epsilon and MinPts with cross validation\n",
    "from sklearn.model_selection import GridSearchCV\n",
    "params = {'eps': [20], 'min_samples': range(5,20)}\n",
    "cv = GridSearchCV(DBSCAN(), params, scoring=make_scorer(tot_purity), cv=3)\n",
    "cv = cv.fit(X, y)\n",
    "print(cv.best_params_)\n",
    "print(\"CV score\", tot_purity(cv.best_estimator_.fit_predict(X), y))\n",
    "print(\"DBSCAN purity\", tot_purity(y_predict, y))\n",
    "pd.DataFrame(cv.cv_results_)"
   ]
  },
  {
   "cell_type": "markdown",
   "metadata": {},
   "source": [
    "We see that neither clusters algorithms is able to catch the clusters in the data, probably is better to unify similar classes into one class to enhance the variance between groups.\n",
    "\n",
    "Now we have tried another algorithm that is DBSCAN that doesn't require k in advance. Also DBSCAN doesn't perform very well."
   ]
  },
  {
   "cell_type": "markdown",
   "metadata": {},
   "source": [
    "Although we have not reached a good clustering we can evaluate the performance of the different clustering methods on the base\n",
    "of the internal metrics purity i.e. number of observations belonging to the cluster that belong to the same class divided by\n",
    "all the number of observations in the cluster"
   ]
  },
  {
   "cell_type": "markdown",
   "metadata": {},
   "source": [
    "| Algorithm           |Purity\n",
    ":---------------------|---------------------\n",
    "| Hierarchical        | 0.3351498636618552\n",
    "| DBSCAN              | 0.3351498636618552\n",
    "| Random Kmeans       | 0.4005449590380675\n",
    "| Kmeans++            | 0.3896457764790453\n",
    "| Hierarchical+Kmeans | 0.3297002723881621"
   ]
  },
  {
   "cell_type": "markdown",
   "metadata": {},
   "source": [
    "The algorithm that **performs better** in separate the different observations in the different clusters is **K-means**"
   ]
  },
  {
   "cell_type": "markdown",
   "metadata": {},
   "source": [
    "As we have seen in exploratory analysis, the deletion of outliers won't improve the clustering, infact k-means and hierarchical clustering (either very sensible to noise) have about the same performance or perform better to DBSCAN (robust to outliers)"
   ]
  },
  {
   "cell_type": "markdown",
   "metadata": {},
   "source": [
    "#### Biological interpretation"
   ]
  },
  {
   "cell_type": "markdown",
   "metadata": {},
   "source": [
    "From the article we have seen that there are pair of classes that surely from a **biological interpretation** shows differential characteristics, we try to inspect with clustering to see if in the observations belonging to these classes there is enough variance to help the clustering algorithm to find patterns in the data. \n",
    "\n",
    "Given the eight classes of mice, there are 28 possible pairwise comparisons but only a subset of these are biologically meaningful. We concentrate on only some meaningful of these two-comparisons.\n",
    "\n",
    "Example see if clustering can be found between **t-SC-m and t-SC-s**. \n",
    "The difference between the two condition measures the effects of memantine on trisomy baseline."
   ]
  },
  {
   "cell_type": "code",
   "execution_count": null,
   "metadata": {},
   "outputs": [],
   "source": [
    "expr_data = pd.read_csv(\"train.csv\")\n",
    "expr_data1 = expr_data[expr_data['class']=='t-SC-m']\n",
    "expr_data2 = expr_data[expr_data['class']=='t-SC-s']\n",
    "frames=[expr_data1, expr_data2]\n",
    "expr_data3 = pd.concat(frames, axis=0)\n",
    "X = expr_data3[X_feat]\n",
    "X = X.to_numpy()\n",
    "y = expr_data3['class']"
   ]
  },
  {
   "cell_type": "code",
   "execution_count": null,
   "metadata": {},
   "outputs": [],
   "source": [
    "y = expr_data3['class'].replace({'t-SC-m':0 ,'t-SC-s':1})\n",
    "expr_data3.shape\n",
    "X.shape"
   ]
  },
  {
   "cell_type": "code",
   "execution_count": null,
   "metadata": {},
   "outputs": [],
   "source": [
    "from sklearn.decomposition import PCA\n",
    "pca = PCA(n_components=3)\n",
    "X = X.reshape(-1, 4*19)\n",
    "X_prj = pca.fit_transform(X)\n",
    "X_prj.shape"
   ]
  },
  {
   "cell_type": "code",
   "execution_count": null,
   "metadata": {},
   "outputs": [],
   "source": [
    "def plot3d(X, labels):\n",
    "    from mpl_toolkits.mplot3d import Axes3D\n",
    "    \n",
    "    pca = PCA(n_components=3)\n",
    "    X = X.reshape(-1, 8*8)\n",
    "    X = pca.fit_transform(X)\n",
    "    \n",
    "    unique_labels = np.unique(labels)\n",
    "    labels = labels.copy()\n",
    "    labels += np.abs(unique_labels.min())\n",
    "    nlabels = len(unique_labels)\n",
    "    fig = plt.figure(figsize=(15,10))\n",
    "    ax = fig.add_subplot(111, projection='3d')\n",
    "    col = ('tab10' if nlabels <= 10 else \n",
    "          ('tab20' if nlabels <= 20 else\n",
    "           'hsv'))\n",
    "    cmap = plt.cm.get_cmap(col)\n",
    "    smap = cm.ScalarMappable(\n",
    "              norm=mcolors.Normalize(unique_labels.min(), unique_labels.max()+1), \n",
    "              cmap=cmap)\n",
    "    ax.scatter(xs=X_prj[:, 0], ys=X_prj[:, 1], zs=X_prj[:, 2], c=labels, cmap=cmap)\n",
    "    plt.colorbar(mappable=smap, label='digit label', ticks=range(nlabels))\n",
    "    \n",
    "plot3d(X, labels=y)"
   ]
  },
  {
   "cell_type": "markdown",
   "metadata": {},
   "source": [
    "##### Hierarchical clustering"
   ]
  },
  {
   "cell_type": "code",
   "execution_count": null,
   "metadata": {},
   "outputs": [],
   "source": [
    "n_clusters=2\n",
    "\n",
    "model = AgglomerativeClustering(n_clusters=n_clusters, \n",
    "                                distance_threshold=distance_threshold, \n",
    "                                affinity='euclidean', linkage='complete')\n",
    "\n",
    "y_predict = model.fit_predict(X)"
   ]
  },
  {
   "cell_type": "code",
   "execution_count": null,
   "metadata": {},
   "outputs": [],
   "source": [
    "pur = tot_purity(y_predict, y)\n",
    "print('Hierarchical purity', pur)\n",
    "y_rand = np.random.randint(0, 10, y.shape[0])\n",
    "rand_pur = tot_purity(y_rand, y)\n",
    "print('Random purity', rand_pur)"
   ]
  },
  {
   "cell_type": "markdown",
   "metadata": {},
   "source": [
    "##### K-means"
   ]
  },
  {
   "cell_type": "code",
   "execution_count": null,
   "metadata": {},
   "outputs": [],
   "source": [
    "from sklearn.cluster import KMeans\n",
    "model = KMeans(n_clusters=2, init='random', random_state=0)    \n",
    "\n",
    "y_predict = model.fit_predict(X)\n",
    "print(\"Kmeans purity\", tot_purity(y_predict, y))\n",
    "\n",
    "rand_pur = tot_purity(y_rand, y)\n",
    "print('Random purity', rand_pur)"
   ]
  },
  {
   "cell_type": "markdown",
   "metadata": {},
   "source": [
    "So finally we reach the conclusion that the clustering algorithms do not work well because of low variance between the classes.\n",
    "Infact in this last part when we look to two classes, that surely from a biological interpretation differ, because highly variant, metrics of the algorithm improves and random metric is 1/5 the metric computed with the y predicted. \n",
    "But the result of clustering is still not optimal! There could be different explanations to these:\n",
    "- From EDA, we have seen that there are features high correlated -> High redundancy!\n",
    "- From EDA, we have seen that there some features do not change them expression value among classes"
   ]
  },
  {
   "cell_type": "markdown",
   "metadata": {},
   "source": [
    "## 2. CLASSIFICATION: the aim is to find a model that is able to classify mice in the 8 different classes. Steps:\n",
    "I). Feature selection\n",
    "\n",
    "II). Compare different classification algorithms\n",
    "\n",
    "III). Test the best algorithm on the test set \n",
    "\n",
    "N.B. Remember to delete the SOD1 feature in the training, because there isn't in the test set"
   ]
  },
  {
   "cell_type": "code",
   "execution_count": null,
   "metadata": {},
   "outputs": [],
   "source": [
    "expr_data = pd.read_csv(\"train.csv\")\n",
    "expr_data['class'] = expr_data['class'].replace({'t-CS-m':0 ,'t-CS-s' : 1 , 'c-CS-s' : 2, 'c-SC-s' : 3, 'c-CS-m' : 4, 'c-SC-m':5, 't-SC-s' : 6, 't-SC-m' : 7})\n",
    "from sklearn.model_selection import train_test_split\n",
    "split_seed = 42\n",
    "split_test_size = 0.2\n",
    "X_full_feat = ['DYRK1A_N', 'ITSN1_N', 'BDNF_N', 'NR1_N', 'NR2A_N', 'pAKT_N', 'pBRAF_N',\n",
    "       'pCAMKII_N', 'pCREB_N', 'pELK_N', 'pERK_N', 'pJNK_N', 'PKCA_N',\n",
    "       'pMEK_N', 'pNR1_N', 'pNR2A_N', 'pNR2B_N', 'pPKCAB_N', 'pRSK_N', 'AKT_N',\n",
    "       'BRAF_N', 'CAMKII_N', 'CREB_N', 'ELK_N', 'ERK_N', 'GSK3B_N', 'JNK_N',\n",
    "       'MEK_N', 'TRKA_N', 'RSK_N', 'APP_N', 'Bcatenin_N', 'MTOR_N',\n",
    "       'P38_N', 'pMTOR_N', 'DSCR1_N', 'AMPKA_N', 'NR2B_N', 'pNUMB_N',\n",
    "       'RAPTOR_N', 'TIAM1_N', 'pP70S6_N', 'NUMB_N', 'P70S6_N', 'pGSK3B_N',\n",
    "       'pPKCG_N', 'CDK5_N', 'S6_N', 'ADARB1_N', 'AcetylH3K9_N', 'RRP1_N',\n",
    "       'BAX_N', 'ARC_N', 'ERBB4_N', 'nNOS_N', 'Tau_N', 'GFAP_N', 'GluR3_N',\n",
    "       'GluR4_N', 'IL1B_N', 'P3525_N', 'pCASP9_N', 'PSD95_N', 'SNCA_N',\n",
    "       'Ubiquitin_N', 'pGSK3B_Tyr216_N', 'SHH_N', 'BAD_N', 'pS6_N', 'pCFOS_N',\n",
    "       'SYP_N', 'H3AcK18_N', 'EGR1_N', 'H3MeK4_N', 'CaNA_N'] \n",
    "X_full=expr_data[X_full_feat]\n",
    "y=expr_data['class']\n",
    "X_full_train, X_full_test, y_train, y_test = train_test_split(X_full, y,\n",
    "                                                    test_size=split_test_size, \n",
    "                                                    random_state=split_seed)"
   ]
  },
  {
   "cell_type": "markdown",
   "metadata": {},
   "source": [
    "#### Why not to perform the z-test to check the statistical significance of the variables in substitution to feature selection?\n",
    "We can perform the z-test on the multiple logistic regression (with all the parameters), but this is not very meaningful to check the significant variables in the model. We have tried, but for almost all the variables we fail to reject H0. \n",
    "\n",
    "This is due to the high number of parameters, that leads to a situation of collinearity in which two or more predictors are related to one another so it's difficult to determine how each one separately is associated with a given class. As a result in presence of collinearity, the power of the hypotesis test is reduced."
   ]
  },
  {
   "cell_type": "markdown",
   "metadata": {},
   "source": [
    "#### Forward feature selection\n",
    "**Best subset selection** due to the high number of features, gives a memory error. Although it could have been better than forward feature selection ( that is a greedy approach); this choice comes from the fact that best subset selection requires more computational steps that on this device are not supported.\n",
    "\n",
    "Feature selection has been done with **forward feature selection** and the result has been double checked with the result of **lasso regression** (graphic of the shrinkage)"
   ]
  },
  {
   "cell_type": "code",
   "execution_count": null,
   "metadata": {},
   "outputs": [],
   "source": [
    "from sklearn.metrics import r2_score, mean_squared_error\n",
    "from sklearn.linear_model import LinearRegression\n",
    "from sklearn.model_selection import cross_val_score\n",
    "from sklearn.metrics import make_scorer\n",
    "\n",
    "from sklearn.dummy import DummyRegressor\n",
    "from sklearn.model_selection import cross_val_score\n",
    "from sklearn.metrics import make_scorer\n",
    "\n",
    "def accuracy(y_pred, y_true):\n",
    "    return (y_pred == y_true).sum() / y_pred.shape[0]\n",
    "\n",
    "def get_evaluator(scorer):\n",
    "    def evaluator(model, X, y, trained=False):\n",
    "        if not trained:\n",
    "            model = model.fit(X, y)\n",
    "        score = scorer(model, X, y)\n",
    "        return model, score\n",
    "    return evaluator   \n",
    "\n",
    "def get_cv_evaluator(scorer, cv=3):\n",
    "    def evaluator(model, X, y, trained=False):            \n",
    "        scores = cross_val_score(model, X, y, scoring=scorer, cv=cv)\n",
    "        if not trained:\n",
    "            model = model.fit(X, y)\n",
    "        return model, np.mean(scores)\n",
    "    \n",
    "    return evaluator\n",
    "\n",
    "def get_val_evaluator(scorer, val_size=0.1):\n",
    "    def evaluator(model, X, y, trained=False):\n",
    "        X_train_small, X_val, y_train_small, y_val = train_test_split(X, y, \n",
    "                                                                      test_size=val_size,\n",
    "                                                                      random_state=0)\n",
    "        \n",
    "        if not trained:\n",
    "            model = model.fit(X_train_small, y_train_small)\n",
    "        score = scorer(model, X_val, y_val) \n",
    "        \n",
    "        return model, score\n",
    "    \n",
    "    return evaluator\n",
    "\n",
    "def forward_selection(Xtrain_pd, ytrain, Xtest_pd, ytest,\n",
    "                      candidates_evaluator, candidates_argbest,\n",
    "                      subsets_evaluator, subsets_argbest,       \n",
    "                      test_evaluator=None, test_argbest=None,\n",
    "                      candidates_scorer_name=None,  \n",
    "                      subsets_scorer_name=None,     \n",
    "                      verbose=True, weight_step3=0):   \n",
    "    test_evaluator = subsets_evaluator if not test_evaluator else test_evaluator\n",
    "    test_argbest = subsets_argbest if not test_argbest else test_argbest\n",
    "    num_features = Xtrain_pd.shape[-1]\n",
    "    best_candidate_metric = []\n",
    "    subsets_test = []\n",
    "    subsets_metric = []        \n",
    "    subsets_best_features = [] \n",
    "    plt.figure()\n",
    "    candidate_fig = plt.subplot(111) \n",
    "    num_evaluations = 0        \n",
    "    \n",
    "    selected_features = []\n",
    "    all_features = Xtrain_pd.columns\n",
    "    model = DummyRegressor()\n",
    "    model, score = candidates_evaluator(model, Xtrain_pd[[]], ytrain)\n",
    "    best_candidate_metric.append(score)\n",
    "    subsets_best_features.append([])\n",
    "    _ = candidate_fig.scatter([0], [score], color=\"b\")\n",
    "    _, score = subsets_evaluator(model, Xtrain_pd[[]], ytrain, trained=True)\n",
    "    subsets_metric.append(score)\n",
    "    _, score = test_evaluator(model, Xtrain_pd[[]], ytrain, trained=True)\n",
    "    subsets_test.append(score)\n",
    "    for dim in range(len(all_features)):\n",
    "        candidate_metrics = [] \n",
    "        candidate_models = []  \n",
    "        remaining_features = all_features.difference(selected_features)\n",
    "        \n",
    "        for new_column in remaining_features:\n",
    "            Xtrain_sub = Xtrain_pd[selected_features+[new_column]].to_numpy()\n",
    "            model = LogisticRegression(solver=\"newton-cg\", penalty='none')\n",
    "            model, score = candidates_evaluator(model, Xtrain_sub, ytrain)\n",
    "            candidate_models.append(model)\n",
    "            candidate_metrics.append(score)\n",
    "            num_evaluations += 1\n",
    "            \n",
    "        _ = candidate_fig.scatter([Xtrain_sub.shape[-1]]*len(candidate_metrics), candidate_metrics,\n",
    "                                  color=\"b\")\n",
    "        idx_best_candidate = candidates_argbest(candidate_metrics)\n",
    "        selected_features.append(remaining_features[idx_best_candidate])\n",
    "        best_candidate_metric.append(candidate_metrics[idx_best_candidate])\n",
    "        best_features = selected_features.copy()\n",
    "        subsets_best_features.append(best_features)\n",
    "\n",
    "        best_subset_model = candidate_models[idx_best_candidate]\n",
    "        best_subset_Xtrain = Xtrain_pd[best_features].to_numpy()\n",
    "        best_subset_Xtest = Xtest_pd[best_features].to_numpy()\n",
    "        _, score = test_evaluator(best_subset_model, best_subset_Xtest, ytest, trained=True)\n",
    "        subsets_test.append(score)\n",
    "        _, score = subsets_evaluator(best_subset_model, best_subset_Xtrain, ytrain, trained=True)\n",
    "        subsets_metric.append(score)\n",
    "        num_evaluations += weight_step3 \n",
    "        \n",
    "        if verbose:\n",
    "            print(\"............\")\n",
    "            print(\"Best model (M{}) with {} features: {}\".format(dim+1, dim+1, best_features))\n",
    "            print(\"M{} subset score (3.): {}\".format(dim+1, score))\n",
    "        \n",
    "    best_subset_idx = subsets_argbest(subsets_metric)\n",
    "    best_features = subsets_best_features[best_subset_idx]\n",
    "    \n",
    "    if verbose:\n",
    "        print(\"\\n\\nBest configuration has {} features\".format(best_subset_idx))\n",
    "        print(\"Features: {}\".format(subsets_best_features[best_subset_idx]))\n",
    "        print(\"Total number of trained models:\", num_evaluations)\n",
    "    \n",
    "    best_candidate_score_idx = candidates_argbest(best_candidate_metric)\n",
    "    _ = candidate_fig.plot(range(len(best_candidate_metric)), best_candidate_metric)\n",
    "    _ = candidate_fig.scatter(best_candidate_score_idx, best_candidate_metric[best_candidate_score_idx],\n",
    "                              marker='X', label=\"Best\", color=\"r\")\n",
    "    candidate_fig.set_title(candidates_scorer_name)\n",
    "    candidate_fig.legend()\n",
    "\n",
    "    plt.figure()\n",
    "    subsets_fig = plt.subplot(111)\n",
    "    _ = subsets_fig.plot(range(len(subsets_metric)), subsets_metric, label=\"Selection (3.) scores\")\n",
    "    _ = subsets_fig.scatter(best_subset_idx, subsets_metric[best_subset_idx],\n",
    "                              marker='X', label=\"Best (3.) score\", color=\"r\")\n",
    "    best_test_score_idx = test_argbest(subsets_test)\n",
    "    _ = subsets_fig.plot(range(len(subsets_test)), subsets_test, label=\"Test scores\")\n",
    "    _ = subsets_fig.scatter(best_test_score_idx, subsets_test[best_test_score_idx],\n",
    "                              marker='X', label=\"Best test score\", color=\"y\")\n",
    "    subsets_fig.set_title(subsets_scorer_name)\n",
    "    subsets_fig.legend()"
   ]
  },
  {
   "cell_type": "code",
   "execution_count": null,
   "metadata": {},
   "outputs": [],
   "source": [
    "cv=10\n",
    "forward_selection(X_full_train, y_train, X_full_test, y_test,\n",
    "                  get_evaluator(make_scorer(accuracy)), np.argmax,\n",
    "                  get_cv_evaluator(make_scorer(accuracy), cv), np.argmax, \n",
    "                  get_evaluator(make_scorer(accuracy)), np.argmax,\n",
    "                  candidates_scorer_name=\"Accuracy\",\n",
    "                  subsets_scorer_name=\"Accuracy (CV)\",\n",
    "                  verbose=True, weight_step3=cv)"
   ]
  },
  {
   "cell_type": "markdown",
   "metadata": {},
   "source": [
    "Best model has **10 features**:\n",
    "\n",
    "'BRAF_N', 'pPKCG_N', 'pCAMKII_N', 'pERK_N', 'NUMB_N', 'AMPKA_N', 'Tau_N', 'BAX_N', 'CaNA_N', 'DSCR1_N'"
   ]
  },
  {
   "cell_type": "markdown",
   "metadata": {},
   "source": [
    "#### Lasso logistic regression\n",
    "**Standardization** is a common requirement for many machine learning estimators implemented in scikit-learn; they might behave badly if the individual features do not more or less look like standard normally distributed data: Gaussian with zero mean and unit variance.\n",
    "\n",
    "In this case, infact, prior to apply logistic regression with l1 regularizer, we standardize the independent variable x"
   ]
  },
  {
   "cell_type": "code",
   "execution_count": null,
   "metadata": {
    "scrolled": true
   },
   "outputs": [],
   "source": [
    "C_vals = np.linspace(1e-4, 0.5, 100)\n",
    "betas = []\n",
    "\n",
    "from sklearn import preprocessing\n",
    "X_std = preprocessing.scale(X_full_train)\n",
    "\n",
    "for C in C_vals:\n",
    "    model = LogisticRegression(solver='saga', penalty='l1', C=C, multi_class='multinomial')\n",
    "    model.fit(X_std, y_train)\n",
    "    beta = model.coef_.reshape(-1)\n",
    "    betas.append(beta)\n",
    "betas = np.stack(betas, axis=1) \n",
    "\n",
    "for beta, name in zip(betas, X_full_feat):\n",
    "    plt.plot(C_vals, beta, label=name)\n",
    "plt.legend()\n",
    "plt.xlabel(\"C=1/lambda\")\n",
    "plt.ylabel(\"beta\")"
   ]
  },
  {
   "cell_type": "markdown",
   "metadata": {},
   "source": [
    "#### One vs All or Multinomial classification??\n",
    "Before to fit the regression model we have seen what type of logistic regression to use, in particular between One vs All and Multinomial, and on the base of the curve in which on the y axis is plotted the accuracy, we have chosen the multinomial."
   ]
  },
  {
   "cell_type": "code",
   "execution_count": null,
   "metadata": {},
   "outputs": [],
   "source": [
    "import timeit\n",
    "import warnings\n",
    "import matplotlib.pyplot as plt\n",
    "import numpy as np\n",
    "\n",
    "from sklearn.datasets import fetch_20newsgroups_vectorized\n",
    "from sklearn.linear_model import LogisticRegression\n",
    "from sklearn.model_selection import train_test_split\n",
    "from sklearn.exceptions import ConvergenceWarning\n",
    "warnings.filterwarnings(\"ignore\", category=ConvergenceWarning,\n",
    "                        module=\"sklearn\")\n",
    "t0 = timeit.default_timer()\n",
    "solver = 'saga'\n",
    "n_samples = 10000\n",
    "\n",
    "train_samples, n_features = X_full_train.shape\n",
    "n_classes = np.unique(y).shape[0]\n",
    "\n",
    "print('Dataset Protein Expression, train_samples=%i, n_features=%i, n_classes=%i'\n",
    "      % (train_samples, n_features, n_classes))\n",
    "\n",
    "models = {'ovr': {'name': 'One versus Rest', 'iters': [1, 2, 4]},\n",
    "          'multinomial': {'name': 'Multinomial', 'iters': [1, 3, 7]}}\n",
    "\n",
    "for model in models:\n",
    "    accuracies = [1 / n_classes]\n",
    "    times = [0]\n",
    "    densities = [1]\n",
    "\n",
    "    model_params = models[model]\n",
    "    for this_max_iter in model_params['iters']:\n",
    "        print('[model=%s, solver=%s] Number of epochs: %s' %\n",
    "              (model_params['name'], solver, this_max_iter))\n",
    "        lr = LogisticRegression(solver=solver,\n",
    "                                multi_class=model,\n",
    "                                penalty='l1',\n",
    "                                max_iter=this_max_iter,\n",
    "                                random_state=42,\n",
    "                                )\n",
    "        t1 = timeit.default_timer()\n",
    "        lr.fit(X_full_train, y_train)\n",
    "        train_time = timeit.default_timer() - t1\n",
    "\n",
    "        y_pred = lr.predict(X_full_test)\n",
    "        accuracy = np.sum(y_pred == y_test) / y_test.shape[0]\n",
    "        density = np.mean(lr.coef_ != 0, axis=1) * 100\n",
    "        accuracies.append(accuracy)\n",
    "        densities.append(density)\n",
    "        times.append(train_time)\n",
    "    models[model]['times'] = times\n",
    "    models[model]['densities'] = densities\n",
    "    models[model]['accuracies'] = accuracies\n",
    "    print('Test accuracy for model %s: %.4f' % (model, accuracies[-1]))\n",
    "    print('%% non-zero coefficients for model %s, '\n",
    "          'per class:\\n %s' % (model, densities[-1]))\n",
    "    print('Run time (%i epochs) for model %s:'\n",
    "          '%.2f' % (model_params['iters'][-1], model, times[-1]))\n",
    "\n",
    "fig = plt.figure()\n",
    "ax = fig.add_subplot(111)\n",
    "\n",
    "for model in models:\n",
    "    name = models[model]['name']\n",
    "    times = models[model]['times']\n",
    "    accuracies = models[model]['accuracies']\n",
    "    ax.plot(times, accuracies, marker='o',\n",
    "            label='Model: %s' % name)\n",
    "    ax.set_xlabel('Train time (s)')\n",
    "    ax.set_ylabel('Test accuracy')\n",
    "ax.legend()\n",
    "fig.suptitle('Multinomial vs One-vs-Rest Logistic L1\\n'\n",
    "             'Dataset %s' % 'Protein Expression')\n",
    "fig.tight_layout()\n",
    "fig.subplots_adjust(top=0.85)\n",
    "run_time = timeit.default_timer() - t0\n",
    "print('Example run in %.3f s' % run_time)\n",
    "plt.show()"
   ]
  },
  {
   "cell_type": "markdown",
   "metadata": {},
   "source": [
    "## II) Train and compare different algorithms"
   ]
  },
  {
   "cell_type": "markdown",
   "metadata": {},
   "source": [
    "### Multinomial Logistic Regression\n",
    "\n",
    "**Train** the model with the features selected with forward feature selection"
   ]
  },
  {
   "cell_type": "code",
   "execution_count": null,
   "metadata": {},
   "outputs": [],
   "source": [
    "expr_data = pd.read_csv(\"train.csv\")\n",
    "expr_data['class'] = expr_data['class'].replace({'t-CS-m':0 ,'t-CS-s' : 1 , 'c-CS-s' : 2, 'c-SC-s' : 3, 'c-CS-m' : 4, 'c-SC-m':5, 't-SC-s' : 6, 't-SC-m' : 7})\n",
    "from sklearn.model_selection import train_test_split\n",
    "split_seed = 42\n",
    "split_test_size = 0.2\n",
    "X_full_feat2 = ['BRAF_N', 'pPKCG_N', 'pCAMKII_N', 'pERK_N', 'NUMB_N', 'AMPKA_N', 'Tau_N', 'BAX_N', 'CaNA_N', 'DSCR1_N'] \n",
    "X_full2=expr_data[X_full_feat2]\n",
    "y2=expr_data['class']\n",
    "X_full_train2, X_full_test2, y_train2, y_test2 = train_test_split(X_full2, y2,\n",
    "                                                    test_size=split_test_size, \n",
    "                                                    random_state=split_seed)\n",
    "model = LogisticRegression(solver='saga', multi_class='multinomial')\n",
    "model = model.fit(X_full_train2, y_train2)"
   ]
  },
  {
   "cell_type": "markdown",
   "metadata": {},
   "source": [
    "Import metrics needed for evaluation of the algorithms. We have use mainly the value of accuracy cross-validated, for the choice of the better classification model.\n",
    "\n",
    "We have not used the ROC curve as evaluation metric because for multiclass classification is not supported. But this should not be a probem because in EDA it's possible to see that the classes are approximately equally distributed (balanced dataset), so we have not to evaluate different tresholds."
   ]
  },
  {
   "cell_type": "code",
   "execution_count": null,
   "metadata": {},
   "outputs": [],
   "source": [
    "def sensitivity(cm):\n",
    "    TP = cm[1,1]\n",
    "    T = cm[1,:].sum()\n",
    "    return TP / T\n",
    "\n",
    "def specificity(cm):\n",
    "    TN = cm[0,0]\n",
    "    N = cm[0,:].sum()\n",
    "    return TN / N\n",
    "\n",
    "def precision(cm):\n",
    "    TP = cm[1,1]\n",
    "    TPFP = cm[:,1].sum()\n",
    "    return TP / TPFP\n",
    "\n",
    "def f1(cm):\n",
    "    p = precision(cm)\n",
    "    r = sensitivity(cm)\n",
    "    return (2 * p * r) / (p + r)\n",
    "from sklearn.metrics import confusion_matrix"
   ]
  },
  {
   "cell_type": "code",
   "execution_count": null,
   "metadata": {},
   "outputs": [],
   "source": [
    "y_train2=y_train2.astype('float32')\n",
    "y_test2=y_test2.astype('float32')\n",
    "y_train2 = np.array(y_train2)\n",
    "y_test2 = np.array(y_test2)\n",
    "y_test2.shape\n",
    "X_full_test2.shape"
   ]
  },
  {
   "cell_type": "code",
   "execution_count": null,
   "metadata": {},
   "outputs": [],
   "source": [
    "def accuracy(y_pred, y_true):\n",
    "    return (y_pred == y_true).sum() / y_pred.shape[0]\n",
    "\n",
    "print(\"Train accuracy:\", accuracy(y_train2, model.predict(X_full_train2)))\n",
    "print(\"Test accuracy:\", accuracy(y_test2, model.predict(X_full_test2)))"
   ]
  },
  {
   "cell_type": "code",
   "execution_count": null,
   "metadata": {},
   "outputs": [],
   "source": [
    "from sklearn.metrics import confusion_matrix\n",
    "from sklearn.metrics import plot_confusion_matrix\n",
    "\n",
    "cm = confusion_matrix(y_test2, model.predict(X_full_test2))"
   ]
  },
  {
   "cell_type": "code",
   "execution_count": null,
   "metadata": {},
   "outputs": [],
   "source": [
    "print(\"Sensitivity \", sensitivity(cm))\n",
    "print(\"Specificity \", specificity(cm))\n",
    "print(\"Precision \", precision(cm))\n",
    "print(\"F1-score\", f1(cm))"
   ]
  },
  {
   "cell_type": "code",
   "execution_count": null,
   "metadata": {},
   "outputs": [],
   "source": [
    "from sklearn.model_selection import cross_val_score\n",
    "model = LogisticRegression(solver='saga', multi_class='multinomial')\n",
    "scores = cross_val_score(model, X_full2, y2, cv=5)\n",
    "print(\"Accuracy: %0.2f (+/- %0.2f)\" % (scores.mean(), scores.std() * 2))"
   ]
  },
  {
   "cell_type": "markdown",
   "metadata": {},
   "source": [
    "The values of sensitivity and specificity are not very high, maybe this is dued to the request of non-linear decision boundaries"
   ]
  },
  {
   "cell_type": "markdown",
   "metadata": {},
   "source": [
    "### Linear Discriminant Analysis (LDA)"
   ]
  },
  {
   "cell_type": "code",
   "execution_count": null,
   "metadata": {},
   "outputs": [],
   "source": [
    "from sklearn.pipeline import Pipeline\n",
    "from sklearn.discriminant_analysis import LinearDiscriminantAnalysis as LDA\n",
    "\n",
    "from sklearn.discriminant_analysis import LinearDiscriminantAnalysis as LDA\n",
    "model = LDA(store_covariance=True)\n",
    "model = model.fit(X_full_train2, y_train2)\n",
    "\n",
    "print(\"Train accuracy:\", accuracy(y_train2, model.predict(X_full_train2)))\n",
    "print(\"Test accuracy:\", accuracy(y_test2, model.predict(X_full_test2)))"
   ]
  },
  {
   "cell_type": "code",
   "execution_count": null,
   "metadata": {},
   "outputs": [],
   "source": [
    "from sklearn.model_selection import cross_val_score\n",
    "model = LDA(store_covariance=True)\n",
    "scores = cross_val_score(model, X_full2, y2, cv=5)\n",
    "print(\"Accuracy: %0.2f (+/- %0.2f)\" % (scores.mean(), scores.std() * 2))\n",
    "model = model.fit(X_full_train2, y_train2)"
   ]
  },
  {
   "cell_type": "code",
   "execution_count": null,
   "metadata": {},
   "outputs": [],
   "source": [
    "cm = confusion_matrix(y_test2, model.predict(X_full_test2))\n",
    "print(\"Sensitivity \", sensitivity(cm))\n",
    "print(\"Specificity \", specificity(cm))\n",
    "print(\"Precision \", precision(cm))\n",
    "print(\"F1-score\", f1(cm))"
   ]
  },
  {
   "cell_type": "markdown",
   "metadata": {},
   "source": [
    "### LDA with polinomial features"
   ]
  },
  {
   "cell_type": "markdown",
   "metadata": {},
   "source": [
    "Find the correct value value for the degree hyperparameter with cross validation tecnique"
   ]
  },
  {
   "cell_type": "code",
   "execution_count": null,
   "metadata": {},
   "outputs": [],
   "source": [
    "from sklearn.model_selection import GridSearchCV\n",
    "from sklearn.preprocessing import PolynomialFeatures\n",
    "\n",
    "model = Pipeline([('poly', PolynomialFeatures()),\n",
    "                  ('lda', LDA(store_covariance=True))])\n",
    "params = {'poly__degree': range(1, 4)}\n",
    "cv = GridSearchCV(model, params, refit=True, cv=10, \n",
    "                  scoring=make_scorer(accuracy))\n",
    "cv.fit(X_full_train2, y_train2)"
   ]
  },
  {
   "cell_type": "code",
   "execution_count": null,
   "metadata": {},
   "outputs": [],
   "source": [
    "def show_results(cv, X_full_test, params, prefix=''):\n",
    "    prefix = ' '+prefix    \n",
    "    results = pd.DataFrame(cv.cv_results_)\n",
    "    plt.plot(results[params], results['mean_test_score'], label=prefix)\n",
    "\n",
    "    best_idx = np.argmax(results['mean_test_score'])\n",
    "    plt.plot(results[params][best_idx], \n",
    "             results['mean_test_score'][best_idx], marker='X')\n",
    "    plt.legend()\n",
    "\n",
    "    print(prefix, f\"(best {results[params][best_idx]}) CV accuracy:\",  cv.best_score_)\n",
    "    print(prefix, f\"(best {results[params][best_idx]}) Test accuracy:\", accuracy(y_test, cv.best_estimator_.predict(X_full_test)))"
   ]
  },
  {
   "cell_type": "code",
   "execution_count": null,
   "metadata": {},
   "outputs": [],
   "source": [
    "show_results(cv, X_full_test2, 'param_poly__degree')"
   ]
  },
  {
   "cell_type": "markdown",
   "metadata": {},
   "source": [
    "The best degree is at 2 parameters. Now we fit the correspondent model"
   ]
  },
  {
   "cell_type": "code",
   "execution_count": null,
   "metadata": {},
   "outputs": [],
   "source": [
    "from sklearn.pipeline import Pipeline\n",
    "from sklearn.preprocessing import PolynomialFeatures\n",
    "\n",
    "model = Pipeline([\n",
    "    ('poly', PolynomialFeatures(degree=2)),\n",
    "    ('lda', LDA(store_covariance=True))])\n",
    "model = model.fit(X_full_train2, y_train2)\n",
    "\n",
    "print(\"Train accuracy:\", accuracy(y_train2, model.predict(X_full_train2)))\n",
    "print(\"Test accuracy:\", accuracy(y_test2, model.predict(X_full_test2)))"
   ]
  },
  {
   "cell_type": "code",
   "execution_count": null,
   "metadata": {},
   "outputs": [],
   "source": [
    "from sklearn.model_selection import cross_val_score\n",
    "model = Pipeline([\n",
    "    ('poly', PolynomialFeatures(degree=2)),\n",
    "    ('lda', LDA(store_covariance=True))])\n",
    "scores = cross_val_score(model, X_full2, y2, cv=5)\n",
    "print(\"Accuracy: %0.2f (+/- %0.2f)\" % (scores.mean(), scores.std() * 2))"
   ]
  },
  {
   "cell_type": "code",
   "execution_count": null,
   "metadata": {},
   "outputs": [],
   "source": [
    "model = model.fit(X_full_train2, y_train2)\n",
    "cm = confusion_matrix(y_test2, model.predict(X_full_test2))\n",
    "print(\"Sensitivity \", sensitivity(cm))\n",
    "print(\"Specificity \", specificity(cm))\n",
    "print(\"Precision \", precision(cm))\n",
    "print(\"F1-score\", f1(cm))"
   ]
  },
  {
   "cell_type": "markdown",
   "metadata": {},
   "source": [
    "With non linear boundaries, as expected, the performance of the algorithm improves."
   ]
  },
  {
   "cell_type": "markdown",
   "metadata": {},
   "source": [
    "### Quadratic discrimant analysis (QDA)"
   ]
  },
  {
   "cell_type": "markdown",
   "metadata": {},
   "source": [
    "If we do not take into account the assumption of equal covariance matrix in the two multivariate gaussian distributions, then we obtain a quadratic relationship."
   ]
  },
  {
   "cell_type": "code",
   "execution_count": null,
   "metadata": {},
   "outputs": [],
   "source": [
    "from sklearn.discriminant_analysis import QuadraticDiscriminantAnalysis as QDA\n",
    "model = QDA(store_covariance=True)\n",
    "model = model.fit(X_full_train2, y_train2)\n",
    "\n",
    "print(\"Train accuracy:\", accuracy(y_train2, model.predict(X_full_train2)))\n",
    "print(\"Test accuracy:\", accuracy(y_test2, model.predict(X_full_test2)))"
   ]
  },
  {
   "cell_type": "code",
   "execution_count": null,
   "metadata": {},
   "outputs": [],
   "source": [
    "model = QDA(store_covariance=True)\n",
    "scores = cross_val_score(model, X_full2, y2, cv=5)\n",
    "print(\"Accuracy: %0.2f (+/- %0.2f)\" % (scores.mean(), scores.std() * 2))"
   ]
  },
  {
   "cell_type": "code",
   "execution_count": null,
   "metadata": {},
   "outputs": [],
   "source": [
    "model = model.fit(X_full_train2, y_train2)\n",
    "cm = confusion_matrix(y_test2, model.predict(X_full_test2))\n",
    "print(\"Sensitivity \", sensitivity(cm))\n",
    "print(\"Specificity \", specificity(cm))\n",
    "print(\"Precision \", precision(cm))\n",
    "print(\"F1-score\", f1(cm))"
   ]
  },
  {
   "cell_type": "markdown",
   "metadata": {},
   "source": [
    "### Support Vector Machines (SVM)"
   ]
  },
  {
   "cell_type": "markdown",
   "metadata": {},
   "source": [
    "We start to evaluate classifications that use algorithms that are appropriate with linearly separable cases. \n",
    "Although we have seen that the non linear boundary is more appropriate in this case, in particular a quadratic boundary. \n",
    "\n",
    "We want to double check also in SVM, if the non linear boundary leads to a better classification.\n",
    "\n",
    "### Linearly separable case\n",
    "First we have tried to apply the optimal separating hyperplanes, to separate the classes with linear boundaries, but the algorithm does not converge to a solution (because the data are not linearly separable).\n",
    "\n",
    "Surprisingly, although the perceptron is an algorithm for linearly separable data, it converges to a solution."
   ]
  },
  {
   "cell_type": "markdown",
   "metadata": {},
   "source": [
    "##### Perceptron "
   ]
  },
  {
   "cell_type": "code",
   "execution_count": null,
   "metadata": {},
   "outputs": [],
   "source": [
    "from sklearn.linear_model import Perceptron\n",
    "from sklearn.metrics import accuracy_score\n",
    "pt_model = Perceptron()\n",
    "pt_model.fit(X_full_train2, y_train2)\n",
    "train_acc = accuracy_score(y_train2, pt_model.predict(X_full_train2))\n",
    "test_acc = accuracy_score(y_test2, pt_model.predict(X_full_test2))\n",
    "print('The train accuracy is: ', train_acc)\n",
    "print('The test accuracy is: ', test_acc )"
   ]
  },
  {
   "cell_type": "code",
   "execution_count": null,
   "metadata": {},
   "outputs": [],
   "source": [
    "cm = confusion_matrix(y_test2, pt_model.predict(X_full_test2))\n",
    "print(\"Sensitivity \", sensitivity(cm))\n",
    "print(\"Specificity \", specificity(cm))\n",
    "print(\"Precision \", precision(cm))\n",
    "print(\"F1-score\", f1(cm))"
   ]
  },
  {
   "cell_type": "code",
   "execution_count": null,
   "metadata": {},
   "outputs": [],
   "source": [
    "pt_model = Perceptron()\n",
    "pt_model.fit(X_full_train2, y_train2)\n",
    "scores = cross_val_score(pt_model, X_full2, y2, cv=5)\n",
    "print(\"Accuracy: %0.2f (+/- %0.2f)\" % (scores.mean(), scores.std() * 2))"
   ]
  },
  {
   "cell_type": "markdown",
   "metadata": {},
   "source": [
    "### Non Linearly separable case (soft margins)"
   ]
  },
  {
   "cell_type": "code",
   "execution_count": null,
   "metadata": {},
   "outputs": [],
   "source": [
    "from sklearn.svm import SVC\n",
    "from sklearn.metrics import accuracy_score\n",
    "model = SVC(kernel='linear', C=1)\n",
    "model.fit(X_full_train2, y_train2)\n",
    "\n",
    "train_acc = accuracy_score(model.predict(X_full_train2), y_train2)\n",
    "test_acc = accuracy_score(model.predict(X_full_test2), y_test2)\n",
    "\n",
    "print(\"SVM train accuracy:\", train_acc)\n",
    "print(\"SVM test accuracy:\", test_acc)"
   ]
  },
  {
   "cell_type": "code",
   "execution_count": null,
   "metadata": {},
   "outputs": [],
   "source": [
    "model = SVC(kernel='linear', C=1)\n",
    "scores = cross_val_score(model, X_full2, y2, cv=5)\n",
    "print(\"Accuracy: %0.2f (+/- %0.2f)\" % (scores.mean(), scores.std() * 2))"
   ]
  },
  {
   "cell_type": "code",
   "execution_count": null,
   "metadata": {},
   "outputs": [],
   "source": [
    "model.fit(X_full_train2, y_train2)\n",
    "cm = confusion_matrix(y_test2, model.predict(X_full_test2))\n",
    "print(\"Sensitivity \", sensitivity(cm))\n",
    "print(\"Specificity \", specificity(cm))\n",
    "print(\"Precision \", precision(cm))\n",
    "print(\"F1-score\", f1(cm))"
   ]
  },
  {
   "cell_type": "markdown",
   "metadata": {},
   "source": [
    "### Kernel trick"
   ]
  },
  {
   "cell_type": "markdown",
   "metadata": {},
   "source": [
    "#### Grid search for the best kernel"
   ]
  },
  {
   "cell_type": "code",
   "execution_count": null,
   "metadata": {},
   "outputs": [],
   "source": [
    "from sklearn.model_selection import GridSearchCV\n",
    "\n",
    "from sklearn.model_selection import GridSearchCV\n",
    "\n",
    "# Polynomial\n",
    "param_grid = {'C': np.linspace(0.001, 100, 5),\n",
    "              'coef0': np.linspace(-10, 10, 5),\n",
    "              'degree':  [2,3,4,5]}\n",
    "svm_poly = GridSearchCV(SVC(kernel='poly'), param_grid,\n",
    "                        cv=5, scoring='accuracy', refit=True)\n",
    "svm_poly.fit(X_full_train2, y_train2)\n",
    "\n",
    "# RBF\n",
    "param_grid = {'C': np.linspace(0.001, 100, 5),\n",
    "              'gamma': np.linspace(0.001, 100, 5)}\n",
    "rbf_poly = GridSearchCV(SVC(kernel='rbf'), param_grid, \n",
    "                        cv=5, scoring='accuracy', refit=True)\n",
    "rbf_poly.fit(X_full_train2, y_train2)\n",
    "\n",
    "# Sigmoid\n",
    "param_grid = {'C': np.linspace(0.001, 100, 5),\n",
    "              'gamma': np.linspace(0.001, 100, 5),\n",
    "              'coef0': np.linspace(-10, 10, 5)}\n",
    "\n",
    "sigm_poly = GridSearchCV(SVC(kernel='sigmoid'), param_grid, \n",
    "                         cv=5, scoring='accuracy', refit=True)\n",
    "sigm_poly.fit(X_full_train2, y_train2)"
   ]
  },
  {
   "cell_type": "code",
   "execution_count": null,
   "metadata": {},
   "outputs": [],
   "source": [
    "for m in [svm_poly, rbf_poly, sigm_poly]:\n",
    "    cv_score = m.best_score_\n",
    "    m = m.best_estimator_   \n",
    "    scores = cross_val_score(m, X_full2, y2, cv=5)\n",
    "    print(\"Accuracy: %0.2f (+/- %0.2f)\" % (scores.mean(), scores.std() * 2))\n",
    "    print(\"cv score: {}\".format(cv_score))\n",
    "    \n",
    "cv_score = svm_poly.best_score_\n",
    "m = svm_poly.best_estimator_\n",
    "cv_score\n",
    "m"
   ]
  },
  {
   "cell_type": "code",
   "execution_count": null,
   "metadata": {},
   "outputs": [],
   "source": [
    "sigm_poly.fit(X_full_train2, y_train2)\n",
    "cm = confusion_matrix(y_test2, svm_poly.predict(X_full_test2))\n",
    "print(\"Sensitivity \", sensitivity(cm))\n",
    "print(\"Specificity \", specificity(cm))\n",
    "print(\"Precision \", precision(cm))\n",
    "print(\"F1-score\", f1(cm))"
   ]
  },
  {
   "cell_type": "code",
   "execution_count": null,
   "metadata": {},
   "outputs": [],
   "source": [
    "cm = confusion_matrix(y_test2, rbf_poly.predict(X_full_test2))\n",
    "print(\"Sensitivity \", sensitivity(cm))\n",
    "print(\"Specificity \", specificity(cm))\n",
    "print(\"Precision \", precision(cm))\n",
    "print(\"F1-score\", f1(cm))"
   ]
  },
  {
   "cell_type": "code",
   "execution_count": null,
   "metadata": {},
   "outputs": [],
   "source": [
    "cm = confusion_matrix(y_test2, sigm_poly.predict(X_full_test2))\n",
    "print(\"Sensitivity \", sensitivity(cm))\n",
    "print(\"Specificity \", specificity(cm))\n",
    "print(\"Precision \", precision(cm))\n",
    "print(\"F1-score\", f1(cm))"
   ]
  },
  {
   "cell_type": "markdown",
   "metadata": {},
   "source": [
    "### Summary alghoritms' metrics"
   ]
  },
  {
   "cell_type": "markdown",
   "metadata": {},
   "source": [
    "| Alghoritms                 | Sensitivity  | Specificity | Precision | F1-Score   | Accuracy CV \n",
    "|----------------------------|--------------|-------------|-----------|------------|------------------\n",
    "| Logistic regression        |  0.6667      |    0.3000   |  0.4615   |  0.5454    |  0.59 (+/- 0.08)\n",
    "| LDA                        |  0.5556      |    0.7000   |  0.8333   |  0.6667    |  0.79 (+/- 0.09)\n",
    "|**LDA polynomial features** |**1.0000**    |  **0.8000** |**0.9000** |**0.9474**  |**0.96 (+/- 0.04)**\n",
    "| QDA                        |  1.0000      |    1.0000   |  0.9000   |  0.9474    |  0.93 (+/- 0.09)\n",
    "| Perceptron                 |  0.1111      |    0.3000   |  1.0000   |  0.2000    |  0.41 (+/- 0.15)\n",
    "| Support vector classifier  |  0.6667      |    0.5000   |  0.6000   |  0.6316    |  0.65 (+/- 0.09)\n",
    "| SVM polynomial (2 degree)  |  0.8889      |    0.9000   |  0.8000   |  0.8421    |  0.92 (+/- 0.07)\n",
    "| SVM radial basis           |  0.1000      |    0.2344   |  0.0714   |  0.0833    |  0.70 (+/- 0.12)\n",
    "| SVM sigmoid                |  0.6000      |    0.0469   |  0.1714   |  0.2667    |  0.44 (+/- 0.10)\n",
    "\n",
    "We have seen that a quadratic boundary is sufficient to represent the classes (in particular LDA polynomial with degree 2) \n",
    "\n",
    "More complex boundaries like radial basis kernel or sigmoid, are not very performant. Given that we have not try to apply also k-nearest neighbors, because we don't need more complex boundaries\n",
    "\n",
    "\n"
   ]
  },
  {
   "cell_type": "markdown",
   "metadata": {},
   "source": [
    "#### Feature selection with LDA polynomial"
   ]
  },
  {
   "cell_type": "markdown",
   "metadata": {},
   "source": [
    "Now we try to redo feature selection on this algorithm to see if the features selected with logistic regression are really the features important for the classification. SO in this case i have used the training data with all the features."
   ]
  },
  {
   "cell_type": "code",
   "execution_count": null,
   "metadata": {},
   "outputs": [],
   "source": [
    "from sklearn.dummy import DummyClassifier\n",
    "def forward_selection(Xtrain_pd, ytrain, Xtest_pd, ytest,\n",
    "                      candidates_evaluator, candidates_argbest, \n",
    "                      subsets_evaluator, subsets_argbest,       \n",
    "                      test_evaluator=None, test_argbest=None,\n",
    "                      candidates_scorer_name=None,  \n",
    "                      subsets_scorer_name=None,     \n",
    "                      verbose=True, weight_step3=0):   \n",
    "    test_evaluator = subsets_evaluator if not test_evaluator else test_evaluator\n",
    "    test_argbest = subsets_argbest if not test_argbest else test_argbest\n",
    "    num_features = Xtrain_pd.shape[-1]\n",
    "    best_candidate_metric = []\n",
    "    subsets_test = []\n",
    "    subsets_metric = []      \n",
    "    subsets_best_features = [] \n",
    "    \n",
    "    plt.figure()\n",
    "    candidate_fig = plt.subplot(111) \n",
    "    num_evaluations = 0        \n",
    "    selected_features = []\n",
    "    all_features = Xtrain_pd.columns\n",
    "    model = DummyClassifier()\n",
    "    model, score = candidates_evaluator(model, Xtrain_pd[[]], ytrain)\n",
    "    best_candidate_metric.append(score)\n",
    "    subsets_best_features.append([])\n",
    "    _ = candidate_fig.scatter([0], [score], color=\"b\")\n",
    "    _, score = subsets_evaluator(model, Xtrain_pd[[]], ytrain, trained=True)\n",
    "    subsets_metric.append(score)\n",
    "    _, score = test_evaluator(model, Xtrain_pd[[]], ytrain, trained=True)\n",
    "    subsets_test.append(score)\n",
    "    \n",
    "    for dim in range(len(all_features)):\n",
    "        candidate_metrics = [] \n",
    "        candidate_models = []  \n",
    "        remaining_features = all_features.difference(selected_features)\n",
    "        \n",
    "        for new_column in remaining_features:\n",
    "            Xtrain_sub = Xtrain_pd[selected_features+[new_column]].to_numpy()\n",
    "            model = Pipeline([('poly', PolynomialFeatures(degree=2)),\n",
    "    ('lda', LDA(store_covariance=True))])\n",
    "            model, score = candidates_evaluator(model, Xtrain_sub, ytrain)\n",
    "            candidate_models.append(model)\n",
    "            candidate_metrics.append(score)\n",
    "            num_evaluations += 1\n",
    "            \n",
    "        _ = candidate_fig.scatter([Xtrain_sub.shape[-1]]*len(candidate_metrics), candidate_metrics,\n",
    "                                  color=\"b\")\n",
    "            \n",
    "        idx_best_candidate = candidates_argbest(candidate_metrics)\n",
    "        selected_features.append(remaining_features[idx_best_candidate])\n",
    "        best_candidate_metric.append(candidate_metrics[idx_best_candidate])\n",
    "        best_features = selected_features.copy()\n",
    "        subsets_best_features.append(best_features)\n",
    "        best_subset_model = candidate_models[idx_best_candidate]\n",
    "        best_subset_Xtrain = Xtrain_pd[best_features].to_numpy()\n",
    "        _, score = subsets_evaluator(best_subset_model, best_subset_Xtrain, ytrain, trained=True)\n",
    "        subsets_metric.append(score)\n",
    "        best_subset_Xtest = Xtest_pd[best_features].to_numpy()\n",
    "        _, score = test_evaluator(best_subset_model, best_subset_Xtest, ytest, trained=True)\n",
    "        subsets_test.append(score)\n",
    "        num_evaluations += weight_step3 \n",
    "        \n",
    "        if verbose:\n",
    "            print(\"............\")\n",
    "            print(\"Best model (M{}) with {} features: {}\".format(dim, dim, best_features))\n",
    "            print(\"M{} subset score (3.): {}\".format(dim, score))\n",
    "    best_subset_idx = subsets_argbest(subsets_metric)\n",
    "    best_features = subsets_best_features[best_subset_idx]\n",
    "    \n",
    "    if verbose:\n",
    "        print(\"\\n\\nBest configuration has {} features\".format(best_subset_idx))\n",
    "        print(\"Features: {}\".format(subsets_best_features[best_subset_idx]))\n",
    "        print(\"Total number of trained models:\", num_evaluations)\n",
    "    best_candidate_score_idx = candidates_argbest(best_candidate_metric)\n",
    "    _ = candidate_fig.plot(range(len(best_candidate_metric)), best_candidate_metric)\n",
    "    _ = candidate_fig.scatter(best_candidate_score_idx, best_candidate_metric[best_candidate_score_idx],\n",
    "                              marker='X', label=\"Best\", color=\"r\")\n",
    "    candidate_fig.set_title(candidates_scorer_name)\n",
    "    candidate_fig.legend()\n",
    "    plt.figure()\n",
    "    subsets_fig = plt.subplot(111)\n",
    "    _ = subsets_fig.plot(range(len(subsets_metric)), subsets_metric, label=\"Selection (3.) scores\")\n",
    "    _ = subsets_fig.scatter(best_subset_idx, subsets_metric[best_subset_idx],\n",
    "                              marker='X', label=\"Best (3.) score\", color=\"r\")\n",
    "    best_test_score_idx = test_argbest(subsets_test)\n",
    "    _ = subsets_fig.plot(range(len(subsets_test)), subsets_test, label=\"Test scores\")\n",
    "    _ = subsets_fig.scatter(best_test_score_idx, subsets_test[best_test_score_idx],\n",
    "                              marker='X', label=\"Best test score\", color=\"y\")\n",
    "    subsets_fig.set_title(subsets_scorer_name)\n",
    "    subsets_fig.legend()"
   ]
  },
  {
   "cell_type": "code",
   "execution_count": null,
   "metadata": {},
   "outputs": [],
   "source": [
    "expr_data = pd.read_csv(\"train.csv\")\n",
    "expr_data['class'] = expr_data['class'].replace({'t-CS-m':0 ,'t-CS-s' : 1 , 'c-CS-s' : 2, 'c-SC-s' : 3, 'c-CS-m' : 4, 'c-SC-m':5, 't-SC-s' : 6, 't-SC-m' : 7})\n",
    "from sklearn.model_selection import train_test_split\n",
    "split_seed = 42\n",
    "split_test_size = 0.2\n",
    "X_full_feat = ['DYRK1A_N', 'ITSN1_N', 'BDNF_N', 'NR1_N', 'NR2A_N', 'pAKT_N', 'pBRAF_N',\n",
    "       'pCAMKII_N', 'pCREB_N', 'pELK_N', 'pERK_N', 'pJNK_N', 'PKCA_N',\n",
    "       'pMEK_N', 'pNR1_N', 'pNR2A_N', 'pNR2B_N', 'pPKCAB_N', 'pRSK_N', 'AKT_N',\n",
    "       'BRAF_N', 'CAMKII_N', 'CREB_N', 'ELK_N', 'ERK_N', 'GSK3B_N', 'JNK_N',\n",
    "       'MEK_N', 'TRKA_N', 'RSK_N', 'APP_N', 'Bcatenin_N', 'MTOR_N',\n",
    "       'P38_N', 'pMTOR_N', 'DSCR1_N', 'AMPKA_N', 'NR2B_N', 'pNUMB_N',\n",
    "       'RAPTOR_N', 'TIAM1_N', 'pP70S6_N', 'NUMB_N', 'P70S6_N', 'pGSK3B_N',\n",
    "       'pPKCG_N', 'CDK5_N', 'S6_N', 'ADARB1_N', 'AcetylH3K9_N', 'RRP1_N',\n",
    "       'BAX_N', 'ARC_N', 'ERBB4_N', 'nNOS_N', 'Tau_N', 'GFAP_N', 'GluR3_N',\n",
    "       'GluR4_N', 'IL1B_N', 'P3525_N', 'pCASP9_N', 'PSD95_N', 'SNCA_N',\n",
    "       'Ubiquitin_N', 'pGSK3B_Tyr216_N', 'SHH_N', 'BAD_N', 'pS6_N', 'pCFOS_N',\n",
    "       'SYP_N', 'H3AcK18_N', 'EGR1_N', 'H3MeK4_N', 'CaNA_N'] \n",
    "X_full=expr_data[X_full_feat]\n",
    "y=expr_data['class']\n",
    "X_full_train, X_full_test, y_train, y_test = train_test_split(X_full, y,\n",
    "                                                    test_size=split_test_size, \n",
    "                                                    random_state=split_seed)\n",
    "cv=10\n",
    "#forward_selection(X_full_train, y_train, X_full_test, y_test,\n",
    "#                  get_evaluator(make_scorer(accuracy)), np.argmax, \n",
    "#                  get_cv_evaluator(make_scorer(accuracy), cv), np.argmax, \n",
    "#                  get_evaluator(make_scorer(accuracy)), np.argmax, \n",
    "#                  candidates_scorer_name=\"Accuracy\",\n",
    "#                  subsets_scorer_name=\"Accuracy (CV)\",\n",
    "#                  verbose=True, weight_step3=cv)"
   ]
  },
  {
   "cell_type": "markdown",
   "metadata": {},
   "source": [
    "We have inactivated the forward selection because the selection does not complete the work with all the features but by the inspection of the result we see that:\n",
    "- the best score model has 14 features:\n",
    "\n",
    "**'BRAF_N', 'AMPKA_N', 'pPKCG_N', 'NUMB_N', 'pERK_N', 'pCAMKII_N', 'Tau_N'**,  'ADARB1_N',   'ERBB4_N', 'GluR3_N', 'BDNF_N', 'MTOR_N', 'APP_N', AKT_N\n",
    "\n",
    "Quiet similar respect to those selected in logistic regression:\n",
    "\n",
    "**'BRAF_N', 'AMPKA_N', 'pPKCG_N', 'NUMB_N', 'pERK_N', 'pCAMKII_N', 'CaNA_N', 'Tau_N'**, 'DSCR1_N', 'BAX_N',  "
   ]
  },
  {
   "cell_type": "markdown",
   "metadata": {},
   "source": [
    "## III) Test the best algorithm on the test set"
   ]
  },
  {
   "cell_type": "code",
   "execution_count": null,
   "metadata": {},
   "outputs": [],
   "source": [
    "model = Pipeline([\n",
    "    ('poly', PolynomialFeatures(degree=2)),\n",
    "    ('lda', LDA(store_covariance=True))])"
   ]
  },
  {
   "cell_type": "markdown",
   "metadata": {},
   "source": [
    "Reprepare the training data with only the features selected with features selection in LDA polynomial"
   ]
  },
  {
   "cell_type": "code",
   "execution_count": null,
   "metadata": {},
   "outputs": [],
   "source": [
    "expr_data = pd.read_csv(\"train.csv\")\n",
    "expr_data['class'] = expr_data['class'].replace({'t-CS-m':0 ,'t-CS-s' : 1 , 'c-CS-s' : 2, 'c-SC-s' : 3, 'c-CS-m' : 4, 'c-SC-m':5, 't-SC-s' : 6, 't-SC-m' : 7})\n",
    "from sklearn.model_selection import train_test_split\n",
    "split_seed = 42\n",
    "split_test_size = 0.2\n",
    "X_full_feat = ['BRAF_N', 'pPKCG_N', 'pCAMKII_N', 'Tau_N', 'NUMB_N', 'ADARB1_N', 'pERK_N', 'AMPKA_N', 'ERBB4_N', 'GluR3_N', 'BDNF_N', 'MTOR_N', 'APP_N', 'AKT_N'] \n",
    "X_train =expr_data[X_full_feat]\n",
    "y_train =expr_data['class']\n",
    "\n",
    "X_full_train, X_full_test, y_train, y_test = train_test_split(X_train, y_train,\n",
    "                                                    test_size=split_test_size, \n",
    "                                                    random_state=split_seed)"
   ]
  },
  {
   "cell_type": "markdown",
   "metadata": {},
   "source": [
    "Fit the model on this dataset and after that test the model on the test dataset"
   ]
  },
  {
   "cell_type": "code",
   "execution_count": null,
   "metadata": {},
   "outputs": [],
   "source": [
    "model.fit(X_full_train, y_train)"
   ]
  },
  {
   "cell_type": "markdown",
   "metadata": {},
   "source": [
    "Select the interesting features also in the test dataset"
   ]
  },
  {
   "cell_type": "code",
   "execution_count": null,
   "metadata": {},
   "outputs": [],
   "source": [
    "expr_data2 = pd.read_csv(\"test.csv\")\n",
    "expr_data2['class'] = expr_data2['class'].replace({'t-CS-m':0 ,'t-CS-s' : 1 , 'c-CS-s' : 2, 'c-SC-s' : 3, 'c-CS-m' : 4, 'c-SC-m':5, 't-SC-s' : 6, 't-SC-m' : 7})\n",
    "split_seed = 42\n",
    "split_test_size = 0.2\n",
    "X_full_feat = ['BRAF_N', 'pPKCG_N', 'pCAMKII_N', 'Tau_N', 'NUMB_N', 'ADARB1_N', 'pERK_N', 'AMPKA_N', 'ERBB4_N', 'GluR3_N', 'BDNF_N', 'MTOR_N', 'APP_N', 'AKT_N'] \n",
    "X_test=expr_data2[X_full_feat]\n",
    "y_test=expr_data2['class']"
   ]
  },
  {
   "cell_type": "code",
   "execution_count": null,
   "metadata": {},
   "outputs": [],
   "source": [
    "cm = confusion_matrix(y_test, model.predict(X_test))\n",
    "print(\"Sensitivity \", sensitivity(cm))\n",
    "print(\"Specificity \", specificity(cm))\n",
    "print(\"Precision \", precision(cm))\n",
    "print(\"F1-score\", f1(cm))"
   ]
  },
  {
   "cell_type": "code",
   "execution_count": null,
   "metadata": {},
   "outputs": [],
   "source": [
    "test_acc = accuracy_score(model.predict(X_test), y_test)\n",
    "print(\"Accuracy\", test_acc)"
   ]
  },
  {
   "cell_type": "markdown",
   "metadata": {},
   "source": [
    "Good performance of the algorithm on the test set"
   ]
  },
  {
   "cell_type": "markdown",
   "metadata": {},
   "source": [
    "### 3. Using the training data, train and compare different regression alghoritms to predict the expression value of SOD1 protein given the other features, use robust evaluation tecniques to compare the alghoritms."
   ]
  },
  {
   "cell_type": "markdown",
   "metadata": {},
   "source": [
    "Although we are not in an high dimensional setting in which the number of features p is larger than the number of observations, we take the same considerations because p is slightly smaller than n. The problem in data with high number of parameters, is that there is an high correlation between parameters (**collinearity**) and so potentially all the parameters are useful to predict the outcome. But it's better to use tecniques to give an appropriate weights to the coefficients in particular higher weights to those coefficients that truly are predictive of the outcome. \n",
    "\n",
    "In particular we use two regression alghoritms: ridge regression and lasso, because **regularization or shrinkage** plays a key role in high-dimensional problems. \n",
    "\n",
    "In this setting for the **evaluation** of the algorithms it's better to use an independent test set or use **cross validation tecniques** that give us a true value of the test MSE. We do not use the Cp, R^2, AIC, BIC and R^2 adjusted approaches (that measure the error on training data, and after that adjust this value on the base of the number of parameters in the model with the aim to give a good estimation of the test MSE). \n",
    "This choice is done because although we have not at our disposition a test set (we have that but the value of SOD1 is missing) that can give us a true MSE, we can use cross validation; the **adjusted version** are **not appropriate** in high dimensional settings because we have to estimate sigma^2 (estimate of the variance of the error) and this is problematic."
   ]
  },
  {
   "cell_type": "markdown",
   "metadata": {},
   "source": [
    "- Convert the **class** variables in **dummy variables** such that can be used as predictors (**one hot feature**)"
   ]
  },
  {
   "cell_type": "code",
   "execution_count": null,
   "metadata": {},
   "outputs": [],
   "source": [
    "expr_data = pd.read_csv(\"train.csv\")\n",
    "def onehot_feature(pd_data, column_name):\n",
    "    col_values = pd_data[column_name].to_numpy().astype('<U')\n",
    "    values, value_idx = np.unique(col_values, return_inverse=True)\n",
    "    n_values = values.size\n",
    "    onehots = np.eye(n_values, n_values)\n",
    "    value_onehot = onehots[value_idx]\n",
    "    pd_data = pd_data.drop(column_name, axis=1)\n",
    "    for i in range(n_values):\n",
    "        pd_data[\"{}_{}\".format(column_name, values[i])] = value_onehot[:, i] \n",
    "    return pd_data\n",
    "expr_data_temp = onehot_feature(expr_data, 'class')\n",
    "print(expr_data_temp.columns)\n",
    "expr_data_temp = expr_data_temp.astype(np.float32)\n",
    "X_full_feat=['DYRK1A_N', 'ITSN1_N', 'BDNF_N', 'NR1_N', 'NR2A_N', 'pAKT_N', 'pBRAF_N',\n",
    "       'pCAMKII_N', 'pCREB_N', 'pELK_N', 'pERK_N', 'pJNK_N', 'PKCA_N',\n",
    "       'pMEK_N', 'pNR1_N', 'pNR2A_N', 'pNR2B_N', 'pPKCAB_N', 'pRSK_N', 'AKT_N',\n",
    "       'BRAF_N', 'CAMKII_N', 'CREB_N', 'ELK_N', 'ERK_N', 'GSK3B_N', 'JNK_N',\n",
    "       'MEK_N', 'TRKA_N', 'RSK_N', 'APP_N', 'Bcatenin_N', 'MTOR_N',\n",
    "       'P38_N', 'pMTOR_N', 'DSCR1_N', 'AMPKA_N', 'NR2B_N', 'pNUMB_N',\n",
    "       'RAPTOR_N', 'TIAM1_N', 'pP70S6_N', 'NUMB_N', 'P70S6_N', 'pGSK3B_N',\n",
    "       'pPKCG_N', 'CDK5_N', 'S6_N', 'ADARB1_N', 'AcetylH3K9_N', 'RRP1_N',\n",
    "       'BAX_N', 'ARC_N', 'ERBB4_N', 'nNOS_N', 'Tau_N', 'GFAP_N', 'GluR3_N',\n",
    "       'GluR4_N', 'IL1B_N', 'P3525_N', 'pCASP9_N', 'PSD95_N', 'SNCA_N',\n",
    "       'Ubiquitin_N', 'pGSK3B_Tyr216_N', 'SHH_N', 'BAD_N', 'pS6_N', 'pCFOS_N',\n",
    "       'SYP_N', 'H3AcK18_N', 'EGR1_N', 'H3MeK4_N', 'CaNA_N', 'class_c-CS-m',\n",
    "       'class_c-CS-s', 'class_c-SC-m', 'class_c-SC-s', 'class_t-CS-m',\n",
    "       'class_t-CS-s', 'class_t-SC-m', 'class_t-SC-s']"
   ]
  },
  {
   "cell_type": "code",
   "execution_count": null,
   "metadata": {
    "scrolled": true
   },
   "outputs": [],
   "source": [
    "print(expr_data.columns)\n",
    "X_full = expr_data_temp[['DYRK1A_N', 'ITSN1_N', 'BDNF_N', 'NR1_N', 'NR2A_N', 'pAKT_N', 'pBRAF_N',\n",
    "       'pCAMKII_N', 'pCREB_N', 'pELK_N', 'pERK_N', 'pJNK_N', 'PKCA_N',\n",
    "       'pMEK_N', 'pNR1_N', 'pNR2A_N', 'pNR2B_N', 'pPKCAB_N', 'pRSK_N', 'AKT_N',\n",
    "       'BRAF_N', 'CAMKII_N', 'CREB_N', 'ELK_N', 'ERK_N', 'GSK3B_N', 'JNK_N',\n",
    "       'MEK_N', 'TRKA_N', 'RSK_N', 'APP_N', 'Bcatenin_N', 'MTOR_N',\n",
    "       'P38_N', 'pMTOR_N', 'DSCR1_N', 'AMPKA_N', 'NR2B_N', 'pNUMB_N',\n",
    "       'RAPTOR_N', 'TIAM1_N', 'pP70S6_N', 'NUMB_N', 'P70S6_N', 'pGSK3B_N',\n",
    "       'pPKCG_N', 'CDK5_N', 'S6_N', 'ADARB1_N', 'AcetylH3K9_N', 'RRP1_N',\n",
    "       'BAX_N', 'ARC_N', 'ERBB4_N', 'nNOS_N', 'Tau_N', 'GFAP_N', 'GluR3_N',\n",
    "       'GluR4_N', 'IL1B_N', 'P3525_N', 'pCASP9_N', 'PSD95_N', 'SNCA_N',\n",
    "       'Ubiquitin_N', 'pGSK3B_Tyr216_N', 'SHH_N', 'BAD_N', 'pS6_N', 'pCFOS_N',\n",
    "       'SYP_N', 'H3AcK18_N', 'EGR1_N', 'H3MeK4_N', 'CaNA_N','class_c-CS-m',\n",
    "       'class_c-CS-s', 'class_c-SC-m', 'class_c-SC-s', 'class_t-CS-m',\n",
    "       'class_t-CS-s', 'class_t-SC-m', 'class_t-SC-s']].to_numpy()\n",
    "y = expr_data_temp[['SOD1_N']].to_numpy()"
   ]
  },
  {
   "cell_type": "code",
   "execution_count": null,
   "metadata": {},
   "outputs": [],
   "source": [
    "mpg_test_size = 0.3\n",
    "mpg_test_seed = 40\n",
    "X_train, X_test, y_train, y_test = train_test_split(X_full, y,\n",
    "                                                    test_size=mpg_test_size, \n",
    "                                                    random_state=mpg_test_seed)\n",
    "print(\"X_train.shape \", X_train.shape)\n",
    "print(\"X_test.shape \", X_test.shape)"
   ]
  },
  {
   "cell_type": "markdown",
   "metadata": {},
   "source": [
    "# - Ridge regression"
   ]
  },
  {
   "cell_type": "code",
   "execution_count": null,
   "metadata": {},
   "outputs": [],
   "source": [
    "from sklearn.linear_model import Lasso\n",
    "from sklearn.linear_model import LinearRegression\n",
    "from sklearn.model_selection import train_test_split\n",
    "from sklearn.metrics import r2_score, mean_squared_error"
   ]
  },
  {
   "cell_type": "markdown",
   "metadata": {},
   "source": [
    "Selection of the hyperparameter lambda (alpha), properly tuned thanks to cross-validation tecnique"
   ]
  },
  {
   "cell_type": "code",
   "execution_count": null,
   "metadata": {},
   "outputs": [],
   "source": [
    "from sklearn.linear_model import Ridge\n",
    "alphas = 10**np.linspace(10,-2,100)*0.5\n",
    "from sklearn.linear_model import Ridge, RidgeCV, Lasso, LassoCV\n",
    "from sklearn.metrics import mean_squared_error\n",
    "ridgecv = RidgeCV(alphas = alphas, scoring = 'neg_mean_squared_error', normalize = True)\n",
    "ridgecv.fit(X_train, y_train)\n",
    "ridgecv.alpha_"
   ]
  },
  {
   "cell_type": "code",
   "execution_count": null,
   "metadata": {},
   "outputs": [],
   "source": [
    "ridge4 = Ridge(alpha = ridgecv.alpha_, normalize = True)\n",
    "ridge4.fit(X_train, y_train)\n",
    "err = mean_squared_error(y_test, ridge4.predict(X_test))\n",
    "r_squared = r2_score(y_test, ridge4.predict(X_test))\n",
    "print('Mean squared error: ', err)\n",
    "print('R2 score: ', r_squared)"
   ]
  },
  {
   "cell_type": "markdown",
   "metadata": {},
   "source": [
    "N.B. For a better estimate of the R2 score , we do cross validation on the training data (done also later for the model found in lasso and forward feature selection)"
   ]
  },
  {
   "cell_type": "code",
   "execution_count": null,
   "metadata": {},
   "outputs": [],
   "source": [
    "mean(cross_val_score(ridgecv, X_full, y, cv=10))"
   ]
  },
  {
   "cell_type": "markdown",
   "metadata": {},
   "source": [
    "# - Lasso regression"
   ]
  },
  {
   "cell_type": "markdown",
   "metadata": {},
   "source": [
    "Selection of the hyperparameter lambda (alpha), properly tuned thanks to cross-validation tecnique"
   ]
  },
  {
   "cell_type": "code",
   "execution_count": null,
   "metadata": {},
   "outputs": [],
   "source": [
    "from sklearn.linear_model import LassoCV\n",
    "lassocv = LassoCV(alphas = None, cv = 10, max_iter = 100000, normalize = True)\n",
    "y_train = np.ravel(y_train)\n",
    "lassocv.fit(X_train, y_train)\n",
    "lassocv.alpha_"
   ]
  },
  {
   "cell_type": "code",
   "execution_count": null,
   "metadata": {},
   "outputs": [],
   "source": [
    "from sklearn import linear_model\n",
    "\n",
    "err = mean_squared_error(y_test, lassocv.predict(X_test))\n",
    "r_squared = r2_score(y_test, lassocv.predict(X_test))\n",
    "print('Mean squared error: ', err)\n",
    "print('R2 score: ', r_squared)"
   ]
  },
  {
   "cell_type": "code",
   "execution_count": null,
   "metadata": {},
   "outputs": [],
   "source": [
    "mean(cross_val_score(lassocv, X_full, y, cv=10))"
   ]
  },
  {
   "cell_type": "markdown",
   "metadata": {},
   "source": [
    "# - Linear regression with feature selection "
   ]
  },
  {
   "cell_type": "markdown",
   "metadata": {},
   "source": [
    "### Forward stepwise with cross validation "
   ]
  },
  {
   "cell_type": "markdown",
   "metadata": {},
   "source": [
    "I have chosen forward because best subset selection in this case is computationally infeasible (2^p models)"
   ]
  },
  {
   "cell_type": "code",
   "execution_count": null,
   "metadata": {},
   "outputs": [],
   "source": [
    "def get_sigma_scorer(metric, sigma):\n",
    "    def scorer(model, X, y):\n",
    "        n, d = X.shape\n",
    "        y_pred = model.predict(X)\n",
    "        return metric(y_pred, y, n, d, sigma)\n",
    "    \n",
    "    return scorer\n",
    "def get_evaluator(scorer):\n",
    "    def evaluator(model, X, y, trained=False):\n",
    "        if not trained:\n",
    "            model = model.fit(X, y)\n",
    "        score = scorer(model, X, y)\n",
    "        return model, score\n",
    "    return evaluator \n",
    "def get_cv_evaluator(scorer, cv=3):\n",
    "    def evaluator(model, X, y, trained=False):            \n",
    "        scores = cross_val_score(model, X, y, scoring=scorer, cv=cv)\n",
    "        if not trained:\n",
    "            model = model.fit(X, y)\n",
    "        return model, np.mean(scores)\n",
    "    \n",
    "    return evaluator\n",
    "\n",
    "def get_val_evaluator(scorer, val_size=0.1):\n",
    "    def evaluator(model, X, y, trained=False):\n",
    "        X_train_small, X_val, y_train_small, y_val = train_test_split(X, y, \n",
    "                                                                      test_size=val_size,\n",
    "                                                                      random_state=mpg_test_seed)\n",
    "        \n",
    "        if not trained:\n",
    "            model = model.fit(X_train_small, y_train_small)\n",
    "        score = scorer(model, X_val, y_val) \n",
    "        \n",
    "        return model, score\n",
    "    \n",
    "    return evaluator"
   ]
  },
  {
   "cell_type": "code",
   "execution_count": null,
   "metadata": {},
   "outputs": [],
   "source": [
    "def estimate_sigma(Xtrain_pd, ytrain):\n",
    "    n, p = Xtrain_pd.shape\n",
    "    model = LinearRegression(fit_intercept=True)\n",
    "    model.fit(Xtrain_pd, ytrain)\n",
    "    y_pred = model.predict(Xtrain_pd)\n",
    "    RSS = rss(y_pred, ytrain)\n",
    "    RSE = np.sqrt(RSS / (n-p))\n",
    "    return RSE\n",
    "\n",
    "def cp(y_pred, y_true, n, d, sigma):\n",
    "    sigma2 = sigma**2\n",
    "    return (rss(y_pred, y_true) + 2*d*sigma2) / n\n",
    "\n",
    "def aic(y_pred, y_true, n, d, sigma):\n",
    "    sigma2 = sigma**2\n",
    "    return (rss(y_pred, y_true) + 2*d*sigma2) / (n*sigma2)\n",
    "\n",
    "def bic(y_pred, y_true, n, d, sigma):\n",
    "    sigma2 = sigma**2\n",
    "    return (rss(y_pred, y_true) + np.log(n)*d*sigma2) / (n*sigma2)\n",
    "\n",
    "def adj_r2(y_pred, y_true, n, d, sigma):\n",
    "    sigma2 = sigma**2\n",
    "    RSS = rss(y_pred, y_true)\n",
    "    TSS = tss(y_true)\n",
    "    return 1 - (RSS/(n-d-1)) / (TSS/(n-1))"
   ]
  },
  {
   "cell_type": "code",
   "execution_count": null,
   "metadata": {},
   "outputs": [],
   "source": [
    "from scipy.stats import t, f\n",
    "\n",
    "def rss(y_true, y_pred):\n",
    "    y_true = y_true.reshape(y_pred.shape)\n",
    "    return np.sum((y_true - y_pred) ** 2)\n",
    "\n",
    "def tss(y):\n",
    "    return np.sum((y - y.mean()) ** 2)\n",
    "\n",
    "def multiple_least_squares(X, y):\n",
    "    model = LogisticRegression(fit_intercept=True)\n",
    "    model.fit(X, y)\n",
    "    y_pred = model.predict(X)\n",
    "    betas = [model.intercept_, *model.coef_]\n",
    "    return betas, y_pred\n",
    "\n",
    "def show_stats(X, y, betas, names, alpha=None):\n",
    "    n_samples, n_features = X.shape\n",
    "    deg = n_samples-n_features\n",
    "    \n",
    "    if X.shape[1] + 1 == betas.shape[0]:\n",
    "        X = np.concatenate([np.ones([X.shape[0], 1]), X], axis=-1)\n",
    "    \n",
    "    pred = X.dot(betas).reshape(-1)\n",
    "    betas = betas.reshape(-1)\n",
    "    y = y.reshape(-1)\n",
    "    RSE = ((y-pred)**2).sum()/(n_samples - n_features)\n",
    "\n",
    "    se2_b = RSE*(np.linalg.inv(np.dot(X.T, X)).diagonal())\n",
    "    se_b = np.sqrt(se2_b)\n",
    "    t_stat_b = (betas - 0) / se_b\n",
    "\n",
    "    p_values = np.array([2*t.sf(np.abs(t_stat), deg) for t_stat in t_stat_b])\n",
    "    \n",
    "    df = pd.DataFrame()\n",
    "    df[\"Name\"] = names\n",
    "    df[\"Coefficients\"] = betas\n",
    "    df[\"Standard Errors\"] = se_b\n",
    "    df[\"t-stat\"] = t_stat_b\n",
    "    df[\"p-value\"] = p_values\n",
    "    if alpha:\n",
    "        rejectH0 = p_values < alpha\n",
    "        df[\"reject H0\"] = rejectH0    \n",
    "    \n",
    "    RSS = np.sum((y - pred)**2)\n",
    "    MSE = RSS/y.shape[0]\n",
    "    \n",
    "    return df\n",
    "    \n",
    "def Ftest_restricted(data, y, subset_features):\n",
    "    X_complete = data.to_numpy()\n",
    "    y = y.to_numpy()\n",
    "    n = X_complete.shape[0]\n",
    "    \n",
    "    betas_complete, y_pred = multiple_least_squares(X_complete, y)    \n",
    "    rss_complete = rss(y, y_pred)\n",
    "    nf_complete = X_complete.shape[1]\n",
    "\n",
    "    notS = data.columns.difference(subset_features)\n",
    "    X_restr = data[notS].to_numpy()\n",
    "    betas_restr, y_pred = multiple_least_squares(X_restr, y)\n",
    "\n",
    "    rss_restr = rss(y, y_pred)\n",
    "    nf_restr = X_restr.shape[1]\n",
    "\n",
    "    q = nf_complete - nf_restr\n",
    "\n",
    "    F_num = (rss_restr - rss_complete) / q\n",
    "    F_den = rss_complete / (n - nf_complete - 1)\n",
    "    F = F_num / F_den\n",
    "\n",
    "    p_value = f.sf(F, q, n - nf_complete - 1)\n",
    "    return p_value, F"
   ]
  },
  {
   "cell_type": "code",
   "execution_count": null,
   "metadata": {},
   "outputs": [],
   "source": [
    "from sklearn.dummy import DummyRegressor\n",
    "\n",
    "def forward_selection(Xtrain_pd, ytrain, Xtest_pd, ytest,\n",
    "                      candidates_evaluator, candidates_argbest, \n",
    "                      subsets_evaluator, subsets_argbest,       \n",
    "                      test_evaluator=None, test_argbest=None,\n",
    "                      candidates_scorer_name=None,  \n",
    "                      subsets_scorer_name=None,     \n",
    "                      verbose=True, weight_step3=0):   \n",
    "    test_evaluator = subsets_evaluator if not test_evaluator else test_evaluator\n",
    "    test_argbest = subsets_argbest if not test_argbest else test_argbest\n",
    "    num_features = Xtrain_pd.shape[-1]\n",
    "    best_candidate_metric = []\n",
    "    \n",
    "    subsets_test = []\n",
    "    subsets_metric = []        \n",
    "    subsets_best_features = [] \n",
    "    \n",
    "    plt.figure()\n",
    "    candidate_fig = plt.subplot(111) \n",
    "    num_evaluations = 0        \n",
    "    \n",
    "    selected_features = []\n",
    "    all_features = Xtrain_pd.columns\n",
    "    \n",
    "    model = DummyRegressor()\n",
    "    model, score = candidates_evaluator(model, Xtrain_pd[[]], ytrain)\n",
    "    best_candidate_metric.append(score)\n",
    "    subsets_best_features.append([])\n",
    "    _ = candidate_fig.scatter([0], [score], color=\"b\")\n",
    "    _, score = subsets_evaluator(model, Xtrain_pd[[]], ytrain, trained=True)\n",
    "    subsets_metric.append(score)\n",
    "    _, score = test_evaluator(model, Xtrain_pd[[]], ytrain, trained=True)\n",
    "    subsets_test.append(score)\n",
    "\n",
    "    for dim in range(len(all_features)):\n",
    "        candidate_metrics = [] \n",
    "        candidate_models = []  \n",
    "\n",
    "        remaining_features = all_features.difference(selected_features)\n",
    "        \n",
    "        for new_column in remaining_features:\n",
    "            Xtrain_sub = Xtrain_pd[selected_features+[new_column]].to_numpy()\n",
    "            model = LinearRegression(fit_intercept=True)\n",
    "            model, score = candidates_evaluator(model, Xtrain_sub, ytrain)\n",
    "            candidate_models.append(model)\n",
    "            candidate_metrics.append(score)\n",
    "            num_evaluations += 1\n",
    "            \n",
    "        _ = candidate_fig.scatter([Xtrain_sub.shape[-1]]*len(candidate_metrics), candidate_metrics,\n",
    "                                  color=\"b\")\n",
    "            \n",
    "    \n",
    "        idx_best_candidate = candidates_argbest(candidate_metrics)\n",
    "    \n",
    "        selected_features.append(remaining_features[idx_best_candidate])\n",
    "\n",
    "        best_candidate_metric.append(candidate_metrics[idx_best_candidate])\n",
    "        best_features = selected_features.copy()\n",
    "        subsets_best_features.append(best_features)\n",
    "        \n",
    "\n",
    "        best_subset_model = candidate_models[idx_best_candidate]\n",
    "        best_subset_Xtrain = Xtrain_pd[best_features].to_numpy()\n",
    "        _, score = subsets_evaluator(best_subset_model, best_subset_Xtrain, ytrain, trained=True)\n",
    "        subsets_metric.append(score)\n",
    "        best_subset_Xtest = Xtest_pd[best_features].to_numpy()\n",
    "        _, score = test_evaluator(best_subset_model, best_subset_Xtest, ytest, trained=True)\n",
    "        subsets_test.append(score)\n",
    "        num_evaluations += weight_step3 \n",
    "        \n",
    "        if verbose:\n",
    "            print(\"............\")\n",
    "            print(\"Best model (M{}) with {} features: {}\".format(dim, dim, best_features))\n",
    "            print(\"M{} subset score (3.): {}\".format(dim, score))\n",
    "        \n",
    "    best_subset_idx = subsets_argbest(subsets_metric)\n",
    "    best_features = subsets_best_features[best_subset_idx]\n",
    "    \n",
    "    if verbose:\n",
    "        print(\"\\n\\nBest configuration has {} features\".format(best_subset_idx))\n",
    "        print(\"Features: {}\".format(subsets_best_features[best_subset_idx]))\n",
    "        print(\"Total number of trained models:\", num_evaluations)\n",
    "    \n",
    "    best_candidate_score_idx = candidates_argbest(best_candidate_metric)\n",
    "    _ = candidate_fig.plot(range(len(best_candidate_metric)), best_candidate_metric)\n",
    "    _ = candidate_fig.scatter(best_candidate_score_idx, best_candidate_metric[best_candidate_score_idx],\n",
    "                              marker='X', label=\"Best\", color=\"r\")\n",
    "    candidate_fig.set_title(candidates_scorer_name)\n",
    "    candidate_fig.legend()\n",
    "    \n",
    "    plt.figure()\n",
    "    subsets_fig = plt.subplot(111)\n",
    "    _ = subsets_fig.plot(range(len(subsets_metric)), subsets_metric, label=\"Selection (3.) scores\")\n",
    "    _ = subsets_fig.scatter(best_subset_idx, subsets_metric[best_subset_idx],\n",
    "                              marker='X', label=\"Best (3.) score\", color=\"r\")\n",
    "    best_test_score_idx = test_argbest(subsets_test)\n",
    "    _ = subsets_fig.plot(range(len(subsets_test)), subsets_test, label=\"Test scores\")\n",
    "    _ = subsets_fig.scatter(best_test_score_idx, subsets_test[best_test_score_idx],\n",
    "                              marker='X', label=\"Best test score\", color=\"y\")\n",
    "    subsets_fig.set_title(subsets_scorer_name)\n",
    "    subsets_fig.legend()"
   ]
  },
  {
   "cell_type": "code",
   "execution_count": null,
   "metadata": {},
   "outputs": [],
   "source": [
    "from sklearn.metrics import r2_score, mean_squared_error\n",
    "from sklearn.linear_model import LinearRegression\n",
    "from sklearn.model_selection import cross_val_score\n",
    "from sklearn.metrics import make_scorer"
   ]
  },
  {
   "cell_type": "markdown",
   "metadata": {},
   "source": [
    "Covert back from numpy arrays to data frames so that we can use names to index features"
   ]
  },
  {
   "cell_type": "code",
   "execution_count": null,
   "metadata": {},
   "outputs": [],
   "source": [
    "X_train_pd = pd.DataFrame(X_train, columns=X_full_feat)\n",
    "X_test_pd = pd.DataFrame(X_test, columns=X_full_feat)"
   ]
  },
  {
   "cell_type": "code",
   "execution_count": null,
   "metadata": {
    "scrolled": false
   },
   "outputs": [],
   "source": [
    "sigma = estimate_sigma(X_train_pd, y_train)\n",
    "forward_selection(X_train_pd, y_train, X_test_pd, y_test,\n",
    "                   get_evaluator(make_scorer(r2_score)), np.argmax, \n",
    "                  get_cv_evaluator(make_scorer(r2_score), cv=10), np.argmax, \n",
    "                  get_evaluator(make_scorer(r2_score)), np.argmax, \n",
    "                  candidates_scorer_name=\"cv(R^2)\",\n",
    "                  subsets_scorer_name=\"cv(R^2)\",\n",
    "                  verbose=True, weight_step3=10)"
   ]
  },
  {
   "cell_type": "markdown",
   "metadata": {},
   "source": [
    "| Feature selection method   |    R^2 CV    | \n",
    "|----------------------------|--------------|\n",
    "| Ridge regression           |  0.7772      |\n",
    "| Lasso regression           |  0.7923      |    \n",
    "| Forward stepwise selection |  0.8198      |   \n"
   ]
  },
  {
   "cell_type": "markdown",
   "metadata": {},
   "source": [
    "As we see from the values of R^2 the algorithm that performs better is **forward stepwise selection**, in this case is able to reduce the number of features to **24**, the **lasso regression** reduces to **54**, **ridge** has the lowest value of R^2 becuase maintains **all** the features. \n",
    "\n",
    "So Forward stepwise selection works well because is able to reduce the variance of the model, gaining in performance in prediction.\n",
    "\n",
    "Best subset selection could have been better than forward stepwise selection because forward is a greedy approach, but computational requirements of best subset selection are not supported by this device (MemoryError)."
   ]
  },
  {
   "cell_type": "markdown",
   "metadata": {},
   "source": [
    "## - Polynomial regression"
   ]
  },
  {
   "cell_type": "markdown",
   "metadata": {},
   "source": [
    "Try to find if we can **improve** the **reduced model** found with forward stepwise selection (linear regression). \n",
    "\n",
    "With cross-validation tecniques find the best degree for the model such that the MSE is lowest possible. In cross-validation approach, the training data are divided into training set, validation set and test set. First the model is trained on the training set, test on the validation set to find the best degree parameter (tune the hyperparameter: choose the model with the degree that gives the lowest mean squared error), train again using the set composed by training and validation set, and test on the test set."
   ]
  },
  {
   "cell_type": "code",
   "execution_count": null,
   "metadata": {},
   "outputs": [],
   "source": [
    "from sklearn.preprocessing import PolynomialFeatures\n",
    "expr_data = pd.read_csv(\"train.csv\")\n",
    "def onehot_feature(pd_data, column_name):\n",
    "    col_values = pd_data[column_name].to_numpy().astype('<U')\n",
    "    values, value_idx = np.unique(col_values, return_inverse=True)\n",
    "    n_values = values.size\n",
    "    onehots = np.eye(n_values, n_values)\n",
    "    value_onehot = onehots[value_idx]\n",
    "    pd_data = pd_data.drop(column_name, axis=1)\n",
    "    for i in range(n_values):\n",
    "        pd_data[\"{}_{}\".format(column_name, values[i])] = value_onehot[:, i] \n",
    "    return pd_data\n",
    "expr_data_temp = onehot_feature(expr_data, 'class')\n",
    "print(expr_data_temp.columns)\n",
    "expr_data_temp = expr_data_temp.astype(np.float32)\n",
    "X_forw_feat = ['pERK_N', 'Bcatenin_N', 'pPKCAB_N', 'Tau_N', 'class_c-SC-s', 'MTOR_N', 'ADARB1_N', 'pCAMKII_N', 'AcetylH3K9_N', 'class_t-SC-s', 'pPKCG_N', 'AMPKA_N', 'class_c-SC-m', 'class_t-SC-m', 'pNR1_N', 'BAX_N', 'class_t-CS-s', 'pNR2A_N', 'MEK_N', 'pCASP9_N', 'SNCA_N', 'H3MeK4_N', 'IL1B_N', 'CAMKII_N']\n",
    "X_forw = expr_data_temp[X_forw_feat].to_numpy()\n",
    "y = expr_data_temp[['SOD1_N']].to_numpy()\n",
    "\n",
    "X_train_small, X_test_small, y_train, y_test = train_test_split(X_forw, y,\n",
    "                                                                test_size=mpg_test_size, \n",
    "                                                                random_state=mpg_test_seed)\n",
    "\n",
    "X_trainR_small, X_val_small, y_trainR, y_val = train_test_split(X_train_small, y_train, \n",
    "                                                                test_size=y_test.shape[0],\n",
    "                                                                random_state=mpg_test_seed)"
   ]
  },
  {
   "cell_type": "markdown",
   "metadata": {},
   "source": [
    "Hyperparameters selection"
   ]
  },
  {
   "cell_type": "code",
   "execution_count": null,
   "metadata": {},
   "outputs": [],
   "source": [
    "from sklearn.pipeline import Pipeline\n",
    "\n",
    "degree = list(range(1,5))\n",
    "test_scores = np.zeros(len(degree))\n",
    "val_scores = np.zeros(len(degree))\n",
    "train_scores = np.zeros(len(degree))\n",
    "\n",
    "for i, d in enumerate(degree):\n",
    "    \n",
    "    model = Pipeline([('poly', PolynomialFeatures(degree=d, include_bias=False)),\n",
    "                      ('linear', LinearRegression(fit_intercept=True))])\n",
    "    \n",
    "    model = model.fit(X_trainR_small, y_trainR)\n",
    "    \n",
    "    y_predict = model.predict(X_val_small)\n",
    "    val_score = r2_score(y_val, y_predict)\n",
    "    y_predict = model.predict(X_test_small)\n",
    "    test_score = r2_score(y_test, y_predict)\n",
    "    y_predict = model.predict(X_trainR_small)\n",
    "    train_score = r2_score(y_trainR, y_predict)\n",
    "    \n",
    "    val_scores[i] = val_score\n",
    "    test_scores[i] = test_score\n",
    "    train_scores[i] = train_score\n",
    "    \n",
    "best_model_idx = np.argmax(val_scores)\n",
    "best_degree = degree[best_model_idx]\n",
    "best_val_score = val_scores[best_model_idx]\n",
    "print(\"Best degree: \", best_degree,\n",
    "      \"\\nVal score: \", best_val_score)\n",
    "    \n",
    "model = Pipeline([('poly', PolynomialFeatures(degree=best_degree, include_bias=False)),\n",
    "                  ('linear', LinearRegression(fit_intercept=True))])\n",
    "model = model.fit(X_train_small, y_train)\n",
    "y_predict = model.predict(X_test_small)\n",
    "test_score = r2_score(y_test, y_predict)\n",
    "\n",
    "print(\"Test score:\", test_score)"
   ]
  },
  {
   "cell_type": "markdown",
   "metadata": {},
   "source": [
    "## 4. a After having found the right model, predict the expression values of the protein, such that the column in test data is filled "
   ]
  },
  {
   "cell_type": "markdown",
   "metadata": {},
   "source": [
    "The best model has degree equal to 1, we train this model and we predict the missing expression values of SOD1_N in the test data."
   ]
  },
  {
   "cell_type": "code",
   "execution_count": null,
   "metadata": {},
   "outputs": [],
   "source": [
    "X_forw_feat = ['pERK_N', 'Bcatenin_N', 'pPKCAB_N', 'Tau_N', 'class_c-SC-s', 'MTOR_N', 'ADARB1_N', 'pCAMKII_N', 'AcetylH3K9_N', 'class_t-SC-s', 'pPKCG_N', 'AMPKA_N', 'class_c-SC-m', 'class_t-SC-m', 'pNR1_N', 'BAX_N', 'class_t-CS-s', 'pNR2A_N', 'MEK_N', 'pCASP9_N', 'SNCA_N', 'H3MeK4_N', 'IL1B_N', 'CAMKII_N']\n",
    "X_forw = expr_data_temp[['pERK_N', 'Bcatenin_N', 'pPKCAB_N', 'Tau_N', 'class_c-SC-s', 'MTOR_N', 'ADARB1_N', 'pCAMKII_N', 'AcetylH3K9_N', 'class_t-SC-s', 'pPKCG_N', 'AMPKA_N', 'class_c-SC-m', 'class_t-SC-m', 'pNR1_N', 'BAX_N', 'class_t-CS-s', 'pNR2A_N', 'MEK_N', 'pCASP9_N', 'SNCA_N', 'H3MeK4_N', 'IL1B_N', 'CAMKII_N']]\n",
    "y = expr_data_temp[['SOD1_N']].to_numpy()"
   ]
  },
  {
   "cell_type": "code",
   "execution_count": null,
   "metadata": {},
   "outputs": [],
   "source": [
    "model = Pipeline([('linear', LinearRegression(fit_intercept=True))])\n",
    "model.fit(X_forw, y)\n",
    "mean(cross_val_score(model, X_forw, y, cv=10))"
   ]
  },
  {
   "cell_type": "code",
   "execution_count": null,
   "metadata": {},
   "outputs": [],
   "source": [
    "expr_data_test = pd.read_csv(\"test.csv\")\n",
    "def onehot_feature(pd_data, column_name):\n",
    "    col_values = pd_data[column_name].to_numpy().astype('<U')\n",
    "    values, value_idx = np.unique(col_values, return_inverse=True)\n",
    "    n_values = values.size\n",
    "    onehots = np.eye(n_values, n_values)\n",
    "    value_onehot = onehots[value_idx]\n",
    "    pd_data = pd_data.drop(column_name, axis=1)\n",
    "    for i in range(n_values):\n",
    "        pd_data[\"{}_{}\".format(column_name, values[i])] = value_onehot[:, i] \n",
    "    return pd_data\n",
    "expr_test_temp = onehot_feature(expr_data_test, 'class')\n",
    "expr_test_temp = expr_test_temp[X_forw_feat] #selection, also in the test data, of the relevant features"
   ]
  },
  {
   "cell_type": "code",
   "execution_count": null,
   "metadata": {},
   "outputs": [],
   "source": [
    "y_predict = model.predict(expr_test_temp)\n",
    "y_predict = y_predict.astype(list)\n",
    "y_predict"
   ]
  },
  {
   "cell_type": "markdown",
   "metadata": {},
   "source": [
    "Insert the column of SOD1 protein expression in the test set"
   ]
  },
  {
   "cell_type": "code",
   "execution_count": null,
   "metadata": {},
   "outputs": [],
   "source": [
    "expr_test_temp['SOD1'] = y_predict"
   ]
  },
  {
   "cell_type": "markdown",
   "metadata": {},
   "source": [
    "## 4.b Determine if the test performance of the best model found at step (2.) improves if the SOD1_N feature is also used for prediction (and training)."
   ]
  },
  {
   "cell_type": "markdown",
   "metadata": {},
   "source": [
    "Train the most performant model found in classification, with the whole training set (also SOD1 protein), in particular we have used the training data with the relevant proteins that we have found in feature selection + the SOD1_N protein."
   ]
  },
  {
   "cell_type": "code",
   "execution_count": null,
   "metadata": {},
   "outputs": [],
   "source": [
    "expr_data = pd.read_csv(\"train.csv\")\n",
    "expr_data['class'] = expr_data['class'].replace({'t-CS-m':0 ,'t-CS-s' : 1 , 'c-CS-s' : 2, 'c-SC-s' : 3, 'c-CS-m' : 4, 'c-SC-m':5, 't-SC-s' : 6, 't-SC-m' : 7})\n",
    "from sklearn.model_selection import train_test_split\n",
    "split_seed = 42\n",
    "split_test_size = 0.2\n",
    "X_full_feat = ['BRAF_N', 'pPKCG_N', 'pCAMKII_N', 'Tau_N', 'NUMB_N', 'ADARB1_N', 'pERK_N', 'AMPKA_N', 'ERBB4_N', 'GluR3_N', 'BDNF_N', 'MTOR_N', 'APP_N', 'AKT_N', 'SOD1_N'] \n",
    "X_full=expr_data[X_full_feat]\n",
    "y=expr_data['class']\n",
    "X_full_train, X_full_test, y_train, y_test = train_test_split(X_full, y,\n",
    "                                                    test_size=split_test_size, \n",
    "                                                    random_state=split_seed)"
   ]
  },
  {
   "cell_type": "markdown",
   "metadata": {},
   "source": [
    "Train the model"
   ]
  },
  {
   "cell_type": "code",
   "execution_count": null,
   "metadata": {},
   "outputs": [],
   "source": [
    "from sklearn.svm import SVC\n",
    "model = Pipeline([('poly', PolynomialFeatures(degree=2)),\n",
    "    ('lda', LDA(store_covariance=True))])"
   ]
  },
  {
   "cell_type": "code",
   "execution_count": null,
   "metadata": {},
   "outputs": [],
   "source": [
    "model.fit(X_full_train, y_train)"
   ]
  },
  {
   "cell_type": "markdown",
   "metadata": {},
   "source": [
    "Test the model with test data, in test data are select the features used for training (the SOD1_N protein column has been added, thanks to the prediction done previously with regression)"
   ]
  },
  {
   "cell_type": "code",
   "execution_count": null,
   "metadata": {},
   "outputs": [],
   "source": [
    "expr_data2 = pd.read_csv(\"test.csv\")\n",
    "expr_data2['SOD1_N'] = y_predict\n",
    "expr_data2['class'] = expr_data2['class'].replace({'t-CS-m':0 ,'t-CS-s' : 1 , 'c-CS-s' : 2, 'c-SC-s' : 3, 'c-CS-m' : 4, 'c-SC-m':5, 't-SC-s' : 6, 't-SC-m' : 7})\n",
    "split_seed = 42\n",
    "split_test_size = 0.2\n",
    "X_full_feat = ['BRAF_N', 'pPKCG_N', 'pCAMKII_N', 'Tau_N', 'NUMB_N', 'ADARB1_N', 'pERK_N', 'AMPKA_N', 'ERBB4_N', 'GluR3_N', 'BDNF_N', 'MTOR_N', 'APP_N', 'AKT_N', 'SOD1_N'] \n",
    "X_test=expr_data2[X_full_feat]\n",
    "y_test=expr_data2['class']"
   ]
  },
  {
   "cell_type": "code",
   "execution_count": null,
   "metadata": {},
   "outputs": [],
   "source": [
    "cm = confusion_matrix(y_test, model.predict(X_test))\n",
    "print(\"Sensitivity \", sensitivity(cm))\n",
    "print(\"Specificity \", specificity(cm))\n",
    "print(\"Precision \", precision(cm))\n",
    "print(\"F1-score\", f1(cm))"
   ]
  },
  {
   "cell_type": "code",
   "execution_count": null,
   "metadata": {},
   "outputs": [],
   "source": [
    "test_acc = accuracy_score(model.predict(X_test), y_test)\n",
    "print(\"Accuracy\", test_acc)"
   ]
  },
  {
   "cell_type": "markdown",
   "metadata": {},
   "source": [
    "|                | Sensitivity | Specificity | Precision | F1-score | Accuracy |\n",
    "|----------------|------------ |-------------|-----------|----------|-----------\n",
    "| Without SOD1_N |   0.9091    |   0.9091    |  0.9375   |  0.9231  |  0.9061  |\n",
    "| With SOD1_N    |   0.7879    |   0.8788    |  0.8667   |  0.8254  |  0.8776  |\n",
    "\n",
    "Adding SOD1_protein to train the model, decreases the performance of the model in prediction. The classification model with SOD1_N overfits the data."
   ]
  }
 ],
 "metadata": {
  "kernelspec": {
   "display_name": "Python 3",
   "language": "python",
   "name": "python3"
  },
  "language_info": {
   "codemirror_mode": {
    "name": "ipython",
    "version": 3
   },
   "file_extension": ".py",
   "mimetype": "text/x-python",
   "name": "python",
   "nbconvert_exporter": "python",
   "pygments_lexer": "ipython3",
   "version": "3.6.9"
  }
 },
 "nbformat": 4,
 "nbformat_minor": 4
}
